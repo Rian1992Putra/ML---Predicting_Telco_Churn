{
 "cells": [
  {
   "cell_type": "markdown",
   "id": "c4aff400-6b7e-4b31-8099-6b321ad2859f",
   "metadata": {},
   "source": [
    "# **Capstone Project - Module 3**\n",
    "\n",
    "- Rian Pratama Putra\n",
    "- Theme : Telco Customer Churn"
   ]
  },
  {
   "cell_type": "markdown",
   "id": "81751342-2c2a-4b69-be9a-e70446af669b",
   "metadata": {},
   "source": [
    "## Business Problem Understanding"
   ]
  },
  {
   "cell_type": "markdown",
   "id": "13c36baf-e807-44b8-b005-a02c9c484f9f",
   "metadata": {
    "tags": []
   },
   "source": [
    "**Latar Belakang**\n",
    "\n",
    "Sebuah perusahaan yang bergerak di bidang telekomunikasi ingin meningkatkan profit serta mengurangi kerugian dengan menugaskan salah satu pegawainya untuk melakukan analisa dan pengolahan data untuk dapat menghasilkan kesimpulan yang dapat membantu dalam pembuatan kebijakan/produk/layanan yang lebih baik. Perusahaan memiliki data terkait 'Customer Churn' dan ingin melakukan prediksi terhadap pelanggan mana yang akan tetap berlangganan dan pelanggan yang akan berhenti berlangganan.\n",
    "\n",
    "\n",
    "Target :\n",
    "\n",
    "0 : Pelanggan yang masih berlangganan/tidak churn\n",
    "\n",
    "1 : Pelanggan yang berhenti berlangganan/churn"
   ]
  },
  {
   "cell_type": "markdown",
   "id": "b1d0de4c-ce44-4243-b811-8ac96d4c6d5c",
   "metadata": {
    "tags": []
   },
   "source": [
    "**Rumusan Masalah :**\n",
    "\n",
    "Ditemukannya sejumlah pelanggan yang berhenti berlangganan berdasarkan data 'Customer Churn'. Apabila perusahaan salah melakukan prediksi terhadap pelanggan, sebagai contoh pelanggan diprediksi akan berhenti berlangganan namun ternyata pelanggan tersebut tetap berlangganan maka alokasi sumber daya akan tidak efektif. Sebaliknya apabila pelanggan diprediksi akan tetap berlangganan namun ternyata pelanggan tersebut berhenti berlangganan maka perusahaan akan kehilangan jumlah pelanggan dan akan mempengaruhi profit perusahaan.\n",
    "\n",
    "\n",
    "**Tujuan :**\n",
    "\n",
    "Berdasarkan permasalahan yang ada, perusahaan ingin memiliki kemampuan untuk memprediksi kemungkinan seorang pelanggan akan tetap berlangganan atau tidak.\n",
    "Lalu perusahaan juga ingin mengetahui faktor/variabel apa yang membuat seorang pelanggan akan tetap berlangganan atau tidak sehingga dapat membuat kebijakan/produk/layanan yang sesuai dengan kebutuhan pelanggan.\n",
    "\n",
    "\n",
    "**Pendekatan Analisis :**\n",
    "\n",
    "Melakukan analisis data untuk menemukan pola yang membedakan pelanggan yang tetap berlangganan dengan yang tidak.\n",
    "Selanjutnya akan dibuat model klasifikasi yang akan membantu perusahaan untuk dapat memprediksi kemungkinan seorang pelanggan akan tetap berlangganan atau tidak.\n",
    "\n",
    "\n",
    "**Metrik Evaluasi :**\n",
    "\n",
    "Metrik evaluasi yang akan digunakan adalah ROC AUC karena untuk mengukur performa model secara keseluruhan dengan memberikan gambaran keseluruhan tentang kemampuan model dalam memisahkan kelas positif dan negatif. Selain itu perlu juga untuk meminimalisir false positive dan false negative agar lebih seimbang.\n",
    "\n",
    "False Positive  : \n",
    "Pelanggan yang diprediksi akan berhenti berlangganan tetapi kenyataannya tetap berlangganan. Konsekuensinya adalah alokasi sumber daya yang tidak efektif (contoh = pemberian diskon tidak tepat sasaran).\n",
    "\n",
    "False Negative  :\n",
    "Pelanggan yang diprediksi akan tetap berlangganan tetapi kenyataannya berhenti berlangganan. Konsekuensinya adalah kehilangan jumlah pelanggan yang akan berdampak pada penurunan profit."
   ]
  },
  {
   "cell_type": "code",
   "execution_count": null,
   "id": "2f7a8532-cfbc-4edc-9f22-c33938a731df",
   "metadata": {},
   "outputs": [],
   "source": []
  },
  {
   "cell_type": "markdown",
   "id": "4fa19dce-ccc5-48c0-8dbf-51902157d6c0",
   "metadata": {
    "tags": []
   },
   "source": [
    "## Data Understanding"
   ]
  },
  {
   "cell_type": "markdown",
   "id": "7ea72736-6ef6-4529-b5d0-253d1939a127",
   "metadata": {
    "tags": []
   },
   "source": [
    "Pada tahap awal yang perlu dilakukan adalah mengenali dan memahami karakteristik data sehingga kita dapat melihat gambaran data secara umum agar dapat memudahkan kita dalam tahap selanjutnya yaitu Data Cleaning."
   ]
  },
  {
   "cell_type": "code",
   "execution_count": 2,
   "id": "3452e0c7-ce62-461e-80ee-81d3b2ca01c9",
   "metadata": {
    "tags": []
   },
   "outputs": [],
   "source": [
    "# Library\n",
    "import pandas as pd\n",
    "import numpy as np\n",
    "\n",
    "# Visualization\n",
    "import matplotlib.pyplot as plt\n",
    "import seaborn as sns\n",
    "from IPython.display import display\n",
    "import missingno as msno\n",
    "\n",
    "# Feature Engineering\n",
    "from sklearn.pipeline import Pipeline\n",
    "from sklearn.preprocessing import OneHotEncoder, RobustScaler, LabelEncoder\n",
    "from sklearn.compose import ColumnTransformer\n",
    "import category_encoders as ce\n",
    "\n",
    "# Model Selection\n",
    "from sklearn.linear_model import LogisticRegression\n",
    "from sklearn.tree import DecisionTreeClassifier\n",
    "from sklearn.model_selection import GridSearchCV, StratifiedKFold, train_test_split, cross_val_score\n",
    "from sklearn.metrics import classification_report, confusion_matrix\n",
    "from sklearn.neighbors import KNeighborsClassifier\n",
    "from sklearn.ensemble import RandomForestClassifier\n",
    "from xgboost import XGBClassifier\n",
    "import lightgbm as lgb\n",
    "from sklearn.metrics import f1_score, accuracy_score, recall_score, precision_score, roc_auc_score\n",
    "from sklearn.feature_selection import SelectKBest, chi2,mutual_info_classif, f_classif\n",
    "\n",
    "# Imbalance Dataset\n",
    "from imblearn.pipeline import Pipeline\n",
    "from imblearn.over_sampling import SMOTE\n",
    "\n",
    "# Ignore Warning\n",
    "import sys\n",
    "import warnings\n",
    "if not sys.warnoptions:\n",
    "    warnings.simplefilter(\"ignore\")\n",
    "\n",
    "# Set max columns\n",
    "pd.set_option('display.max_columns', None)"
   ]
  },
  {
   "cell_type": "markdown",
   "id": "70b65771-9559-4c78-b2fe-decd54a6fc34",
   "metadata": {
    "tags": []
   },
   "source": [
    "Dataset ini berisi informasi terkait pelanggan yang masih/pernah berlangganan. Ada 11 kolom di dalam dataset Telco Customer Churn, yaitu:  \n",
    "\n",
    "- Dependents: Whether the customer has dependents or not.\n",
    "- Tenure: Number of months the customer has stayed with the company.\n",
    "- OnlineSecurity: Whether the customer has online security or not.\n",
    "- OnlineBackup: Whether the customer has online backup or not.\n",
    "- InternetService: Whether the client is subscribed to Internet service.\n",
    "- DeviceProtection: Whether the client has device protection or not.\n",
    "- TechSupport: Whether the client has tech support or not \n",
    "- Contract: Type of contract according to duration.\n",
    "- PaperlessBilling: Bills issued in paperless form.\n",
    "- MonthlyCharges: Amount of charge for service on monthly bases.\n",
    "- Churn: Whether the customer churns or not.\n"
   ]
  },
  {
   "cell_type": "code",
   "execution_count": 3,
   "id": "34599912-a664-4a64-9a63-627a39655ce1",
   "metadata": {
    "tags": []
   },
   "outputs": [
    {
     "data": {
      "text/html": [
       "<div>\n",
       "<style scoped>\n",
       "    .dataframe tbody tr th:only-of-type {\n",
       "        vertical-align: middle;\n",
       "    }\n",
       "\n",
       "    .dataframe tbody tr th {\n",
       "        vertical-align: top;\n",
       "    }\n",
       "\n",
       "    .dataframe thead th {\n",
       "        text-align: right;\n",
       "    }\n",
       "</style>\n",
       "<table border=\"1\" class=\"dataframe\">\n",
       "  <thead>\n",
       "    <tr style=\"text-align: right;\">\n",
       "      <th></th>\n",
       "      <th>Dependents</th>\n",
       "      <th>tenure</th>\n",
       "      <th>OnlineSecurity</th>\n",
       "      <th>OnlineBackup</th>\n",
       "      <th>InternetService</th>\n",
       "      <th>DeviceProtection</th>\n",
       "      <th>TechSupport</th>\n",
       "      <th>Contract</th>\n",
       "      <th>PaperlessBilling</th>\n",
       "      <th>MonthlyCharges</th>\n",
       "      <th>Churn</th>\n",
       "    </tr>\n",
       "  </thead>\n",
       "  <tbody>\n",
       "    <tr>\n",
       "      <th>0</th>\n",
       "      <td>Yes</td>\n",
       "      <td>9</td>\n",
       "      <td>No</td>\n",
       "      <td>No</td>\n",
       "      <td>DSL</td>\n",
       "      <td>Yes</td>\n",
       "      <td>Yes</td>\n",
       "      <td>Month-to-month</td>\n",
       "      <td>Yes</td>\n",
       "      <td>72.90</td>\n",
       "      <td>Yes</td>\n",
       "    </tr>\n",
       "    <tr>\n",
       "      <th>1</th>\n",
       "      <td>No</td>\n",
       "      <td>14</td>\n",
       "      <td>No</td>\n",
       "      <td>Yes</td>\n",
       "      <td>Fiber optic</td>\n",
       "      <td>Yes</td>\n",
       "      <td>No</td>\n",
       "      <td>Month-to-month</td>\n",
       "      <td>Yes</td>\n",
       "      <td>82.65</td>\n",
       "      <td>No</td>\n",
       "    </tr>\n",
       "    <tr>\n",
       "      <th>2</th>\n",
       "      <td>No</td>\n",
       "      <td>64</td>\n",
       "      <td>Yes</td>\n",
       "      <td>No</td>\n",
       "      <td>DSL</td>\n",
       "      <td>Yes</td>\n",
       "      <td>Yes</td>\n",
       "      <td>Two year</td>\n",
       "      <td>No</td>\n",
       "      <td>47.85</td>\n",
       "      <td>Yes</td>\n",
       "    </tr>\n",
       "    <tr>\n",
       "      <th>3</th>\n",
       "      <td>No</td>\n",
       "      <td>72</td>\n",
       "      <td>Yes</td>\n",
       "      <td>Yes</td>\n",
       "      <td>DSL</td>\n",
       "      <td>Yes</td>\n",
       "      <td>Yes</td>\n",
       "      <td>Two year</td>\n",
       "      <td>No</td>\n",
       "      <td>69.65</td>\n",
       "      <td>No</td>\n",
       "    </tr>\n",
       "    <tr>\n",
       "      <th>4</th>\n",
       "      <td>No</td>\n",
       "      <td>3</td>\n",
       "      <td>No internet service</td>\n",
       "      <td>No internet service</td>\n",
       "      <td>No</td>\n",
       "      <td>No internet service</td>\n",
       "      <td>No internet service</td>\n",
       "      <td>Month-to-month</td>\n",
       "      <td>Yes</td>\n",
       "      <td>23.60</td>\n",
       "      <td>No</td>\n",
       "    </tr>\n",
       "  </tbody>\n",
       "</table>\n",
       "</div>"
      ],
      "text/plain": [
       "  Dependents  tenure       OnlineSecurity         OnlineBackup  \\\n",
       "0        Yes       9                   No                   No   \n",
       "1         No      14                   No                  Yes   \n",
       "2         No      64                  Yes                   No   \n",
       "3         No      72                  Yes                  Yes   \n",
       "4         No       3  No internet service  No internet service   \n",
       "\n",
       "  InternetService     DeviceProtection          TechSupport        Contract  \\\n",
       "0             DSL                  Yes                  Yes  Month-to-month   \n",
       "1     Fiber optic                  Yes                   No  Month-to-month   \n",
       "2             DSL                  Yes                  Yes        Two year   \n",
       "3             DSL                  Yes                  Yes        Two year   \n",
       "4              No  No internet service  No internet service  Month-to-month   \n",
       "\n",
       "  PaperlessBilling  MonthlyCharges Churn  \n",
       "0              Yes           72.90   Yes  \n",
       "1              Yes           82.65    No  \n",
       "2               No           47.85   Yes  \n",
       "3               No           69.65    No  \n",
       "4              Yes           23.60    No  "
      ]
     },
     "execution_count": 3,
     "metadata": {},
     "output_type": "execute_result"
    }
   ],
   "source": [
    "# load dataset\n",
    "df = pd.read_csv(\"data_telco_customer_churn.csv\")\n",
    "df.head(5)"
   ]
  },
  {
   "cell_type": "code",
   "execution_count": 4,
   "id": "3ee8f1a4-3e07-4019-9738-891f25a5ac21",
   "metadata": {
    "tags": []
   },
   "outputs": [
    {
     "name": "stdout",
     "output_type": "stream",
     "text": [
      "Jumlah baris di dataset adalah : 4930\n",
      "Jumlah kolom di dataset adalah : 11\n",
      "\n",
      "<class 'pandas.core.frame.DataFrame'>\n",
      "RangeIndex: 4930 entries, 0 to 4929\n",
      "Data columns (total 11 columns):\n",
      " #   Column            Non-Null Count  Dtype  \n",
      "---  ------            --------------  -----  \n",
      " 0   Dependents        4930 non-null   object \n",
      " 1   tenure            4930 non-null   int64  \n",
      " 2   OnlineSecurity    4930 non-null   object \n",
      " 3   OnlineBackup      4930 non-null   object \n",
      " 4   InternetService   4930 non-null   object \n",
      " 5   DeviceProtection  4930 non-null   object \n",
      " 6   TechSupport       4930 non-null   object \n",
      " 7   Contract          4930 non-null   object \n",
      " 8   PaperlessBilling  4930 non-null   object \n",
      " 9   MonthlyCharges    4930 non-null   float64\n",
      " 10  Churn             4930 non-null   object \n",
      "dtypes: float64(1), int64(1), object(9)\n",
      "memory usage: 423.8+ KB\n"
     ]
    }
   ],
   "source": [
    "print(f'Jumlah baris di dataset adalah : {df.shape[0]}\\nJumlah kolom di dataset adalah : {df.shape[1]}\\n')\n",
    "df.info()"
   ]
  },
  {
   "cell_type": "code",
   "execution_count": 5,
   "id": "d96b28c6-6b38-4ad5-8a8d-78910c000e4e",
   "metadata": {
    "tags": []
   },
   "outputs": [
    {
     "data": {
      "text/html": [
       "<div>\n",
       "<style scoped>\n",
       "    .dataframe tbody tr th:only-of-type {\n",
       "        vertical-align: middle;\n",
       "    }\n",
       "\n",
       "    .dataframe tbody tr th {\n",
       "        vertical-align: top;\n",
       "    }\n",
       "\n",
       "    .dataframe thead th {\n",
       "        text-align: right;\n",
       "    }\n",
       "</style>\n",
       "<table border=\"1\" class=\"dataframe\">\n",
       "  <thead>\n",
       "    <tr style=\"text-align: right;\">\n",
       "      <th></th>\n",
       "      <th>count</th>\n",
       "      <th>mean</th>\n",
       "      <th>std</th>\n",
       "      <th>min</th>\n",
       "      <th>25%</th>\n",
       "      <th>50%</th>\n",
       "      <th>75%</th>\n",
       "      <th>max</th>\n",
       "    </tr>\n",
       "  </thead>\n",
       "  <tbody>\n",
       "    <tr>\n",
       "      <th>tenure</th>\n",
       "      <td>4930.0</td>\n",
       "      <td>32.401217</td>\n",
       "      <td>24.501193</td>\n",
       "      <td>0.0</td>\n",
       "      <td>9.00</td>\n",
       "      <td>29.00</td>\n",
       "      <td>55.00</td>\n",
       "      <td>72.00</td>\n",
       "    </tr>\n",
       "    <tr>\n",
       "      <th>MonthlyCharges</th>\n",
       "      <td>4930.0</td>\n",
       "      <td>64.883032</td>\n",
       "      <td>29.923960</td>\n",
       "      <td>18.8</td>\n",
       "      <td>37.05</td>\n",
       "      <td>70.35</td>\n",
       "      <td>89.85</td>\n",
       "      <td>118.65</td>\n",
       "    </tr>\n",
       "  </tbody>\n",
       "</table>\n",
       "</div>"
      ],
      "text/plain": [
       "                 count       mean        std   min    25%    50%    75%  \\\n",
       "tenure          4930.0  32.401217  24.501193   0.0   9.00  29.00  55.00   \n",
       "MonthlyCharges  4930.0  64.883032  29.923960  18.8  37.05  70.35  89.85   \n",
       "\n",
       "                   max  \n",
       "tenure           72.00  \n",
       "MonthlyCharges  118.65  "
      ]
     },
     "metadata": {},
     "output_type": "display_data"
    },
    {
     "data": {
      "text/html": [
       "<div>\n",
       "<style scoped>\n",
       "    .dataframe tbody tr th:only-of-type {\n",
       "        vertical-align: middle;\n",
       "    }\n",
       "\n",
       "    .dataframe tbody tr th {\n",
       "        vertical-align: top;\n",
       "    }\n",
       "\n",
       "    .dataframe thead th {\n",
       "        text-align: right;\n",
       "    }\n",
       "</style>\n",
       "<table border=\"1\" class=\"dataframe\">\n",
       "  <thead>\n",
       "    <tr style=\"text-align: right;\">\n",
       "      <th></th>\n",
       "      <th>count</th>\n",
       "      <th>unique</th>\n",
       "      <th>top</th>\n",
       "      <th>freq</th>\n",
       "    </tr>\n",
       "  </thead>\n",
       "  <tbody>\n",
       "    <tr>\n",
       "      <th>Dependents</th>\n",
       "      <td>4930</td>\n",
       "      <td>2</td>\n",
       "      <td>No</td>\n",
       "      <td>3446</td>\n",
       "    </tr>\n",
       "    <tr>\n",
       "      <th>OnlineSecurity</th>\n",
       "      <td>4930</td>\n",
       "      <td>3</td>\n",
       "      <td>No</td>\n",
       "      <td>2445</td>\n",
       "    </tr>\n",
       "    <tr>\n",
       "      <th>OnlineBackup</th>\n",
       "      <td>4930</td>\n",
       "      <td>3</td>\n",
       "      <td>No</td>\n",
       "      <td>2172</td>\n",
       "    </tr>\n",
       "    <tr>\n",
       "      <th>InternetService</th>\n",
       "      <td>4930</td>\n",
       "      <td>3</td>\n",
       "      <td>Fiber optic</td>\n",
       "      <td>2172</td>\n",
       "    </tr>\n",
       "    <tr>\n",
       "      <th>DeviceProtection</th>\n",
       "      <td>4930</td>\n",
       "      <td>3</td>\n",
       "      <td>No</td>\n",
       "      <td>2186</td>\n",
       "    </tr>\n",
       "    <tr>\n",
       "      <th>TechSupport</th>\n",
       "      <td>4930</td>\n",
       "      <td>3</td>\n",
       "      <td>No</td>\n",
       "      <td>2467</td>\n",
       "    </tr>\n",
       "    <tr>\n",
       "      <th>Contract</th>\n",
       "      <td>4930</td>\n",
       "      <td>3</td>\n",
       "      <td>Month-to-month</td>\n",
       "      <td>2721</td>\n",
       "    </tr>\n",
       "    <tr>\n",
       "      <th>PaperlessBilling</th>\n",
       "      <td>4930</td>\n",
       "      <td>2</td>\n",
       "      <td>Yes</td>\n",
       "      <td>2957</td>\n",
       "    </tr>\n",
       "    <tr>\n",
       "      <th>Churn</th>\n",
       "      <td>4930</td>\n",
       "      <td>2</td>\n",
       "      <td>No</td>\n",
       "      <td>3614</td>\n",
       "    </tr>\n",
       "  </tbody>\n",
       "</table>\n",
       "</div>"
      ],
      "text/plain": [
       "                 count unique             top  freq\n",
       "Dependents        4930      2              No  3446\n",
       "OnlineSecurity    4930      3              No  2445\n",
       "OnlineBackup      4930      3              No  2172\n",
       "InternetService   4930      3     Fiber optic  2172\n",
       "DeviceProtection  4930      3              No  2186\n",
       "TechSupport       4930      3              No  2467\n",
       "Contract          4930      3  Month-to-month  2721\n",
       "PaperlessBilling  4930      2             Yes  2957\n",
       "Churn             4930      2              No  3614"
      ]
     },
     "metadata": {},
     "output_type": "display_data"
    }
   ],
   "source": [
    "display(df.describe().T, df.describe(include='object').T)"
   ]
  },
  {
   "cell_type": "markdown",
   "id": "f4bad777-a86d-4e00-a168-a89d3dcb2a2a",
   "metadata": {},
   "source": [
    "Secara umum, dapat disimpulkan bahwa :\n",
    "\n",
    "* dataset Telco Customer Churn terdiri dari 11 kolom dan 4930 baris.\n",
    "* dataset tidak seimbang (churn-No berjumlah 3614 dan churn-Yes berjumlah 1316).\n",
    "* dataset tidak memiliki missing value."
   ]
  },
  {
   "cell_type": "markdown",
   "id": "dd5d7caf-da94-498d-b209-a4640a138588",
   "metadata": {
    "tags": []
   },
   "source": [
    "## Data Cleaning"
   ]
  },
  {
   "cell_type": "code",
   "execution_count": 6,
   "id": "76d2d274-cb8f-457c-9fe5-5323ec3e2c0d",
   "metadata": {
    "tags": []
   },
   "outputs": [
    {
     "data": {
      "text/html": [
       "<div>\n",
       "<style scoped>\n",
       "    .dataframe tbody tr th:only-of-type {\n",
       "        vertical-align: middle;\n",
       "    }\n",
       "\n",
       "    .dataframe tbody tr th {\n",
       "        vertical-align: top;\n",
       "    }\n",
       "\n",
       "    .dataframe thead th {\n",
       "        text-align: right;\n",
       "    }\n",
       "</style>\n",
       "<table border=\"1\" class=\"dataframe\">\n",
       "  <thead>\n",
       "    <tr style=\"text-align: right;\">\n",
       "      <th></th>\n",
       "      <th>Nama_Kolom</th>\n",
       "      <th>Tipe_Data</th>\n",
       "      <th>Data_kosong</th>\n",
       "      <th>Data_Kosong_Perc</th>\n",
       "      <th>Jumlah_Data_Unik</th>\n",
       "      <th>Data_Unik_Sampel</th>\n",
       "    </tr>\n",
       "  </thead>\n",
       "  <tbody>\n",
       "    <tr>\n",
       "      <th>0</th>\n",
       "      <td>Dependents</td>\n",
       "      <td>object</td>\n",
       "      <td>0</td>\n",
       "      <td>0.0</td>\n",
       "      <td>2</td>\n",
       "      <td>[Yes, No]</td>\n",
       "    </tr>\n",
       "    <tr>\n",
       "      <th>1</th>\n",
       "      <td>tenure</td>\n",
       "      <td>int64</td>\n",
       "      <td>0</td>\n",
       "      <td>0.0</td>\n",
       "      <td>73</td>\n",
       "      <td>[9, 14, 64, 72, 3, 40, 17, 11, 8, 47, 18, 5, 1...</td>\n",
       "    </tr>\n",
       "    <tr>\n",
       "      <th>2</th>\n",
       "      <td>OnlineSecurity</td>\n",
       "      <td>object</td>\n",
       "      <td>0</td>\n",
       "      <td>0.0</td>\n",
       "      <td>3</td>\n",
       "      <td>[No, Yes, No internet service]</td>\n",
       "    </tr>\n",
       "    <tr>\n",
       "      <th>3</th>\n",
       "      <td>OnlineBackup</td>\n",
       "      <td>object</td>\n",
       "      <td>0</td>\n",
       "      <td>0.0</td>\n",
       "      <td>3</td>\n",
       "      <td>[No, Yes, No internet service]</td>\n",
       "    </tr>\n",
       "    <tr>\n",
       "      <th>4</th>\n",
       "      <td>InternetService</td>\n",
       "      <td>object</td>\n",
       "      <td>0</td>\n",
       "      <td>0.0</td>\n",
       "      <td>3</td>\n",
       "      <td>[DSL, Fiber optic, No]</td>\n",
       "    </tr>\n",
       "    <tr>\n",
       "      <th>5</th>\n",
       "      <td>DeviceProtection</td>\n",
       "      <td>object</td>\n",
       "      <td>0</td>\n",
       "      <td>0.0</td>\n",
       "      <td>3</td>\n",
       "      <td>[Yes, No internet service, No]</td>\n",
       "    </tr>\n",
       "    <tr>\n",
       "      <th>6</th>\n",
       "      <td>TechSupport</td>\n",
       "      <td>object</td>\n",
       "      <td>0</td>\n",
       "      <td>0.0</td>\n",
       "      <td>3</td>\n",
       "      <td>[Yes, No, No internet service]</td>\n",
       "    </tr>\n",
       "    <tr>\n",
       "      <th>7</th>\n",
       "      <td>Contract</td>\n",
       "      <td>object</td>\n",
       "      <td>0</td>\n",
       "      <td>0.0</td>\n",
       "      <td>3</td>\n",
       "      <td>[Month-to-month, Two year, One year]</td>\n",
       "    </tr>\n",
       "    <tr>\n",
       "      <th>8</th>\n",
       "      <td>PaperlessBilling</td>\n",
       "      <td>object</td>\n",
       "      <td>0</td>\n",
       "      <td>0.0</td>\n",
       "      <td>2</td>\n",
       "      <td>[Yes, No]</td>\n",
       "    </tr>\n",
       "    <tr>\n",
       "      <th>9</th>\n",
       "      <td>MonthlyCharges</td>\n",
       "      <td>float64</td>\n",
       "      <td>0</td>\n",
       "      <td>0.0</td>\n",
       "      <td>1422</td>\n",
       "      <td>[72.9, 82.65, 47.85, 69.65, 23.6, 74.55, 19.7,...</td>\n",
       "    </tr>\n",
       "    <tr>\n",
       "      <th>10</th>\n",
       "      <td>Churn</td>\n",
       "      <td>object</td>\n",
       "      <td>0</td>\n",
       "      <td>0.0</td>\n",
       "      <td>2</td>\n",
       "      <td>[Yes, No]</td>\n",
       "    </tr>\n",
       "  </tbody>\n",
       "</table>\n",
       "</div>"
      ],
      "text/plain": [
       "          Nama_Kolom Tipe_Data  Data_kosong  Data_Kosong_Perc  \\\n",
       "0         Dependents    object            0               0.0   \n",
       "1             tenure     int64            0               0.0   \n",
       "2     OnlineSecurity    object            0               0.0   \n",
       "3       OnlineBackup    object            0               0.0   \n",
       "4    InternetService    object            0               0.0   \n",
       "5   DeviceProtection    object            0               0.0   \n",
       "6        TechSupport    object            0               0.0   \n",
       "7           Contract    object            0               0.0   \n",
       "8   PaperlessBilling    object            0               0.0   \n",
       "9     MonthlyCharges   float64            0               0.0   \n",
       "10             Churn    object            0               0.0   \n",
       "\n",
       "    Jumlah_Data_Unik                                   Data_Unik_Sampel  \n",
       "0                  2                                          [Yes, No]  \n",
       "1                 73  [9, 14, 64, 72, 3, 40, 17, 11, 8, 47, 18, 5, 1...  \n",
       "2                  3                     [No, Yes, No internet service]  \n",
       "3                  3                     [No, Yes, No internet service]  \n",
       "4                  3                             [DSL, Fiber optic, No]  \n",
       "5                  3                     [Yes, No internet service, No]  \n",
       "6                  3                     [Yes, No, No internet service]  \n",
       "7                  3               [Month-to-month, Two year, One year]  \n",
       "8                  2                                          [Yes, No]  \n",
       "9               1422  [72.9, 82.65, 47.85, 69.65, 23.6, 74.55, 19.7,...  \n",
       "10                 2                                          [Yes, No]  "
      ]
     },
     "execution_count": 6,
     "metadata": {},
     "output_type": "execute_result"
    }
   ],
   "source": [
    "listItem = []\n",
    "for col in df.columns :\n",
    "    listItem.append([col, df[col].dtype, df[col].isna().sum(), round((df[col].isna().sum()/len(df[col])) * 100,2),\n",
    "                    df[col].nunique(), list(df[col].drop_duplicates().values)]);\n",
    "\n",
    "dfDesc = pd.DataFrame(columns=['Nama_Kolom', 'Tipe_Data', 'Data_kosong', 'Data_Kosong_Perc', 'Jumlah_Data_Unik', 'Data_Unik_Sampel'],\n",
    "                     data=listItem)\n",
    "dfDesc"
   ]
  },
  {
   "cell_type": "markdown",
   "id": "febaa8dc-30d2-419c-b2bd-6ee6e7962385",
   "metadata": {},
   "source": [
    "### Kolom 'Churn'"
   ]
  },
  {
   "cell_type": "code",
   "execution_count": 7,
   "id": "f8dc3366-c88b-410b-8df8-3271bfcd57fd",
   "metadata": {
    "tags": []
   },
   "outputs": [
    {
     "data": {
      "text/plain": [
       "array([1, 0], dtype=int64)"
      ]
     },
     "execution_count": 7,
     "metadata": {},
     "output_type": "execute_result"
    }
   ],
   "source": [
    "# mengubah value yes/no menjadi 1/0 pada kolom churn \n",
    "df[\"Churn\"] = [1 if i==\"Yes\" else 0 for i in df[\"Churn\"]]\n",
    "df[\"Churn\"].unique()"
   ]
  },
  {
   "cell_type": "markdown",
   "id": "1b70daa3-9199-4fd4-b90c-bfd1994042d5",
   "metadata": {},
   "source": [
    "### Kolom 'OnlineSecurity', 'OnlineBackup', 'DeviceProtection', 'TechSupport'"
   ]
  },
  {
   "cell_type": "code",
   "execution_count": 8,
   "id": "aff01918-28ab-4f23-947a-971a71806a7a",
   "metadata": {
    "tags": []
   },
   "outputs": [
    {
     "name": "stdout",
     "output_type": "stream",
     "text": [
      "['No' 'Yes']\n",
      "['No' 'Yes']\n",
      "['Yes' 'No']\n",
      "['Yes' 'No']\n"
     ]
    }
   ],
   "source": [
    "# mengubah value 'No internet service' menjadi 'No' karena memiliki kesamaan arti\n",
    "ubah_kolom = ['OnlineSecurity', 'OnlineBackup', 'DeviceProtection', 'TechSupport']\n",
    "for column in ubah_kolom:\n",
    "    df[column] = df[column].replace('No internet service', 'No')\n",
    "    print(df[column].unique())"
   ]
  },
  {
   "cell_type": "markdown",
   "id": "4476fc25-6354-4da2-b070-2c961c541230",
   "metadata": {
    "tags": []
   },
   "source": [
    "### Pengecekan Outlier"
   ]
  },
  {
   "cell_type": "code",
   "execution_count": 9,
   "id": "ddde685d-accf-4414-a88f-2d875ecc4101",
   "metadata": {
    "tags": []
   },
   "outputs": [
    {
     "data": {
      "image/png": "[encoded data removed]",
      "text/plain": [
       "<Figure size 600x400 with 1 Axes>"
      ]
     },
     "metadata": {},
     "output_type": "display_data"
    }
   ],
   "source": [
    "# melakukan pengecekan data outlier pada kolom 'tenure' dan 'MonthlyCharges'\n",
    "kolom_boxplot = ['tenure', 'MonthlyCharges']\n",
    "plt.figure(figsize=(6, 4))\n",
    "sns.boxplot(data=df[kolom_boxplot], width=0.5, palette=\"Set3\")\n",
    "sns.stripplot(data=df[kolom_boxplot], jitter=True, color=\".3\", marker=\"o\", alpha=0.7)\n",
    "plt.title('Boxplot')\n",
    "plt.ylabel('Jumlah')\n",
    "plt.show()"
   ]
  },
  {
   "cell_type": "markdown",
   "id": "a791ba62-4497-4a7b-82bf-d171bd2ff095",
   "metadata": {},
   "source": [
    "### Pengecekan Missing Value"
   ]
  },
  {
   "cell_type": "code",
   "execution_count": 10,
   "id": "3866b67a-3cca-41e0-a5b4-35fdd50792b1",
   "metadata": {
    "tags": []
   },
   "outputs": [
    {
     "data": {
      "image/png": "[encoded data removed]",
      "text/plain": [
       "<Figure size 700x300 with 3 Axes>"
      ]
     },
     "metadata": {},
     "output_type": "display_data"
    }
   ],
   "source": [
    "# melakukan pengecekan missing value\n",
    "msno.bar(df, color=\"red\", sort=\"ascending\", figsize=(7, 3), fontsize=11)\n",
    "plt.show()"
   ]
  },
  {
   "cell_type": "markdown",
   "id": "a94ea2f4-3b4e-4059-a81c-6ffd990b27de",
   "metadata": {},
   "source": [
    "### Pengecekan Duplikat"
   ]
  },
  {
   "cell_type": "code",
   "execution_count": 16,
   "id": "b95c976e-4e93-451d-af62-30338be39867",
   "metadata": {
    "tags": []
   },
   "outputs": [
    {
     "name": "stdout",
     "output_type": "stream",
     "text": [
      "Jumlah duplikat = 77, Persentasi duplikat = 1.561866125760649\n"
     ]
    }
   ],
   "source": [
    "# menampilkan jumlah data duplikat\n",
    "duplikat = df.duplicated().sum()\n",
    "persentasi_duplikat = (df.duplicated().sum() / len(df)) * 100\n",
    "print(f'Jumlah duplikat = {duplikat}, Persentasi duplikat = {persentasi_duplikat}')"
   ]
  },
  {
   "cell_type": "code",
   "execution_count": 15,
   "id": "5e172a0c-bef0-48ce-a5b7-ed77f0bd4ded",
   "metadata": {
    "tags": []
   },
   "outputs": [
    {
     "data": {
      "text/html": [
       "<div>\n",
       "<style scoped>\n",
       "    .dataframe tbody tr th:only-of-type {\n",
       "        vertical-align: middle;\n",
       "    }\n",
       "\n",
       "    .dataframe tbody tr th {\n",
       "        vertical-align: top;\n",
       "    }\n",
       "\n",
       "    .dataframe thead th {\n",
       "        text-align: right;\n",
       "    }\n",
       "</style>\n",
       "<table border=\"1\" class=\"dataframe\">\n",
       "  <thead>\n",
       "    <tr style=\"text-align: right;\">\n",
       "      <th></th>\n",
       "      <th>Dependents</th>\n",
       "      <th>tenure</th>\n",
       "      <th>OnlineSecurity</th>\n",
       "      <th>OnlineBackup</th>\n",
       "      <th>InternetService</th>\n",
       "      <th>DeviceProtection</th>\n",
       "      <th>TechSupport</th>\n",
       "      <th>Contract</th>\n",
       "      <th>PaperlessBilling</th>\n",
       "      <th>MonthlyCharges</th>\n",
       "      <th>Churn</th>\n",
       "    </tr>\n",
       "  </thead>\n",
       "  <tbody>\n",
       "    <tr>\n",
       "      <th>436</th>\n",
       "      <td>No</td>\n",
       "      <td>1</td>\n",
       "      <td>No</td>\n",
       "      <td>No</td>\n",
       "      <td>DSL</td>\n",
       "      <td>No</td>\n",
       "      <td>No</td>\n",
       "      <td>Month-to-month</td>\n",
       "      <td>No</td>\n",
       "      <td>25.25</td>\n",
       "      <td>0</td>\n",
       "    </tr>\n",
       "    <tr>\n",
       "      <th>4452</th>\n",
       "      <td>No</td>\n",
       "      <td>1</td>\n",
       "      <td>No</td>\n",
       "      <td>No</td>\n",
       "      <td>DSL</td>\n",
       "      <td>No</td>\n",
       "      <td>No</td>\n",
       "      <td>Month-to-month</td>\n",
       "      <td>No</td>\n",
       "      <td>25.25</td>\n",
       "      <td>0</td>\n",
       "    </tr>\n",
       "    <tr>\n",
       "      <th>563</th>\n",
       "      <td>No</td>\n",
       "      <td>1</td>\n",
       "      <td>No</td>\n",
       "      <td>No</td>\n",
       "      <td>DSL</td>\n",
       "      <td>No</td>\n",
       "      <td>No</td>\n",
       "      <td>Month-to-month</td>\n",
       "      <td>Yes</td>\n",
       "      <td>45.70</td>\n",
       "      <td>1</td>\n",
       "    </tr>\n",
       "    <tr>\n",
       "      <th>707</th>\n",
       "      <td>No</td>\n",
       "      <td>1</td>\n",
       "      <td>No</td>\n",
       "      <td>No</td>\n",
       "      <td>DSL</td>\n",
       "      <td>No</td>\n",
       "      <td>No</td>\n",
       "      <td>Month-to-month</td>\n",
       "      <td>Yes</td>\n",
       "      <td>55.00</td>\n",
       "      <td>1</td>\n",
       "    </tr>\n",
       "    <tr>\n",
       "      <th>871</th>\n",
       "      <td>No</td>\n",
       "      <td>1</td>\n",
       "      <td>No</td>\n",
       "      <td>No</td>\n",
       "      <td>DSL</td>\n",
       "      <td>No</td>\n",
       "      <td>No</td>\n",
       "      <td>Month-to-month</td>\n",
       "      <td>No</td>\n",
       "      <td>44.40</td>\n",
       "      <td>1</td>\n",
       "    </tr>\n",
       "    <tr>\n",
       "      <th>1312</th>\n",
       "      <td>No</td>\n",
       "      <td>1</td>\n",
       "      <td>No</td>\n",
       "      <td>No</td>\n",
       "      <td>DSL</td>\n",
       "      <td>No</td>\n",
       "      <td>No</td>\n",
       "      <td>Month-to-month</td>\n",
       "      <td>No</td>\n",
       "      <td>45.30</td>\n",
       "      <td>1</td>\n",
       "    </tr>\n",
       "  </tbody>\n",
       "</table>\n",
       "</div>"
      ],
      "text/plain": [
       "     Dependents  tenure OnlineSecurity OnlineBackup InternetService  \\\n",
       "436          No       1             No           No             DSL   \n",
       "4452         No       1             No           No             DSL   \n",
       "563          No       1             No           No             DSL   \n",
       "707          No       1             No           No             DSL   \n",
       "871          No       1             No           No             DSL   \n",
       "1312         No       1             No           No             DSL   \n",
       "\n",
       "     DeviceProtection TechSupport        Contract PaperlessBilling  \\\n",
       "436                No          No  Month-to-month               No   \n",
       "4452               No          No  Month-to-month               No   \n",
       "563                No          No  Month-to-month              Yes   \n",
       "707                No          No  Month-to-month              Yes   \n",
       "871                No          No  Month-to-month               No   \n",
       "1312               No          No  Month-to-month               No   \n",
       "\n",
       "      MonthlyCharges  Churn  \n",
       "436            25.25      0  \n",
       "4452           25.25      0  \n",
       "563            45.70      1  \n",
       "707            55.00      1  \n",
       "871            44.40      1  \n",
       "1312           45.30      1  "
      ]
     },
     "execution_count": 15,
     "metadata": {},
     "output_type": "execute_result"
    }
   ],
   "source": [
    "# menampilkan contoh data duplikat\n",
    "df[df.duplicated(keep=False)].sort_values(by=['tenure','InternetService','Churn']).head(6) # menggunakan 3 kolom secara acak hanya untuk menunjukkan bahwa data duplikat"
   ]
  },
  {
   "cell_type": "code",
   "execution_count": 17,
   "id": "151f9f8f-866e-49c3-821e-b26c8e43bacb",
   "metadata": {
    "tags": []
   },
   "outputs": [],
   "source": [
    "# menghapus data duplikat\n",
    "df.drop_duplicates(inplace=True) # data duplikat di hapus karena jumlahnya sangat sedikit 1.56%\n",
    "\n",
    "# reset index untuk memperbaiki index yang hilang karena proses penghapusan data\n",
    "df.reset_index(drop=True, inplace=True)\n",
    "\n",
    "# pengecekan kembali data duplikat\n",
    "df.duplicated().sum()"
   ]
  },
  {
   "cell_type": "markdown",
   "id": "bcd7e346-6b4a-4b58-9e9b-cb95d99a7b68",
   "metadata": {},
   "source": [
    "Data cleaning yang sudah dilakukan menghasilkan kesimpulan yaitu :\n",
    "- Tidak ada missing value\n",
    "- Tidak ada data outlier\n",
    "- Penghapusan data duplikat\n",
    "- Perubahan value *no internet service* menjadi *no* pada Kolom 'OnlineSecurity', 'OnlineBackup', 'DeviceProtection', 'TechSupport'\n",
    "- Perubahan value yes/no menjadi 1/0 pada kolom 'Churn'"
   ]
  },
  {
   "cell_type": "markdown",
   "id": "02073709-030a-41c6-9a1d-07c1923716f6",
   "metadata": {},
   "source": [
    "## Data Analysis"
   ]
  },
  {
   "cell_type": "markdown",
   "id": "1afb9545-ee8e-4b50-984a-c00d615f3190",
   "metadata": {},
   "source": [
    "### Kolom Numerik vs Churn"
   ]
  },
  {
   "cell_type": "code",
   "execution_count": 19,
   "id": "a641dc79-6250-4f14-8e51-6472628d5f3c",
   "metadata": {
    "tags": []
   },
   "outputs": [
    {
     "data": {
      "text/plain": [
       "array([<Axes: title={'center': 'tenure'}>,\n",
       "       <Axes: title={'center': 'MonthlyCharges'}>], dtype=object)"
      ]
     },
     "execution_count": 19,
     "metadata": {},
     "output_type": "execute_result"
    },
    {
     "data": {
      "image/png": "[encoded data removed]",
      "text/plain": [
       "<Figure size 1400x600 with 2 Axes>"
      ]
     },
     "metadata": {},
     "output_type": "display_data"
    }
   ],
   "source": [
    "fig, ax = plt.subplots(1,2, figsize=(14,6))\n",
    "df[df['Churn']==1][['tenure','MonthlyCharges']].hist(bins=15, color='green', alpha=0.5, ax=ax)\n",
    "df[df['Churn']==0][['tenure','MonthlyCharges']].hist(bins=15, color='red', alpha=0.5, ax=ax)"
   ]
  },
  {
   "cell_type": "markdown",
   "id": "dfd106cb-be95-4e0e-8654-addef9a410e5",
   "metadata": {
    "tags": []
   },
   "source": [
    "Berdasarkan histogram diatas dapat disimpulkan :\n",
    "\n",
    "1. berdasarkan tenure-nya, pelanggan baru atau pelanggan yang berlangganan kurang dari 6 bulan cenderung akan churn.\n",
    "2. berdasarkan monthlycharges-nya, pelanggan dengan pembayaran rendah cenderung tidak akan churn dan terindikasi sebaliknya."
   ]
  },
  {
   "cell_type": "markdown",
   "id": "18cf9894-9bad-49d8-bad3-81176e3e8774",
   "metadata": {},
   "source": [
    "### Kolom Kategorik vs Churn"
   ]
  },
  {
   "cell_type": "code",
   "execution_count": 20,
   "id": "0d4ba6ec-4020-4853-b07f-935b3af0f208",
   "metadata": {
    "tags": []
   },
   "outputs": [
    {
     "data": {
      "image/png": "[encoded data removed]",
      "text/plain": [
       "<Figure size 2000x2000 with 8 Axes>"
      ]
     },
     "metadata": {},
     "output_type": "display_data"
    }
   ],
   "source": [
    "count = 0\n",
    "fig = plt.figure(figsize=(20,20))\n",
    "\n",
    "for i in df.drop(columns=['Churn','tenure','MonthlyCharges']).columns:\n",
    "    count +=1\n",
    "    ax= plt.subplot(4,2,count)\n",
    "    pd.crosstab(df[i],df['Churn'],normalize=0).plot(kind='bar',stacked=True,ax=ax)\n",
    "    fig.tight_layout()\n",
    "\n",
    "plt.show()"
   ]
  },
  {
   "cell_type": "code",
   "execution_count": 18,
   "id": "ed726f2c-f0df-4bc6-8290-8a424670b238",
   "metadata": {
    "tags": []
   },
   "outputs": [
    {
     "data": {
      "text/html": [
       "<div>\n",
       "<style scoped>\n",
       "    .dataframe tbody tr th:only-of-type {\n",
       "        vertical-align: middle;\n",
       "    }\n",
       "\n",
       "    .dataframe tbody tr th {\n",
       "        vertical-align: top;\n",
       "    }\n",
       "\n",
       "    .dataframe thead th {\n",
       "        text-align: right;\n",
       "    }\n",
       "</style>\n",
       "<table border=\"1\" class=\"dataframe\">\n",
       "  <thead>\n",
       "    <tr style=\"text-align: right;\">\n",
       "      <th>Churn</th>\n",
       "      <th>0</th>\n",
       "      <th>1</th>\n",
       "    </tr>\n",
       "    <tr>\n",
       "      <th>Dependents</th>\n",
       "      <th></th>\n",
       "      <th></th>\n",
       "    </tr>\n",
       "  </thead>\n",
       "  <tbody>\n",
       "    <tr>\n",
       "      <th>No</th>\n",
       "      <td>0.685207</td>\n",
       "      <td>0.314793</td>\n",
       "    </tr>\n",
       "    <tr>\n",
       "      <th>Yes</th>\n",
       "      <td>0.847929</td>\n",
       "      <td>0.152071</td>\n",
       "    </tr>\n",
       "  </tbody>\n",
       "</table>\n",
       "</div>"
      ],
      "text/plain": [
       "Churn              0         1\n",
       "Dependents                    \n",
       "No          0.685207  0.314793\n",
       "Yes         0.847929  0.152071"
      ]
     },
     "metadata": {},
     "output_type": "display_data"
    },
    {
     "data": {
      "text/html": [
       "<div>\n",
       "<style scoped>\n",
       "    .dataframe tbody tr th:only-of-type {\n",
       "        vertical-align: middle;\n",
       "    }\n",
       "\n",
       "    .dataframe tbody tr th {\n",
       "        vertical-align: top;\n",
       "    }\n",
       "\n",
       "    .dataframe thead th {\n",
       "        text-align: right;\n",
       "    }\n",
       "</style>\n",
       "<table border=\"1\" class=\"dataframe\">\n",
       "  <thead>\n",
       "    <tr style=\"text-align: right;\">\n",
       "      <th>Churn</th>\n",
       "      <th>0</th>\n",
       "      <th>1</th>\n",
       "    </tr>\n",
       "    <tr>\n",
       "      <th>OnlineSecurity</th>\n",
       "      <th></th>\n",
       "      <th></th>\n",
       "    </tr>\n",
       "  </thead>\n",
       "  <tbody>\n",
       "    <tr>\n",
       "      <th>No</th>\n",
       "      <td>0.685656</td>\n",
       "      <td>0.314344</td>\n",
       "    </tr>\n",
       "    <tr>\n",
       "      <th>Yes</th>\n",
       "      <td>0.851748</td>\n",
       "      <td>0.148252</td>\n",
       "    </tr>\n",
       "  </tbody>\n",
       "</table>\n",
       "</div>"
      ],
      "text/plain": [
       "Churn                  0         1\n",
       "OnlineSecurity                    \n",
       "No              0.685656  0.314344\n",
       "Yes             0.851748  0.148252"
      ]
     },
     "metadata": {},
     "output_type": "display_data"
    },
    {
     "data": {
      "text/html": [
       "<div>\n",
       "<style scoped>\n",
       "    .dataframe tbody tr th:only-of-type {\n",
       "        vertical-align: middle;\n",
       "    }\n",
       "\n",
       "    .dataframe tbody tr th {\n",
       "        vertical-align: top;\n",
       "    }\n",
       "\n",
       "    .dataframe thead th {\n",
       "        text-align: right;\n",
       "    }\n",
       "</style>\n",
       "<table border=\"1\" class=\"dataframe\">\n",
       "  <thead>\n",
       "    <tr style=\"text-align: right;\">\n",
       "      <th>Churn</th>\n",
       "      <th>0</th>\n",
       "      <th>1</th>\n",
       "    </tr>\n",
       "    <tr>\n",
       "      <th>OnlineBackup</th>\n",
       "      <th></th>\n",
       "      <th></th>\n",
       "    </tr>\n",
       "  </thead>\n",
       "  <tbody>\n",
       "    <tr>\n",
       "      <th>No</th>\n",
       "      <td>0.701999</td>\n",
       "      <td>0.298001</td>\n",
       "    </tr>\n",
       "    <tr>\n",
       "      <th>Yes</th>\n",
       "      <td>0.794947</td>\n",
       "      <td>0.205053</td>\n",
       "    </tr>\n",
       "  </tbody>\n",
       "</table>\n",
       "</div>"
      ],
      "text/plain": [
       "Churn                0         1\n",
       "OnlineBackup                    \n",
       "No            0.701999  0.298001\n",
       "Yes           0.794947  0.205053"
      ]
     },
     "metadata": {},
     "output_type": "display_data"
    },
    {
     "data": {
      "text/html": [
       "<div>\n",
       "<style scoped>\n",
       "    .dataframe tbody tr th:only-of-type {\n",
       "        vertical-align: middle;\n",
       "    }\n",
       "\n",
       "    .dataframe tbody tr th {\n",
       "        vertical-align: top;\n",
       "    }\n",
       "\n",
       "    .dataframe thead th {\n",
       "        text-align: right;\n",
       "    }\n",
       "</style>\n",
       "<table border=\"1\" class=\"dataframe\">\n",
       "  <thead>\n",
       "    <tr style=\"text-align: right;\">\n",
       "      <th>Churn</th>\n",
       "      <th>0</th>\n",
       "      <th>1</th>\n",
       "    </tr>\n",
       "    <tr>\n",
       "      <th>InternetService</th>\n",
       "      <th></th>\n",
       "      <th></th>\n",
       "    </tr>\n",
       "  </thead>\n",
       "  <tbody>\n",
       "    <tr>\n",
       "      <th>Fiber optic</th>\n",
       "      <td>0.581244</td>\n",
       "      <td>0.418756</td>\n",
       "    </tr>\n",
       "    <tr>\n",
       "      <th>DSL</th>\n",
       "      <td>0.816627</td>\n",
       "      <td>0.183373</td>\n",
       "    </tr>\n",
       "    <tr>\n",
       "      <th>No</th>\n",
       "      <td>0.925224</td>\n",
       "      <td>0.074776</td>\n",
       "    </tr>\n",
       "  </tbody>\n",
       "</table>\n",
       "</div>"
      ],
      "text/plain": [
       "Churn                   0         1\n",
       "InternetService                    \n",
       "Fiber optic      0.581244  0.418756\n",
       "DSL              0.816627  0.183373\n",
       "No               0.925224  0.074776"
      ]
     },
     "metadata": {},
     "output_type": "display_data"
    },
    {
     "data": {
      "text/html": [
       "<div>\n",
       "<style scoped>\n",
       "    .dataframe tbody tr th:only-of-type {\n",
       "        vertical-align: middle;\n",
       "    }\n",
       "\n",
       "    .dataframe tbody tr th {\n",
       "        vertical-align: top;\n",
       "    }\n",
       "\n",
       "    .dataframe thead th {\n",
       "        text-align: right;\n",
       "    }\n",
       "</style>\n",
       "<table border=\"1\" class=\"dataframe\">\n",
       "  <thead>\n",
       "    <tr style=\"text-align: right;\">\n",
       "      <th>Churn</th>\n",
       "      <th>0</th>\n",
       "      <th>1</th>\n",
       "    </tr>\n",
       "    <tr>\n",
       "      <th>DeviceProtection</th>\n",
       "      <th></th>\n",
       "      <th></th>\n",
       "    </tr>\n",
       "  </thead>\n",
       "  <tbody>\n",
       "    <tr>\n",
       "      <th>No</th>\n",
       "      <td>0.714060</td>\n",
       "      <td>0.285940</td>\n",
       "    </tr>\n",
       "    <tr>\n",
       "      <th>Yes</th>\n",
       "      <td>0.773104</td>\n",
       "      <td>0.226896</td>\n",
       "    </tr>\n",
       "  </tbody>\n",
       "</table>\n",
       "</div>"
      ],
      "text/plain": [
       "Churn                    0         1\n",
       "DeviceProtection                    \n",
       "No                0.714060  0.285940\n",
       "Yes               0.773104  0.226896"
      ]
     },
     "metadata": {},
     "output_type": "display_data"
    },
    {
     "data": {
      "text/html": [
       "<div>\n",
       "<style scoped>\n",
       "    .dataframe tbody tr th:only-of-type {\n",
       "        vertical-align: middle;\n",
       "    }\n",
       "\n",
       "    .dataframe tbody tr th {\n",
       "        vertical-align: top;\n",
       "    }\n",
       "\n",
       "    .dataframe thead th {\n",
       "        text-align: right;\n",
       "    }\n",
       "</style>\n",
       "<table border=\"1\" class=\"dataframe\">\n",
       "  <thead>\n",
       "    <tr style=\"text-align: right;\">\n",
       "      <th>Churn</th>\n",
       "      <th>0</th>\n",
       "      <th>1</th>\n",
       "    </tr>\n",
       "    <tr>\n",
       "      <th>TechSupport</th>\n",
       "      <th></th>\n",
       "      <th></th>\n",
       "    </tr>\n",
       "  </thead>\n",
       "  <tbody>\n",
       "    <tr>\n",
       "      <th>No</th>\n",
       "      <td>0.688244</td>\n",
       "      <td>0.311756</td>\n",
       "    </tr>\n",
       "    <tr>\n",
       "      <th>Yes</th>\n",
       "      <td>0.848011</td>\n",
       "      <td>0.151989</td>\n",
       "    </tr>\n",
       "  </tbody>\n",
       "</table>\n",
       "</div>"
      ],
      "text/plain": [
       "Churn               0         1\n",
       "TechSupport                    \n",
       "No           0.688244  0.311756\n",
       "Yes          0.848011  0.151989"
      ]
     },
     "metadata": {},
     "output_type": "display_data"
    },
    {
     "data": {
      "text/html": [
       "<div>\n",
       "<style scoped>\n",
       "    .dataframe tbody tr th:only-of-type {\n",
       "        vertical-align: middle;\n",
       "    }\n",
       "\n",
       "    .dataframe tbody tr th {\n",
       "        vertical-align: top;\n",
       "    }\n",
       "\n",
       "    .dataframe thead th {\n",
       "        text-align: right;\n",
       "    }\n",
       "</style>\n",
       "<table border=\"1\" class=\"dataframe\">\n",
       "  <thead>\n",
       "    <tr style=\"text-align: right;\">\n",
       "      <th>Churn</th>\n",
       "      <th>0</th>\n",
       "      <th>1</th>\n",
       "    </tr>\n",
       "    <tr>\n",
       "      <th>Contract</th>\n",
       "      <th></th>\n",
       "      <th></th>\n",
       "    </tr>\n",
       "  </thead>\n",
       "  <tbody>\n",
       "    <tr>\n",
       "      <th>Month-to-month</th>\n",
       "      <td>0.568480</td>\n",
       "      <td>0.431520</td>\n",
       "    </tr>\n",
       "    <tr>\n",
       "      <th>One year</th>\n",
       "      <td>0.898565</td>\n",
       "      <td>0.101435</td>\n",
       "    </tr>\n",
       "    <tr>\n",
       "      <th>Two year</th>\n",
       "      <td>0.972003</td>\n",
       "      <td>0.027997</td>\n",
       "    </tr>\n",
       "  </tbody>\n",
       "</table>\n",
       "</div>"
      ],
      "text/plain": [
       "Churn                  0         1\n",
       "Contract                          \n",
       "Month-to-month  0.568480  0.431520\n",
       "One year        0.898565  0.101435\n",
       "Two year        0.972003  0.027997"
      ]
     },
     "metadata": {},
     "output_type": "display_data"
    },
    {
     "data": {
      "text/html": [
       "<div>\n",
       "<style scoped>\n",
       "    .dataframe tbody tr th:only-of-type {\n",
       "        vertical-align: middle;\n",
       "    }\n",
       "\n",
       "    .dataframe tbody tr th {\n",
       "        vertical-align: top;\n",
       "    }\n",
       "\n",
       "    .dataframe thead th {\n",
       "        text-align: right;\n",
       "    }\n",
       "</style>\n",
       "<table border=\"1\" class=\"dataframe\">\n",
       "  <thead>\n",
       "    <tr style=\"text-align: right;\">\n",
       "      <th>Churn</th>\n",
       "      <th>0</th>\n",
       "      <th>1</th>\n",
       "    </tr>\n",
       "    <tr>\n",
       "      <th>PaperlessBilling</th>\n",
       "      <th></th>\n",
       "      <th></th>\n",
       "    </tr>\n",
       "  </thead>\n",
       "  <tbody>\n",
       "    <tr>\n",
       "      <th>Yes</th>\n",
       "      <td>0.668034</td>\n",
       "      <td>0.331966</td>\n",
       "    </tr>\n",
       "    <tr>\n",
       "      <th>No</th>\n",
       "      <td>0.835581</td>\n",
       "      <td>0.164419</td>\n",
       "    </tr>\n",
       "  </tbody>\n",
       "</table>\n",
       "</div>"
      ],
      "text/plain": [
       "Churn                    0         1\n",
       "PaperlessBilling                    \n",
       "Yes               0.668034  0.331966\n",
       "No                0.835581  0.164419"
      ]
     },
     "metadata": {},
     "output_type": "display_data"
    }
   ],
   "source": [
    "for i in df.drop(columns=['Churn','tenure','MonthlyCharges']).columns:\n",
    "    df_ct = df.groupby(i)['Churn'].value_counts(normalize=True).unstack()\n",
    "    display(df_ct.sort_values(by=[1.0], ascending=False))"
   ]
  },
  {
   "cell_type": "markdown",
   "id": "6bfe8d44-b76e-4b51-8e8c-52d47db9d32a",
   "metadata": {},
   "source": [
    "Berdasarkan grafik bar dan tabel diatas dapat disimpulkan beberapa hal :\n",
    "\n",
    "1. Pelanggan yang `Dependents` nya `No` atau tidak memiliki tanggungan lebih cenderung akan churn.\n",
    "2. Pelanggan yang `OnlineSecurity` nya `No` atau tidak subscribe lebih cenderung akan churn.\n",
    "3. Pelanggan yang `OnlineBackup` nya `No` atau tidak subscribe lebih cenderung akan churn.\n",
    "4. Pelanggan yang `InternetService` nya `Fiber optic` lebih cenderung akan churn.\n",
    "5. Pelanggan yang `DeviceProtection` nya `No` atau tidak subscribe lebih cenderung akan churn.\n",
    "6. Pelanggan yang `TechSupport` nya `No` atau tidak subscribe lebih cenderung akan churn.\n",
    "7. Pelanggan yang `Contract` nya `Month-to-month` atau yang berlangganan perbulan lebih cenderung akan churn.\n",
    "8. Pelanggan yang `PaperlessBilling` nya `Yes` lebih cenderung akan churn.\n",
    "\n",
    "Dapat disimpulkan secara garis besar bahwa pelanggan yang tidak melakukan subscribe layanan yang ditawarkan serta memilih kontrak produk layanan `Month-to-month` (bulanan) cenderung akan churn. "
   ]
  },
  {
   "cell_type": "markdown",
   "id": "a6b6d81c-6e51-4a68-8fcd-616b260b9e74",
   "metadata": {},
   "source": [
    "## Data Preparation and Feature Engineering"
   ]
  },
  {
   "cell_type": "code",
   "execution_count": 13,
   "id": "ccbfd3eb-6d28-46bc-bb7d-dc71788171f0",
   "metadata": {
    "tags": []
   },
   "outputs": [
    {
     "data": {
      "text/html": [
       "<div>\n",
       "<style scoped>\n",
       "    .dataframe tbody tr th:only-of-type {\n",
       "        vertical-align: middle;\n",
       "    }\n",
       "\n",
       "    .dataframe tbody tr th {\n",
       "        vertical-align: top;\n",
       "    }\n",
       "\n",
       "    .dataframe thead th {\n",
       "        text-align: right;\n",
       "    }\n",
       "</style>\n",
       "<table border=\"1\" class=\"dataframe\">\n",
       "  <thead>\n",
       "    <tr style=\"text-align: right;\">\n",
       "      <th></th>\n",
       "      <th>Dependents</th>\n",
       "      <th>tenure</th>\n",
       "      <th>OnlineSecurity</th>\n",
       "      <th>OnlineBackup</th>\n",
       "      <th>InternetService</th>\n",
       "      <th>DeviceProtection</th>\n",
       "      <th>TechSupport</th>\n",
       "      <th>Contract</th>\n",
       "      <th>PaperlessBilling</th>\n",
       "      <th>MonthlyCharges</th>\n",
       "      <th>Churn</th>\n",
       "    </tr>\n",
       "  </thead>\n",
       "  <tbody>\n",
       "    <tr>\n",
       "      <th>0</th>\n",
       "      <td>Yes</td>\n",
       "      <td>9</td>\n",
       "      <td>No</td>\n",
       "      <td>No</td>\n",
       "      <td>DSL</td>\n",
       "      <td>Yes</td>\n",
       "      <td>Yes</td>\n",
       "      <td>Month-to-month</td>\n",
       "      <td>Yes</td>\n",
       "      <td>72.90</td>\n",
       "      <td>1</td>\n",
       "    </tr>\n",
       "    <tr>\n",
       "      <th>1</th>\n",
       "      <td>No</td>\n",
       "      <td>14</td>\n",
       "      <td>No</td>\n",
       "      <td>Yes</td>\n",
       "      <td>Fiber optic</td>\n",
       "      <td>Yes</td>\n",
       "      <td>No</td>\n",
       "      <td>Month-to-month</td>\n",
       "      <td>Yes</td>\n",
       "      <td>82.65</td>\n",
       "      <td>0</td>\n",
       "    </tr>\n",
       "    <tr>\n",
       "      <th>2</th>\n",
       "      <td>No</td>\n",
       "      <td>64</td>\n",
       "      <td>Yes</td>\n",
       "      <td>No</td>\n",
       "      <td>DSL</td>\n",
       "      <td>Yes</td>\n",
       "      <td>Yes</td>\n",
       "      <td>Two year</td>\n",
       "      <td>No</td>\n",
       "      <td>47.85</td>\n",
       "      <td>1</td>\n",
       "    </tr>\n",
       "    <tr>\n",
       "      <th>3</th>\n",
       "      <td>No</td>\n",
       "      <td>72</td>\n",
       "      <td>Yes</td>\n",
       "      <td>Yes</td>\n",
       "      <td>DSL</td>\n",
       "      <td>Yes</td>\n",
       "      <td>Yes</td>\n",
       "      <td>Two year</td>\n",
       "      <td>No</td>\n",
       "      <td>69.65</td>\n",
       "      <td>0</td>\n",
       "    </tr>\n",
       "    <tr>\n",
       "      <th>4</th>\n",
       "      <td>No</td>\n",
       "      <td>3</td>\n",
       "      <td>No</td>\n",
       "      <td>No</td>\n",
       "      <td>No</td>\n",
       "      <td>No</td>\n",
       "      <td>No</td>\n",
       "      <td>Month-to-month</td>\n",
       "      <td>Yes</td>\n",
       "      <td>23.60</td>\n",
       "      <td>0</td>\n",
       "    </tr>\n",
       "  </tbody>\n",
       "</table>\n",
       "</div>"
      ],
      "text/plain": [
       "  Dependents  tenure OnlineSecurity OnlineBackup InternetService  \\\n",
       "0        Yes       9             No           No             DSL   \n",
       "1         No      14             No          Yes     Fiber optic   \n",
       "2         No      64            Yes           No             DSL   \n",
       "3         No      72            Yes          Yes             DSL   \n",
       "4         No       3             No           No              No   \n",
       "\n",
       "  DeviceProtection TechSupport        Contract PaperlessBilling  \\\n",
       "0              Yes         Yes  Month-to-month              Yes   \n",
       "1              Yes          No  Month-to-month              Yes   \n",
       "2              Yes         Yes        Two year               No   \n",
       "3              Yes         Yes        Two year               No   \n",
       "4               No          No  Month-to-month              Yes   \n",
       "\n",
       "   MonthlyCharges  Churn  \n",
       "0           72.90      1  \n",
       "1           82.65      0  \n",
       "2           47.85      1  \n",
       "3           69.65      0  \n",
       "4           23.60      0  "
      ]
     },
     "execution_count": 13,
     "metadata": {},
     "output_type": "execute_result"
    }
   ],
   "source": [
    "df.head(5)"
   ]
  },
  {
   "cell_type": "markdown",
   "id": "b98cd927-cf23-4445-bb1f-64a09fd19d68",
   "metadata": {},
   "source": [
    "Adapun tahap pre-processing yang perlu dilakukan diantaranya adalah :\n",
    "\n",
    "   - Fitur Correlations : Mencari seberapa besar korelasi masing-masing fitur terhadap variabel target untuk melakukan seleksi sehingga fitur-fitur yang di masukkan kedalam model adalah fitur yang memiliki korelasi terhadap variabel target.\n",
    "   - Normalisasi data: Mengubah skala data ke dalam rentang spesifik sehingga memiliki skala yang sama antar data. Dalam hal ini fitur scaling yang digunakan yaitu **Robust Scaler** karena data terdistribusi tidak normal (walaupun tidak ada outlier).\n",
    "   - Encoding : Mengubah variabel kategorik menjadi bentuk yang dapat digunakan oleh model, dalam proses ini kita akan melakukan **One Hot Encoding** karena jumlah kategori tidak terlalu banyak dan tidak adanya hirarki pada setiap kolom/fitur.\n",
    "   - Data Splitting : Melakukan seleksi fitur berdasarkan hasil dari tahapan Fitur Correlations serta memisahkan dataset menjadi bagian latihan (train) dan testing (test) untuk mengukur performa model secara objektif."
   ]
  },
  {
   "cell_type": "markdown",
   "id": "4a0c0421-f969-4624-969b-15ea4ce2c200",
   "metadata": {},
   "source": [
    "### Feature Correlations"
   ]
  },
  {
   "cell_type": "markdown",
   "id": "c02c39be-a494-4567-a781-e81aaac4614f",
   "metadata": {},
   "source": [
    "Untuk mempermudah proses Feature Correlations akan dilakukan label encoder dan scalling diluar proses modelling menggunakan dataframe baru/sementara."
   ]
  },
  {
   "cell_type": "code",
   "execution_count": 21,
   "id": "0c66f7a0-95be-4eaf-8dd0-36612bbc44dc",
   "metadata": {
    "tags": []
   },
   "outputs": [
    {
     "name": "stdout",
     "output_type": "stream",
     "text": [
      "Label Encoder\n",
      "Dependents  :  [1 0]  =  ['Yes' 'No']\n",
      "OnlineSecurity  :  [0 1]  =  ['No' 'Yes']\n",
      "OnlineBackup  :  [0 1]  =  ['No' 'Yes']\n",
      "InternetService  :  [0 1 2]  =  ['DSL' 'Fiber optic' 'No']\n",
      "DeviceProtection  :  [1 0]  =  ['Yes' 'No']\n",
      "TechSupport  :  [1 0]  =  ['Yes' 'No']\n",
      "Contract  :  [0 2 1]  =  ['Month-to-month' 'Two year' 'One year']\n",
      "PaperlessBilling  :  [1 0]  =  ['Yes' 'No']\n"
     ]
    }
   ],
   "source": [
    "# merubah value dari masing-masing fitur menggunakan label encoder untuk keperluan Feature Correlations bukan untuk keperluan modelling\n",
    "le = LabelEncoder()\n",
    "\n",
    "# membuat dataframe baru untuk menyimpan hasil label encoder\n",
    "df_new = df.copy(deep = True)\n",
    "fitur_kategorikal = [i for i in list(df.columns) if i not in list(df.describe().columns)]\n",
    "\n",
    "print('Label Encoder')\n",
    "for i in fitur_kategorikal :\n",
    "    df_new[i] = le.fit_transform(df_new[i])\n",
    "    print(i,' : ',df_new[i].unique(),' = ',le.inverse_transform(df_new[i].unique()))"
   ]
  },
  {
   "cell_type": "code",
   "execution_count": 22,
   "id": "32e40c9e-471b-4b76-8c73-247f2f0bfdc0",
   "metadata": {
    "tags": []
   },
   "outputs": [
    {
     "data": {
      "text/html": [
       "<div>\n",
       "<style scoped>\n",
       "    .dataframe tbody tr th:only-of-type {\n",
       "        vertical-align: middle;\n",
       "    }\n",
       "\n",
       "    .dataframe tbody tr th {\n",
       "        vertical-align: top;\n",
       "    }\n",
       "\n",
       "    .dataframe thead th {\n",
       "        text-align: right;\n",
       "    }\n",
       "</style>\n",
       "<table border=\"1\" class=\"dataframe\">\n",
       "  <thead>\n",
       "    <tr style=\"text-align: right;\">\n",
       "      <th></th>\n",
       "      <th>Dependents</th>\n",
       "      <th>tenure</th>\n",
       "      <th>OnlineSecurity</th>\n",
       "      <th>OnlineBackup</th>\n",
       "      <th>InternetService</th>\n",
       "      <th>DeviceProtection</th>\n",
       "      <th>TechSupport</th>\n",
       "      <th>Contract</th>\n",
       "      <th>PaperlessBilling</th>\n",
       "      <th>MonthlyCharges</th>\n",
       "      <th>Churn</th>\n",
       "    </tr>\n",
       "  </thead>\n",
       "  <tbody>\n",
       "    <tr>\n",
       "      <th>0</th>\n",
       "      <td>1</td>\n",
       "      <td>-0.425532</td>\n",
       "      <td>0</td>\n",
       "      <td>0</td>\n",
       "      <td>0</td>\n",
       "      <td>1</td>\n",
       "      <td>1</td>\n",
       "      <td>0</td>\n",
       "      <td>1</td>\n",
       "      <td>0.046</td>\n",
       "      <td>1</td>\n",
       "    </tr>\n",
       "    <tr>\n",
       "      <th>1</th>\n",
       "      <td>0</td>\n",
       "      <td>-0.319149</td>\n",
       "      <td>0</td>\n",
       "      <td>1</td>\n",
       "      <td>1</td>\n",
       "      <td>1</td>\n",
       "      <td>0</td>\n",
       "      <td>0</td>\n",
       "      <td>1</td>\n",
       "      <td>0.241</td>\n",
       "      <td>0</td>\n",
       "    </tr>\n",
       "    <tr>\n",
       "      <th>2</th>\n",
       "      <td>0</td>\n",
       "      <td>0.744681</td>\n",
       "      <td>1</td>\n",
       "      <td>0</td>\n",
       "      <td>0</td>\n",
       "      <td>1</td>\n",
       "      <td>1</td>\n",
       "      <td>2</td>\n",
       "      <td>0</td>\n",
       "      <td>-0.455</td>\n",
       "      <td>1</td>\n",
       "    </tr>\n",
       "    <tr>\n",
       "      <th>3</th>\n",
       "      <td>0</td>\n",
       "      <td>0.914894</td>\n",
       "      <td>1</td>\n",
       "      <td>1</td>\n",
       "      <td>0</td>\n",
       "      <td>1</td>\n",
       "      <td>1</td>\n",
       "      <td>2</td>\n",
       "      <td>0</td>\n",
       "      <td>-0.019</td>\n",
       "      <td>0</td>\n",
       "    </tr>\n",
       "    <tr>\n",
       "      <th>4</th>\n",
       "      <td>0</td>\n",
       "      <td>-0.553191</td>\n",
       "      <td>0</td>\n",
       "      <td>0</td>\n",
       "      <td>2</td>\n",
       "      <td>0</td>\n",
       "      <td>0</td>\n",
       "      <td>0</td>\n",
       "      <td>1</td>\n",
       "      <td>-0.940</td>\n",
       "      <td>0</td>\n",
       "    </tr>\n",
       "  </tbody>\n",
       "</table>\n",
       "</div>"
      ],
      "text/plain": [
       "   Dependents    tenure  OnlineSecurity  OnlineBackup  InternetService  \\\n",
       "0           1 -0.425532               0             0                0   \n",
       "1           0 -0.319149               0             1                1   \n",
       "2           0  0.744681               1             0                0   \n",
       "3           0  0.914894               1             1                0   \n",
       "4           0 -0.553191               0             0                2   \n",
       "\n",
       "   DeviceProtection  TechSupport  Contract  PaperlessBilling  MonthlyCharges  \\\n",
       "0                 1            1         0                 1           0.046   \n",
       "1                 1            0         0                 1           0.241   \n",
       "2                 1            1         2                 0          -0.455   \n",
       "3                 1            1         2                 0          -0.019   \n",
       "4                 0            0         0                 1          -0.940   \n",
       "\n",
       "   Churn  \n",
       "0      1  \n",
       "1      0  \n",
       "2      1  \n",
       "3      0  \n",
       "4      0  "
      ]
     },
     "execution_count": 22,
     "metadata": {},
     "output_type": "execute_result"
    }
   ],
   "source": [
    "# melakukan scalling pada fitur numerikal di dataframe baru yang telah dibuat hanya untuk keperluan Feature Correlations\n",
    "fitur_numerikal = ['tenure','MonthlyCharges']\n",
    "scaler = RobustScaler()\n",
    "\n",
    "df_new['tenure'] = scaler.fit_transform(df_new[['tenure']])\n",
    "df_new['MonthlyCharges'] = scaler.fit_transform(df_new[['MonthlyCharges']])\n",
    "df_new.head()"
   ]
  },
  {
   "cell_type": "markdown",
   "id": "318672ab-c282-4db3-a712-f1dc9af162a6",
   "metadata": {},
   "source": [
    "#### Kolom Kategorik vs Churn"
   ]
  },
  {
   "cell_type": "code",
   "execution_count": 23,
   "id": "3eeee6e7-40cc-40f1-a7dc-4a9bd0404c37",
   "metadata": {
    "tags": []
   },
   "outputs": [
    {
     "data": {
      "text/plain": [
       "Text(0.5, 1.0, 'Korelasi Fitur vs Churn')"
      ]
     },
     "execution_count": 23,
     "metadata": {},
     "output_type": "execute_result"
    },
    {
     "data": {
      "image/png": "[encoded data removed]",
      "text/plain": [
       "<Figure size 500x500 with 2 Axes>"
      ]
     },
     "metadata": {},
     "output_type": "display_data"
    }
   ],
   "source": [
    "# menghitung korelasi masing-masing fitur terhadap target dengan metode corrwith\n",
    "corr = df_new.corrwith(df_new['Churn']).sort_values(ascending = False).to_frame()\n",
    "corr.columns = ['Correlations']\n",
    "\n",
    "plt.subplots(figsize = (5,5))\n",
    "sns.heatmap(corr,annot = True,cmap =  'coolwarm',linecolor = 'black');\n",
    "plt.title('Korelasi Fitur vs Churn')"
   ]
  },
  {
   "cell_type": "code",
   "execution_count": 24,
   "id": "a38109af-065c-497f-bbcd-d7b2953b25fe",
   "metadata": {
    "tags": []
   },
   "outputs": [
    {
     "data": {
      "text/plain": [
       "Text(0.5, 1.0, 'Fitur Kategorikal Terbaik')"
      ]
     },
     "execution_count": 24,
     "metadata": {},
     "output_type": "execute_result"
    },
    {
     "data": {
      "image/png": "[encoded data removed]",
      "text/plain": [
       "<Figure size 500x500 with 2 Axes>"
      ]
     },
     "metadata": {},
     "output_type": "display_data"
    }
   ],
   "source": [
    "# memilih fitur terbaik berdasarkan skor yang dihitung oleh metode chi-squared\n",
    "features = df_new.loc[:,fitur_kategorikal]\n",
    "target = df_new.loc[:,'Churn']\n",
    "\n",
    "best_features = SelectKBest(score_func = chi2,k = 'all')\n",
    "fit = best_features.fit(features,target)\n",
    "\n",
    "featureScores = pd.DataFrame(data = fit.scores_,index = list(features.columns),columns = ['Chi Squared Score']) \n",
    "\n",
    "plt.subplots(figsize = (5,5))\n",
    "sns.heatmap(featureScores.sort_values(ascending = False,by = 'Chi Squared Score'),annot = True,cmap = 'coolwarm',linewidths = 0.4,linecolor = 'black',fmt = '.2f');\n",
    "plt.title('Fitur Kategorikal Terbaik')"
   ]
  },
  {
   "cell_type": "markdown",
   "id": "fd7ea5e8-9f80-47f9-9f0d-789213448646",
   "metadata": {},
   "source": [
    "Dapat disimpulkan dari kedua metode di atas bahwa untuk fitur 'InternetService', 'DeviceProtection' dan 'OnlineBackup' memiliki korelasi atau skor (<=0.1 untuk metode corrwith dan dibawah 60 untuk metode chi-squared) yang rendah terhadap target/churn. Sehingga untuk keperluan model, kedua fitur tersebut tidak akan digunakan."
   ]
  },
  {
   "cell_type": "markdown",
   "id": "e9e0b6ec-ef17-429f-984f-c78bee02b967",
   "metadata": {
    "tags": []
   },
   "source": [
    "#### Kolom Numerik vs Churn"
   ]
  },
  {
   "cell_type": "code",
   "execution_count": 25,
   "id": "7d4899fc-27df-440f-8f9a-325b2ca019a9",
   "metadata": {
    "tags": []
   },
   "outputs": [
    {
     "data": {
      "text/plain": [
       "Text(0.5, 1.0, 'Seleksi Fitur Numerik')"
      ]
     },
     "execution_count": 25,
     "metadata": {},
     "output_type": "execute_result"
    },
    {
     "data": {
      "image/png": "[encoded data removed]",
      "text/plain": [
       "<Figure size 500x500 with 2 Axes>"
      ]
     },
     "metadata": {},
     "output_type": "display_data"
    }
   ],
   "source": [
    "features = df_new.loc[:,fitur_numerikal]\n",
    "target = df_new.loc[:,'Churn']\n",
    "\n",
    "best_features = SelectKBest(score_func = f_classif,k = 'all')\n",
    "fit = best_features.fit(features,target)\n",
    "\n",
    "featureScores = pd.DataFrame(data = fit.scores_,index = list(features.columns),columns = ['ANOVA Score']) \n",
    "\n",
    "plt.subplots(figsize = (5,5))\n",
    "sns.heatmap(featureScores.sort_values(ascending = False,by = 'ANOVA Score'),annot = True,cmap = 'coolwarm',linewidths = 0.4,linecolor = 'black',fmt = '.2f');\n",
    "plt.title('Seleksi Fitur Numerik')"
   ]
  },
  {
   "cell_type": "markdown",
   "id": "80d4e1e0-2f51-48fc-a7ad-831a107f1018",
   "metadata": {},
   "source": [
    "Karena fitur 'MonthlyCharges' memiliki skor cukup tinggi dan fitur 'tenure' memiliki skor sangat tinggi maka kedua fitur numerik akan tetap digunakan dalam modelling."
   ]
  },
  {
   "cell_type": "markdown",
   "id": "787778d3-c104-4c4b-bd3b-61968d702ca0",
   "metadata": {},
   "source": [
    "### Encoding\n",
    "\n",
    "Digunakan one hot encoding karena variasi dari nilai pada masing-masing fitur sedikit dan tidak ada hirarki."
   ]
  },
  {
   "cell_type": "code",
   "execution_count": 26,
   "id": "b317e862-3975-45a5-9bd7-2bc36f50c7c9",
   "metadata": {
    "tags": []
   },
   "outputs": [],
   "source": [
    "transformer = ColumnTransformer([\n",
    "    ('onehot', OneHotEncoder(drop='first'), ['Dependents','OnlineSecurity', \n",
    "                                             'TechSupport', 'Contract','PaperlessBilling'])\n",
    "], remainder='passthrough')"
   ]
  },
  {
   "cell_type": "markdown",
   "id": "78db9f32-f00d-4d6e-9037-09b37d13d028",
   "metadata": {},
   "source": [
    "### Scalling\n",
    "\n",
    "Digunakan robust scaler karna fitur numerik yang digunakan terdistribusi tidak normal."
   ]
  },
  {
   "cell_type": "code",
   "execution_count": 27,
   "id": "93015bf4-c9d4-42c9-b43a-8781343350c0",
   "metadata": {
    "tags": []
   },
   "outputs": [],
   "source": [
    "scaler = RobustScaler()"
   ]
  },
  {
   "cell_type": "markdown",
   "id": "4f0861c7-9bc4-484b-9faa-6c8206357d10",
   "metadata": {},
   "source": [
    "### Splitting & Selection"
   ]
  },
  {
   "cell_type": "code",
   "execution_count": 28,
   "id": "208868c9-f613-4266-932e-bcb03cf829b5",
   "metadata": {
    "tags": []
   },
   "outputs": [
    {
     "data": {
      "text/html": [
       "<div>\n",
       "<style scoped>\n",
       "    .dataframe tbody tr th:only-of-type {\n",
       "        vertical-align: middle;\n",
       "    }\n",
       "\n",
       "    .dataframe tbody tr th {\n",
       "        vertical-align: top;\n",
       "    }\n",
       "\n",
       "    .dataframe thead th {\n",
       "        text-align: right;\n",
       "    }\n",
       "</style>\n",
       "<table border=\"1\" class=\"dataframe\">\n",
       "  <thead>\n",
       "    <tr style=\"text-align: right;\">\n",
       "      <th></th>\n",
       "      <th>Dependents</th>\n",
       "      <th>tenure</th>\n",
       "      <th>OnlineSecurity</th>\n",
       "      <th>TechSupport</th>\n",
       "      <th>Contract</th>\n",
       "      <th>PaperlessBilling</th>\n",
       "      <th>MonthlyCharges</th>\n",
       "      <th>Churn</th>\n",
       "    </tr>\n",
       "  </thead>\n",
       "  <tbody>\n",
       "    <tr>\n",
       "      <th>0</th>\n",
       "      <td>Yes</td>\n",
       "      <td>9</td>\n",
       "      <td>No</td>\n",
       "      <td>Yes</td>\n",
       "      <td>Month-to-month</td>\n",
       "      <td>Yes</td>\n",
       "      <td>72.90</td>\n",
       "      <td>1</td>\n",
       "    </tr>\n",
       "    <tr>\n",
       "      <th>1</th>\n",
       "      <td>No</td>\n",
       "      <td>14</td>\n",
       "      <td>No</td>\n",
       "      <td>No</td>\n",
       "      <td>Month-to-month</td>\n",
       "      <td>Yes</td>\n",
       "      <td>82.65</td>\n",
       "      <td>0</td>\n",
       "    </tr>\n",
       "    <tr>\n",
       "      <th>2</th>\n",
       "      <td>No</td>\n",
       "      <td>64</td>\n",
       "      <td>Yes</td>\n",
       "      <td>Yes</td>\n",
       "      <td>Two year</td>\n",
       "      <td>No</td>\n",
       "      <td>47.85</td>\n",
       "      <td>1</td>\n",
       "    </tr>\n",
       "    <tr>\n",
       "      <th>3</th>\n",
       "      <td>No</td>\n",
       "      <td>72</td>\n",
       "      <td>Yes</td>\n",
       "      <td>Yes</td>\n",
       "      <td>Two year</td>\n",
       "      <td>No</td>\n",
       "      <td>69.65</td>\n",
       "      <td>0</td>\n",
       "    </tr>\n",
       "    <tr>\n",
       "      <th>4</th>\n",
       "      <td>No</td>\n",
       "      <td>3</td>\n",
       "      <td>No</td>\n",
       "      <td>No</td>\n",
       "      <td>Month-to-month</td>\n",
       "      <td>Yes</td>\n",
       "      <td>23.60</td>\n",
       "      <td>0</td>\n",
       "    </tr>\n",
       "  </tbody>\n",
       "</table>\n",
       "</div>"
      ],
      "text/plain": [
       "  Dependents  tenure OnlineSecurity TechSupport        Contract  \\\n",
       "0        Yes       9             No         Yes  Month-to-month   \n",
       "1         No      14             No          No  Month-to-month   \n",
       "2         No      64            Yes         Yes        Two year   \n",
       "3         No      72            Yes         Yes        Two year   \n",
       "4         No       3             No          No  Month-to-month   \n",
       "\n",
       "  PaperlessBilling  MonthlyCharges  Churn  \n",
       "0              Yes           72.90      1  \n",
       "1              Yes           82.65      0  \n",
       "2               No           47.85      1  \n",
       "3               No           69.65      0  \n",
       "4              Yes           23.60      0  "
      ]
     },
     "execution_count": 28,
     "metadata": {},
     "output_type": "execute_result"
    }
   ],
   "source": [
    "# membuang kolom 'InternetService', 'DeviceProtection' dan 'OnlineBackup' pada dataframe original\n",
    "df.drop(columns = ['InternetService','DeviceProtection','OnlineBackup'],inplace = True)\n",
    "df.head()"
   ]
  },
  {
   "cell_type": "code",
   "execution_count": 33,
   "id": "9cf7624f-141e-4d0e-9750-e72ef7893292",
   "metadata": {
    "tags": []
   },
   "outputs": [
    {
     "name": "stdout",
     "output_type": "stream",
     "text": [
      "Jumlah duplikat = 14, Persentasi duplikat = 0.288481351741191\n"
     ]
    }
   ],
   "source": [
    "# menampilkan jumlah data duplikat kedua kalinya setelah dilakukan drop kolom 'InternetService', 'DeviceProtection' dan 'OnlineBackup'\n",
    "duplikat = df.duplicated().sum()\n",
    "persentasi_duplikat = (df.duplicated().sum() / len(df)) * 100\n",
    "print(f'Jumlah duplikat = {duplikat}, Persentasi duplikat = {persentasi_duplikat}')"
   ]
  },
  {
   "cell_type": "code",
   "execution_count": 35,
   "id": "8c7446f6-58bd-47dd-bcdd-4e79ff2b48d1",
   "metadata": {
    "tags": []
   },
   "outputs": [
    {
     "data": {
      "text/plain": [
       "0"
      ]
     },
     "execution_count": 35,
     "metadata": {},
     "output_type": "execute_result"
    }
   ],
   "source": [
    "# menghapus data duplikat kedua kalinya setelah dilakukan drop kolom 'InternetService', 'DeviceProtection' dan 'OnlineBackup'\n",
    "df.drop_duplicates(inplace=True)\n",
    "\n",
    "# reset index untuk memperbaiki index yang hilang karena proses penghapusan data\n",
    "df.reset_index(drop=True, inplace=True)\n",
    "\n",
    "# pengecekan kembali data duplikat\n",
    "df.duplicated().sum()"
   ]
  },
  {
   "cell_type": "code",
   "execution_count": 37,
   "id": "77d41585-fae0-4324-ad97-fb0e90f6a62b",
   "metadata": {
    "tags": []
   },
   "outputs": [],
   "source": [
    "# pendefinisian variabel dependent dan independent\n",
    "x = df.drop(['Churn'], axis=1)\n",
    "y = df['Churn']"
   ]
  },
  {
   "cell_type": "code",
   "execution_count": 38,
   "id": "cdf170fc-b430-423b-9bd0-2d314fce6a4a",
   "metadata": {
    "tags": []
   },
   "outputs": [],
   "source": [
    "# Splitting data train dan test dengan proporsi 80:20\n",
    "x_train, x_test, y_train, y_test= train_test_split(\n",
    "    x,\n",
    "    y,\n",
    "    stratify = y,\n",
    "    test_size=0.2,\n",
    "    random_state=200)"
   ]
  },
  {
   "cell_type": "code",
   "execution_count": 39,
   "id": "7d19c770-c126-4fba-90a8-5ca5e732c32b",
   "metadata": {
    "tags": []
   },
   "outputs": [
    {
     "data": {
      "text/html": [
       "<div>\n",
       "<style scoped>\n",
       "    .dataframe tbody tr th:only-of-type {\n",
       "        vertical-align: middle;\n",
       "    }\n",
       "\n",
       "    .dataframe tbody tr th {\n",
       "        vertical-align: top;\n",
       "    }\n",
       "\n",
       "    .dataframe thead th {\n",
       "        text-align: right;\n",
       "    }\n",
       "</style>\n",
       "<table border=\"1\" class=\"dataframe\">\n",
       "  <thead>\n",
       "    <tr style=\"text-align: right;\">\n",
       "      <th></th>\n",
       "      <th>onehot__Dependents_Yes</th>\n",
       "      <th>onehot__OnlineSecurity_Yes</th>\n",
       "      <th>onehot__TechSupport_Yes</th>\n",
       "      <th>onehot__Contract_One year</th>\n",
       "      <th>onehot__Contract_Two year</th>\n",
       "      <th>onehot__PaperlessBilling_Yes</th>\n",
       "      <th>remainder__tenure</th>\n",
       "      <th>remainder__MonthlyCharges</th>\n",
       "    </tr>\n",
       "  </thead>\n",
       "  <tbody>\n",
       "    <tr>\n",
       "      <th>0</th>\n",
       "      <td>0.0</td>\n",
       "      <td>0.0</td>\n",
       "      <td>0.0</td>\n",
       "      <td>1.0</td>\n",
       "      <td>0.0</td>\n",
       "      <td>1.0</td>\n",
       "      <td>69.0</td>\n",
       "      <td>26.30</td>\n",
       "    </tr>\n",
       "    <tr>\n",
       "      <th>1</th>\n",
       "      <td>0.0</td>\n",
       "      <td>0.0</td>\n",
       "      <td>0.0</td>\n",
       "      <td>0.0</td>\n",
       "      <td>0.0</td>\n",
       "      <td>1.0</td>\n",
       "      <td>2.0</td>\n",
       "      <td>74.90</td>\n",
       "    </tr>\n",
       "    <tr>\n",
       "      <th>2</th>\n",
       "      <td>0.0</td>\n",
       "      <td>0.0</td>\n",
       "      <td>0.0</td>\n",
       "      <td>0.0</td>\n",
       "      <td>0.0</td>\n",
       "      <td>1.0</td>\n",
       "      <td>1.0</td>\n",
       "      <td>44.75</td>\n",
       "    </tr>\n",
       "    <tr>\n",
       "      <th>3</th>\n",
       "      <td>0.0</td>\n",
       "      <td>1.0</td>\n",
       "      <td>0.0</td>\n",
       "      <td>1.0</td>\n",
       "      <td>0.0</td>\n",
       "      <td>1.0</td>\n",
       "      <td>45.0</td>\n",
       "      <td>100.30</td>\n",
       "    </tr>\n",
       "    <tr>\n",
       "      <th>4</th>\n",
       "      <td>1.0</td>\n",
       "      <td>1.0</td>\n",
       "      <td>1.0</td>\n",
       "      <td>0.0</td>\n",
       "      <td>1.0</td>\n",
       "      <td>1.0</td>\n",
       "      <td>0.0</td>\n",
       "      <td>52.55</td>\n",
       "    </tr>\n",
       "  </tbody>\n",
       "</table>\n",
       "</div>"
      ],
      "text/plain": [
       "   onehot__Dependents_Yes  onehot__OnlineSecurity_Yes  \\\n",
       "0                     0.0                         0.0   \n",
       "1                     0.0                         0.0   \n",
       "2                     0.0                         0.0   \n",
       "3                     0.0                         1.0   \n",
       "4                     1.0                         1.0   \n",
       "\n",
       "   onehot__TechSupport_Yes  onehot__Contract_One year  \\\n",
       "0                      0.0                        1.0   \n",
       "1                      0.0                        0.0   \n",
       "2                      0.0                        0.0   \n",
       "3                      0.0                        1.0   \n",
       "4                      1.0                        0.0   \n",
       "\n",
       "   onehot__Contract_Two year  onehot__PaperlessBilling_Yes  remainder__tenure  \\\n",
       "0                        0.0                           1.0               69.0   \n",
       "1                        0.0                           1.0                2.0   \n",
       "2                        0.0                           1.0                1.0   \n",
       "3                        0.0                           1.0               45.0   \n",
       "4                        1.0                           1.0                0.0   \n",
       "\n",
       "   remainder__MonthlyCharges  \n",
       "0                      26.30  \n",
       "1                      74.90  \n",
       "2                      44.75  \n",
       "3                     100.30  \n",
       "4                      52.55  "
      ]
     },
     "execution_count": 39,
     "metadata": {},
     "output_type": "execute_result"
    }
   ],
   "source": [
    "checking = pd.DataFrame(transformer.fit_transform(x_train),columns=transformer.get_feature_names_out())\n",
    "checking.head(5)"
   ]
  },
  {
   "cell_type": "markdown",
   "id": "a7a50869-0858-4ae6-b5a5-94b272b5c657",
   "metadata": {},
   "source": [
    "## Modeling & Evaluation"
   ]
  },
  {
   "cell_type": "markdown",
   "id": "8f165628-7792-41c2-b703-8aa305acce87",
   "metadata": {},
   "source": [
    "Pada tahapan modeling awal, akan digunakan berbagai model untuk mengukur sejauh apa kualitas dari hasil masing-masing model. Tahap selanjutnya adalah memilih model terbaik untuk dilakukan *imbalance handling* serta *hyperparameter tuning* untuk meningkatkan kualitas hasil dari model tersebut.\n",
    "\n",
    "Adapun model-model yang digunakan di tahap awal yaitu :\n",
    "\n",
    "**1. Logistic Regression**\n",
    "\n",
    "Logistic Regression adalah model regresi yang digunakan untuk masalah klasifikasi biner. Logistic Regression menghasilkan fungsi logistik yang mengubah nilai-nilai linier dari kombinasi linier fitur menjadi probabilitas kelas yang berbeda.\n",
    "\n",
    "**2. K-Nearest Neighbors**\n",
    "\n",
    "K-Nearest Neighbors adalah model klasifikasi yang melakukan prediksi berdasarkan mayoritas kelas dari k-neighbors terdekat dalam ruang fitur.\n",
    "\n",
    "**3. Decision Tree**\n",
    "\n",
    "Decision Tree adalah model yang memecah data menjadi subgrup yang lebih kecil seperti struktur pohon untuk melakukan prediksi berdasarkan keputusan yang diambil dari fitur data.\n",
    "\n",
    "**4. Random Forest**\n",
    "\n",
    "Random Forest adalah model ensemble yang terdiri dari banyak Decision Trees dan melakukan prediksi dari banyak pohon keputusan (Decision Trees) untuk menghasilkan prediksi yang lebih stabil dan akurat.\n",
    "\n",
    "**5. XGBoost**\n",
    "\n",
    "XGBoost membangun serangkaian pohon keputusan secara berurutan, dan setiap pohon berusaha memperbaiki kesalahan prediksi model sebelumnya.\n",
    "\n",
    "**6. LightGBM**\n",
    "\n",
    "LightGBM adalah implementasi algoritma gradient boosting yang efisien dan mendukung pelatihan pada dataset besar."
   ]
  },
  {
   "cell_type": "code",
   "execution_count": 40,
   "id": "aacc2c1b-e6da-431a-8503-bd5a3d4d79d7",
   "metadata": {
    "tags": []
   },
   "outputs": [],
   "source": [
    "# pendefinisian masing-masing model\n",
    "logreg = LogisticRegression()\n",
    "knn = KNeighborsClassifier()\n",
    "dt = DecisionTreeClassifier()\n",
    "rf = RandomForestClassifier()\n",
    "xgb = XGBClassifier()\n",
    "lgbm = lgb.LGBMClassifier()"
   ]
  },
  {
   "cell_type": "markdown",
   "id": "415cd0c0-93b2-4ed5-bf50-928588158ff1",
   "metadata": {},
   "source": [
    "### Benchmarking Model"
   ]
  },
  {
   "cell_type": "code",
   "execution_count": 41,
   "id": "47830f03-cbfd-4864-8818-54654ff6fd4c",
   "metadata": {
    "tags": []
   },
   "outputs": [
    {
     "name": "stdout",
     "output_type": "stream",
     "text": [
      "[LightGBM] [Info] Number of positive: 819, number of negative: 2277\n",
      "[LightGBM] [Info] Auto-choosing row-wise multi-threading, the overhead of testing was 0.000754 seconds.\n",
      "You can set `force_row_wise=true` to remove the overhead.\n",
      "And if memory is not enough, you can set `force_col_wise=true`.\n",
      "[LightGBM] [Info] Total Bins 340\n",
      "[LightGBM] [Info] Number of data points in the train set: 3096, number of used features: 8\n",
      "[LightGBM] [Info] [binary:BoostFromScore]: pavg=0.264535 -> initscore=-1.022530\n",
      "[LightGBM] [Info] Start training from score -1.022530\n",
      "[LightGBM] [Info] Number of positive: 820, number of negative: 2277\n",
      "[LightGBM] [Info] Auto-choosing col-wise multi-threading, the overhead of testing was 0.000186 seconds.\n",
      "You can set `force_col_wise=true` to remove the overhead.\n",
      "[LightGBM] [Info] Total Bins 340\n",
      "[LightGBM] [Info] Number of data points in the train set: 3097, number of used features: 8\n",
      "[LightGBM] [Info] [binary:BoostFromScore]: pavg=0.264772 -> initscore=-1.021310\n",
      "[LightGBM] [Info] Start training from score -1.021310\n",
      "[LightGBM] [Info] Number of positive: 819, number of negative: 2278\n",
      "[LightGBM] [Info] Auto-choosing col-wise multi-threading, the overhead of testing was 0.000201 seconds.\n",
      "You can set `force_col_wise=true` to remove the overhead.\n",
      "[LightGBM] [Info] Total Bins 340\n",
      "[LightGBM] [Info] Number of data points in the train set: 3097, number of used features: 8\n",
      "[LightGBM] [Info] [binary:BoostFromScore]: pavg=0.264449 -> initscore=-1.022969\n",
      "[LightGBM] [Info] Start training from score -1.022969\n",
      "[LightGBM] [Info] Number of positive: 819, number of negative: 2278\n",
      "[LightGBM] [Info] Auto-choosing col-wise multi-threading, the overhead of testing was 0.000216 seconds.\n",
      "You can set `force_col_wise=true` to remove the overhead.\n",
      "[LightGBM] [Info] Total Bins 340\n",
      "[LightGBM] [Info] Number of data points in the train set: 3097, number of used features: 8\n",
      "[LightGBM] [Info] [binary:BoostFromScore]: pavg=0.264449 -> initscore=-1.022969\n",
      "[LightGBM] [Info] Start training from score -1.022969\n",
      "[LightGBM] [Info] Number of positive: 819, number of negative: 2278\n",
      "[LightGBM] [Info] Auto-choosing col-wise multi-threading, the overhead of testing was 0.000175 seconds.\n",
      "You can set `force_col_wise=true` to remove the overhead.\n",
      "[LightGBM] [Info] Total Bins 340\n",
      "[LightGBM] [Info] Number of data points in the train set: 3097, number of used features: 8\n",
      "[LightGBM] [Info] [binary:BoostFromScore]: pavg=0.264449 -> initscore=-1.022969\n",
      "[LightGBM] [Info] Start training from score -1.022969\n"
     ]
    }
   ],
   "source": [
    "# proses modelling menggunakan berbagai model\n",
    "models = [logreg,knn,dt,rf,xgb,lgbm]\n",
    "score=[]\n",
    "rata=[]\n",
    "std=[]\n",
    "\n",
    "for i in models:\n",
    "    skfold=StratifiedKFold(n_splits=5)\n",
    "    estimator=Pipeline([\n",
    "        ('preprocess',transformer),\n",
    "        ('scaler', scaler),\n",
    "        ('model',i)])\n",
    "    model_cv=cross_val_score(estimator,x_train,y_train,cv=skfold,scoring='roc_auc')\n",
    "    score.append(model_cv)\n",
    "    rata.append(model_cv.mean())\n",
    "    std.append(model_cv.std())"
   ]
  },
  {
   "cell_type": "code",
   "execution_count": 42,
   "id": "307cc55a-b239-492d-9a4b-60dea12f69cd",
   "metadata": {
    "tags": []
   },
   "outputs": [
    {
     "data": {
      "text/html": [
       "<div>\n",
       "<style scoped>\n",
       "    .dataframe tbody tr th:only-of-type {\n",
       "        vertical-align: middle;\n",
       "    }\n",
       "\n",
       "    .dataframe tbody tr th {\n",
       "        vertical-align: top;\n",
       "    }\n",
       "\n",
       "    .dataframe thead th {\n",
       "        text-align: right;\n",
       "    }\n",
       "</style>\n",
       "<table border=\"1\" class=\"dataframe\">\n",
       "  <thead>\n",
       "    <tr style=\"text-align: right;\">\n",
       "      <th></th>\n",
       "      <th>mean roc_auc</th>\n",
       "      <th>sdev</th>\n",
       "    </tr>\n",
       "    <tr>\n",
       "      <th>model</th>\n",
       "      <th></th>\n",
       "      <th></th>\n",
       "    </tr>\n",
       "  </thead>\n",
       "  <tbody>\n",
       "    <tr>\n",
       "      <th>Logistic Regression</th>\n",
       "      <td>0.837207</td>\n",
       "      <td>0.013558</td>\n",
       "    </tr>\n",
       "    <tr>\n",
       "      <th>LightGBM</th>\n",
       "      <td>0.817066</td>\n",
       "      <td>0.012863</td>\n",
       "    </tr>\n",
       "    <tr>\n",
       "      <th>XGBoost</th>\n",
       "      <td>0.803156</td>\n",
       "      <td>0.017084</td>\n",
       "    </tr>\n",
       "    <tr>\n",
       "      <th>Random Forest</th>\n",
       "      <td>0.787228</td>\n",
       "      <td>0.016870</td>\n",
       "    </tr>\n",
       "    <tr>\n",
       "      <th>KNN</th>\n",
       "      <td>0.774585</td>\n",
       "      <td>0.017924</td>\n",
       "    </tr>\n",
       "    <tr>\n",
       "      <th>Decision Tree</th>\n",
       "      <td>0.640296</td>\n",
       "      <td>0.017430</td>\n",
       "    </tr>\n",
       "  </tbody>\n",
       "</table>\n",
       "</div>"
      ],
      "text/plain": [
       "                     mean roc_auc      sdev\n",
       "model                                      \n",
       "Logistic Regression      0.837207  0.013558\n",
       "LightGBM                 0.817066  0.012863\n",
       "XGBoost                  0.803156  0.017084\n",
       "Random Forest            0.787228  0.016870\n",
       "KNN                      0.774585  0.017924\n",
       "Decision Tree            0.640296  0.017430"
      ]
     },
     "execution_count": 42,
     "metadata": {},
     "output_type": "execute_result"
    }
   ],
   "source": [
    "# menampilkan hasil dari model\n",
    "pd.DataFrame({'model':['Logistic Regression', 'KNN', 'Decision Tree', 'Random Forest', 'XGBoost', 'LightGBM'],\n",
    "              'mean roc_auc':rata,'sdev':std}).set_index('model').sort_values(by='mean roc_auc',ascending=False)"
   ]
  },
  {
   "cell_type": "markdown",
   "id": "1fc8fa52-0313-4aa8-8de9-f9bc740040b9",
   "metadata": {},
   "source": [
    "Hasil menunjukkan model dengan nilai ROC_AUC paling tinggi yaitu model Logistic Regression dan terlihat stabil."
   ]
  },
  {
   "cell_type": "markdown",
   "id": "f3810589-11cd-4927-a4b4-a9012e7a76ee",
   "metadata": {},
   "source": [
    "### Top 2 Benchmarking Model - Test Set Prediction"
   ]
  },
  {
   "cell_type": "markdown",
   "id": "1eff19f7-798d-4a08-99db-c44f51633a41",
   "metadata": {},
   "source": [
    "Memilih 2 model terbaik lalu melakukan prediksi terhadap data test set."
   ]
  },
  {
   "cell_type": "code",
   "execution_count": 43,
   "id": "732c5a44-e834-4658-b306-e21eb47cb92e",
   "metadata": {
    "tags": []
   },
   "outputs": [
    {
     "name": "stdout",
     "output_type": "stream",
     "text": [
      "Logistic Regression \n",
      "               precision    recall  f1-score   support\n",
      "\n",
      "           0       0.85      0.89      0.87       712\n",
      "           1       0.65      0.55      0.60       256\n",
      "\n",
      "    accuracy                           0.80       968\n",
      "   macro avg       0.75      0.72      0.73       968\n",
      "weighted avg       0.79      0.80      0.80       968\n",
      "\n",
      "[LightGBM] [Info] Number of positive: 1024, number of negative: 2847\n",
      "[LightGBM] [Info] Auto-choosing row-wise multi-threading, the overhead of testing was 0.000196 seconds.\n",
      "You can set `force_row_wise=true` to remove the overhead.\n",
      "And if memory is not enough, you can set `force_col_wise=true`.\n",
      "[LightGBM] [Info] Total Bins 340\n",
      "[LightGBM] [Info] Number of data points in the train set: 3871, number of used features: 8\n",
      "[LightGBM] [Info] [binary:BoostFromScore]: pavg=0.264531 -> initscore=-1.022549\n",
      "[LightGBM] [Info] Start training from score -1.022549\n",
      "LightGBM \n",
      "               precision    recall  f1-score   support\n",
      "\n",
      "           0       0.83      0.88      0.85       712\n",
      "           1       0.60      0.51      0.55       256\n",
      "\n",
      "    accuracy                           0.78       968\n",
      "   macro avg       0.72      0.69      0.70       968\n",
      "weighted avg       0.77      0.78      0.78       968\n",
      "\n",
      "                     roc_auc_score\n",
      "model                             \n",
      "Logistic Regression       0.840124\n",
      "LightGBM                  0.835844\n"
     ]
    }
   ],
   "source": [
    "models = [logreg, lgbm]\n",
    "score_roc_auc = []\n",
    "\n",
    "def y_pred_func(i):\n",
    "    estimator = Pipeline([\n",
    "        ('preprocess', transformer),\n",
    "        ('scaler', scaler),\n",
    "        ('model', i)\n",
    "    ])\n",
    "    estimator.fit(x_train, y_train)\n",
    "    y_pred = estimator.predict(x_test)\n",
    "    return estimator, y_pred, x_test\n",
    "\n",
    "for model, model_name in zip(models, ['Logistic Regression', 'LightGBM']):\n",
    "    estimator, y_pred, x_test = y_pred_func(model)\n",
    "    y_predict_proba = estimator.predict_proba(x_test)[:, 1]\n",
    "    score_roc_auc.append(roc_auc_score(y_test, y_predict_proba))\n",
    "    print(model_name, '\\n', classification_report(y_test, y_pred))\n",
    "\n",
    "results_df = pd.DataFrame({'model': ['Logistic Regression', 'LightGBM'],\n",
    "                           'roc_auc_score': score_roc_auc}).set_index('model').sort_values(by='roc_auc_score', ascending=False)\n",
    "\n",
    "print(results_df)"
   ]
  },
  {
   "cell_type": "markdown",
   "id": "5e73a977-3cf0-4169-a6dc-e4a6fe7d2d3b",
   "metadata": {},
   "source": [
    "Hasil pada data testing menunjukkan bahwa performa terbaik didapatkan oleh model Logistic Regression walaupun perbedaannya tidak signifikan dengan hasil dari model LightGBM"
   ]
  },
  {
   "cell_type": "markdown",
   "id": "5625ad3b-a83d-4f9e-88ee-0d2bb7cd1ce8",
   "metadata": {},
   "source": [
    "### Imbalance Handling\n",
    "\n",
    "Dataset yang digunakan adalah dataset imbalance dimana kelas dengan 'churn' bernilai 0 jauh lebih dominan dari kelas dengan 'churn' bernilai 1. Perlu dilakukan proses tambahan untuk menjadi solusi dalam pengolahan data imbalance diantaranya adalah :\n",
    "\n",
    "1. menambah data amatan,\n",
    "2. menggunakan resampling seperti undersampling dan oversampling,\n",
    "3. menggunakan algorithm tertentu,\n",
    "4. penalized model.\n",
    "\n",
    "Metode yang akan digunakan yaitu penalized model dengan memberikan pinalti terhadap model itu sendiri (dalam hal ini model Logistic Regression) dan metode oversampling SMOTE."
   ]
  },
  {
   "cell_type": "markdown",
   "id": "2e958703-7542-446a-b7a3-06f9b2c0c081",
   "metadata": {},
   "source": [
    "#### Penalized Model\n",
    "\n",
    "Model yang digunakan adalah Logistic Regression dan jenis pinaltinya adalah menggunakan parameter class_weight yaitu 'balanced' karena untuk mengatasi perbedaan jumlah data churn-0 dengan churn-1 yang imbalance sehingga akan disesuaikan pembobotannya."
   ]
  },
  {
   "cell_type": "code",
   "execution_count": 44,
   "id": "1118ab34-7321-4320-8e95-68c609dd7696",
   "metadata": {},
   "outputs": [
    {
     "name": "stdout",
     "output_type": "stream",
     "text": [
      "[0.86432606 0.8253096  0.83066141 0.8374641  0.82764371]\n",
      "0.8370809741711873\n"
     ]
    }
   ],
   "source": [
    "# modelling Logistic Regression dengan pinalti\n",
    "model_lr_penalized = LogisticRegression(class_weight = 'balanced')\n",
    "skfold = StratifiedKFold(n_splits=5)\n",
    "estimator_p = Pipeline([\n",
    "        ('preprocess',transformer),\n",
    "        ('scaler', scaler),\n",
    "        ('model',model_lr_penalized)])\n",
    "model_cv_p = cross_val_score(estimator_p,x_train,y_train,cv=skfold,scoring='roc_auc')\n",
    "print(model_cv_p)\n",
    "print(model_cv_p.mean())"
   ]
  },
  {
   "cell_type": "code",
   "execution_count": 45,
   "id": "83055976-09d0-472b-af9a-32b900ab2097",
   "metadata": {
    "tags": []
   },
   "outputs": [
    {
     "data": {
      "text/html": [
       "<style>#sk-container-id-1 {color: black;background-color: white;}#sk-container-id-1 pre{padding: 0;}#sk-container-id-1 div.sk-toggleable {background-color: white;}#sk-container-id-1 label.sk-toggleable__label {cursor: pointer;display: block;width: 100%;margin-bottom: 0;padding: 0.3em;box-sizing: border-box;text-align: center;}#sk-container-id-1 label.sk-toggleable__label-arrow:before {content: \"▸\";float: left;margin-right: 0.25em;color: #696969;}#sk-container-id-1 label.sk-toggleable__label-arrow:hover:before {color: black;}#sk-container-id-1 div.sk-estimator:hover label.sk-toggleable__label-arrow:before {color: black;}#sk-container-id-1 div.sk-toggleable__content {max-height: 0;max-width: 0;overflow: hidden;text-align: left;background-color: #f0f8ff;}#sk-container-id-1 div.sk-toggleable__content pre {margin: 0.2em;color: black;border-radius: 0.25em;background-color: #f0f8ff;}#sk-container-id-1 input.sk-toggleable__control:checked~div.sk-toggleable__content {max-height: 200px;max-width: 100%;overflow: auto;}#sk-container-id-1 input.sk-toggleable__control:checked~label.sk-toggleable__label-arrow:before {content: \"▾\";}#sk-container-id-1 div.sk-estimator input.sk-toggleable__control:checked~label.sk-toggleable__label {background-color: #d4ebff;}#sk-container-id-1 div.sk-label input.sk-toggleable__control:checked~label.sk-toggleable__label {background-color: #d4ebff;}#sk-container-id-1 input.sk-hidden--visually {border: 0;clip: rect(1px 1px 1px 1px);clip: rect(1px, 1px, 1px, 1px);height: 1px;margin: -1px;overflow: hidden;padding: 0;position: absolute;width: 1px;}#sk-container-id-1 div.sk-estimator {font-family: monospace;background-color: #f0f8ff;border: 1px dotted black;border-radius: 0.25em;box-sizing: border-box;margin-bottom: 0.5em;}#sk-container-id-1 div.sk-estimator:hover {background-color: #d4ebff;}#sk-container-id-1 div.sk-parallel-item::after {content: \"\";width: 100%;border-bottom: 1px solid gray;flex-grow: 1;}#sk-container-id-1 div.sk-label:hover label.sk-toggleable__label {background-color: #d4ebff;}#sk-container-id-1 div.sk-serial::before {content: \"\";position: absolute;border-left: 1px solid gray;box-sizing: border-box;top: 0;bottom: 0;left: 50%;z-index: 0;}#sk-container-id-1 div.sk-serial {display: flex;flex-direction: column;align-items: center;background-color: white;padding-right: 0.2em;padding-left: 0.2em;position: relative;}#sk-container-id-1 div.sk-item {position: relative;z-index: 1;}#sk-container-id-1 div.sk-parallel {display: flex;align-items: stretch;justify-content: center;background-color: white;position: relative;}#sk-container-id-1 div.sk-item::before, #sk-container-id-1 div.sk-parallel-item::before {content: \"\";position: absolute;border-left: 1px solid gray;box-sizing: border-box;top: 0;bottom: 0;left: 50%;z-index: -1;}#sk-container-id-1 div.sk-parallel-item {display: flex;flex-direction: column;z-index: 1;position: relative;background-color: white;}#sk-container-id-1 div.sk-parallel-item:first-child::after {align-self: flex-end;width: 50%;}#sk-container-id-1 div.sk-parallel-item:last-child::after {align-self: flex-start;width: 50%;}#sk-container-id-1 div.sk-parallel-item:only-child::after {width: 0;}#sk-container-id-1 div.sk-dashed-wrapped {border: 1px dashed gray;margin: 0 0.4em 0.5em 0.4em;box-sizing: border-box;padding-bottom: 0.4em;background-color: white;}#sk-container-id-1 div.sk-label label {font-family: monospace;font-weight: bold;display: inline-block;line-height: 1.2em;}#sk-container-id-1 div.sk-label-container {text-align: center;}#sk-container-id-1 div.sk-container {/* jupyter's `normalize.less` sets `[hidden] { display: none; }` but bootstrap.min.css set `[hidden] { display: none !important; }` so we also need the `!important` here to be able to override the default hidden behavior on the sphinx rendered scikit-learn.org. See: https://github.com/scikit-learn/scikit-learn/issues/21755 */display: inline-block !important;position: relative;}#sk-container-id-1 div.sk-text-repr-fallback {display: none;}</style><div id=\"sk-container-id-1\" class=\"sk-top-container\"><div class=\"sk-text-repr-fallback\"><pre>Pipeline(steps=[(&#x27;preprocess&#x27;,\n",
       "                 ColumnTransformer(remainder=&#x27;passthrough&#x27;,\n",
       "                                   transformers=[(&#x27;onehot&#x27;,\n",
       "                                                  OneHotEncoder(drop=&#x27;first&#x27;),\n",
       "                                                  [&#x27;Dependents&#x27;,\n",
       "                                                   &#x27;OnlineSecurity&#x27;,\n",
       "                                                   &#x27;TechSupport&#x27;, &#x27;Contract&#x27;,\n",
       "                                                   &#x27;PaperlessBilling&#x27;])])),\n",
       "                (&#x27;scaler&#x27;, RobustScaler()),\n",
       "                (&#x27;model&#x27;, LogisticRegression(class_weight=&#x27;balanced&#x27;))])</pre><b>In a Jupyter environment, please rerun this cell to show the HTML representation or trust the notebook. <br />On GitHub, the HTML representation is unable to render, please try loading this page with nbviewer.org.</b></div><div class=\"sk-container\" hidden><div class=\"sk-item sk-dashed-wrapped\"><div class=\"sk-label-container\"><div class=\"sk-label sk-toggleable\"><input class=\"sk-toggleable__control sk-hidden--visually\" id=\"sk-estimator-id-1\" type=\"checkbox\" ><label for=\"sk-estimator-id-1\" class=\"sk-toggleable__label sk-toggleable__label-arrow\">Pipeline</label><div class=\"sk-toggleable__content\"><pre>Pipeline(steps=[(&#x27;preprocess&#x27;,\n",
       "                 ColumnTransformer(remainder=&#x27;passthrough&#x27;,\n",
       "                                   transformers=[(&#x27;onehot&#x27;,\n",
       "                                                  OneHotEncoder(drop=&#x27;first&#x27;),\n",
       "                                                  [&#x27;Dependents&#x27;,\n",
       "                                                   &#x27;OnlineSecurity&#x27;,\n",
       "                                                   &#x27;TechSupport&#x27;, &#x27;Contract&#x27;,\n",
       "                                                   &#x27;PaperlessBilling&#x27;])])),\n",
       "                (&#x27;scaler&#x27;, RobustScaler()),\n",
       "                (&#x27;model&#x27;, LogisticRegression(class_weight=&#x27;balanced&#x27;))])</pre></div></div></div><div class=\"sk-serial\"><div class=\"sk-item sk-dashed-wrapped\"><div class=\"sk-label-container\"><div class=\"sk-label sk-toggleable\"><input class=\"sk-toggleable__control sk-hidden--visually\" id=\"sk-estimator-id-2\" type=\"checkbox\" ><label for=\"sk-estimator-id-2\" class=\"sk-toggleable__label sk-toggleable__label-arrow\">preprocess: ColumnTransformer</label><div class=\"sk-toggleable__content\"><pre>ColumnTransformer(remainder=&#x27;passthrough&#x27;,\n",
       "                  transformers=[(&#x27;onehot&#x27;, OneHotEncoder(drop=&#x27;first&#x27;),\n",
       "                                 [&#x27;Dependents&#x27;, &#x27;OnlineSecurity&#x27;, &#x27;TechSupport&#x27;,\n",
       "                                  &#x27;Contract&#x27;, &#x27;PaperlessBilling&#x27;])])</pre></div></div></div><div class=\"sk-parallel\"><div class=\"sk-parallel-item\"><div class=\"sk-item\"><div class=\"sk-label-container\"><div class=\"sk-label sk-toggleable\"><input class=\"sk-toggleable__control sk-hidden--visually\" id=\"sk-estimator-id-3\" type=\"checkbox\" ><label for=\"sk-estimator-id-3\" class=\"sk-toggleable__label sk-toggleable__label-arrow\">onehot</label><div class=\"sk-toggleable__content\"><pre>[&#x27;Dependents&#x27;, &#x27;OnlineSecurity&#x27;, &#x27;TechSupport&#x27;, &#x27;Contract&#x27;, &#x27;PaperlessBilling&#x27;]</pre></div></div></div><div class=\"sk-serial\"><div class=\"sk-item\"><div class=\"sk-estimator sk-toggleable\"><input class=\"sk-toggleable__control sk-hidden--visually\" id=\"sk-estimator-id-4\" type=\"checkbox\" ><label for=\"sk-estimator-id-4\" class=\"sk-toggleable__label sk-toggleable__label-arrow\">OneHotEncoder</label><div class=\"sk-toggleable__content\"><pre>OneHotEncoder(drop=&#x27;first&#x27;)</pre></div></div></div></div></div></div><div class=\"sk-parallel-item\"><div class=\"sk-item\"><div class=\"sk-label-container\"><div class=\"sk-label sk-toggleable\"><input class=\"sk-toggleable__control sk-hidden--visually\" id=\"sk-estimator-id-5\" type=\"checkbox\" ><label for=\"sk-estimator-id-5\" class=\"sk-toggleable__label sk-toggleable__label-arrow\">remainder</label><div class=\"sk-toggleable__content\"><pre>[&#x27;tenure&#x27;, &#x27;MonthlyCharges&#x27;]</pre></div></div></div><div class=\"sk-serial\"><div class=\"sk-item\"><div class=\"sk-estimator sk-toggleable\"><input class=\"sk-toggleable__control sk-hidden--visually\" id=\"sk-estimator-id-6\" type=\"checkbox\" ><label for=\"sk-estimator-id-6\" class=\"sk-toggleable__label sk-toggleable__label-arrow\">passthrough</label><div class=\"sk-toggleable__content\"><pre>passthrough</pre></div></div></div></div></div></div></div></div><div class=\"sk-item\"><div class=\"sk-estimator sk-toggleable\"><input class=\"sk-toggleable__control sk-hidden--visually\" id=\"sk-estimator-id-7\" type=\"checkbox\" ><label for=\"sk-estimator-id-7\" class=\"sk-toggleable__label sk-toggleable__label-arrow\">RobustScaler</label><div class=\"sk-toggleable__content\"><pre>RobustScaler()</pre></div></div></div><div class=\"sk-item\"><div class=\"sk-estimator sk-toggleable\"><input class=\"sk-toggleable__control sk-hidden--visually\" id=\"sk-estimator-id-8\" type=\"checkbox\" ><label for=\"sk-estimator-id-8\" class=\"sk-toggleable__label sk-toggleable__label-arrow\">LogisticRegression</label><div class=\"sk-toggleable__content\"><pre>LogisticRegression(class_weight=&#x27;balanced&#x27;)</pre></div></div></div></div></div></div></div>"
      ],
      "text/plain": [
       "Pipeline(steps=[('preprocess',\n",
       "                 ColumnTransformer(remainder='passthrough',\n",
       "                                   transformers=[('onehot',\n",
       "                                                  OneHotEncoder(drop='first'),\n",
       "                                                  ['Dependents',\n",
       "                                                   'OnlineSecurity',\n",
       "                                                   'TechSupport', 'Contract',\n",
       "                                                   'PaperlessBilling'])])),\n",
       "                ('scaler', RobustScaler()),\n",
       "                ('model', LogisticRegression(class_weight='balanced'))])"
      ]
     },
     "execution_count": 45,
     "metadata": {},
     "output_type": "execute_result"
    }
   ],
   "source": [
    "# proses pelatihan\n",
    "estimator_p.fit(x_train, y_train)"
   ]
  },
  {
   "cell_type": "code",
   "execution_count": 46,
   "id": "86518a2c-fd91-4b65-a3f0-daf0f8d98c1f",
   "metadata": {
    "tags": []
   },
   "outputs": [
    {
     "name": "stdout",
     "output_type": "stream",
     "text": [
      "              precision    recall  f1-score   support\n",
      "\n",
      "           0       0.91      0.70      0.79       712\n",
      "           1       0.49      0.82      0.61       256\n",
      "\n",
      "    accuracy                           0.73       968\n",
      "   macro avg       0.70      0.76      0.70       968\n",
      "weighted avg       0.80      0.73      0.74       968\n",
      "\n"
     ]
    }
   ],
   "source": [
    "# proses prediksi pada data test\n",
    "y_pred_p = estimator_p.predict(x_test)\n",
    "print(classification_report(y_test, y_pred_p))"
   ]
  },
  {
   "cell_type": "code",
   "execution_count": 47,
   "id": "46fe158a-42d4-4069-b975-6ff4de76fe87",
   "metadata": {
    "tags": []
   },
   "outputs": [
    {
     "name": "stdout",
     "output_type": "stream",
     "text": [
      "ROC AUC adalah: 0.8398492363061797\n"
     ]
    }
   ],
   "source": [
    "# menghitung ROC AUC\n",
    "y_pred_proba_p = estimator_p.predict_proba(x_test)[:, 1]\n",
    "\n",
    "roc_auc = roc_auc_score(y_test, y_pred_proba_p)\n",
    "print(f'ROC AUC adalah: {roc_auc}')"
   ]
  },
  {
   "cell_type": "markdown",
   "id": "800c42db-8396-4864-8118-fc7567086d56",
   "metadata": {},
   "source": [
    "Hasil perbandingan antara model Logistic Regression biasa dengan Penalized Logistic Regression Model yaitu nilai presisinya menurun dari 65 menjadi 49 tetapi recallnya meningkat dari 55 menjadi 82."
   ]
  },
  {
   "cell_type": "markdown",
   "id": "7e1f61c6-94ee-4cc3-9eec-b29709e77350",
   "metadata": {},
   "source": [
    "#### SMOTE"
   ]
  },
  {
   "cell_type": "code",
   "execution_count": 56,
   "id": "c56c51c7-1264-459e-8ca9-8d2f66ba00cf",
   "metadata": {
    "tags": []
   },
   "outputs": [
    {
     "name": "stdout",
     "output_type": "stream",
     "text": [
      "[0.86572957 0.8245786  0.83071285 0.83826996 0.82750654]\n",
      "0.8373595038429885\n"
     ]
    }
   ],
   "source": [
    "# modelling Logistic Regression dengan SMOTE\n",
    "model_lr_smote = LogisticRegression()\n",
    "smote = SMOTE(sampling_strategy = 1)\n",
    "skfold = StratifiedKFold(n_splits=5)\n",
    "estimator_s = Pipeline([\n",
    "        ('preprocess',transformer),\n",
    "        ('scaler', scaler),\n",
    "        ('balance', smote),\n",
    "        ('model',model_lr_smote)])\n",
    "model_cv_s = cross_val_score(estimator_s,x_train,y_train,cv=skfold,scoring='roc_auc')\n",
    "print(model_cv_s)\n",
    "print(model_cv_s.mean())"
   ]
  },
  {
   "cell_type": "code",
   "execution_count": 57,
   "id": "9654c98a-3f39-4841-8559-5d18b5fb0c43",
   "metadata": {
    "tags": []
   },
   "outputs": [
    {
     "data": {
      "text/html": [
       "<style>#sk-container-id-4 {color: black;background-color: white;}#sk-container-id-4 pre{padding: 0;}#sk-container-id-4 div.sk-toggleable {background-color: white;}#sk-container-id-4 label.sk-toggleable__label {cursor: pointer;display: block;width: 100%;margin-bottom: 0;padding: 0.3em;box-sizing: border-box;text-align: center;}#sk-container-id-4 label.sk-toggleable__label-arrow:before {content: \"▸\";float: left;margin-right: 0.25em;color: #696969;}#sk-container-id-4 label.sk-toggleable__label-arrow:hover:before {color: black;}#sk-container-id-4 div.sk-estimator:hover label.sk-toggleable__label-arrow:before {color: black;}#sk-container-id-4 div.sk-toggleable__content {max-height: 0;max-width: 0;overflow: hidden;text-align: left;background-color: #f0f8ff;}#sk-container-id-4 div.sk-toggleable__content pre {margin: 0.2em;color: black;border-radius: 0.25em;background-color: #f0f8ff;}#sk-container-id-4 input.sk-toggleable__control:checked~div.sk-toggleable__content {max-height: 200px;max-width: 100%;overflow: auto;}#sk-container-id-4 input.sk-toggleable__control:checked~label.sk-toggleable__label-arrow:before {content: \"▾\";}#sk-container-id-4 div.sk-estimator input.sk-toggleable__control:checked~label.sk-toggleable__label {background-color: #d4ebff;}#sk-container-id-4 div.sk-label input.sk-toggleable__control:checked~label.sk-toggleable__label {background-color: #d4ebff;}#sk-container-id-4 input.sk-hidden--visually {border: 0;clip: rect(1px 1px 1px 1px);clip: rect(1px, 1px, 1px, 1px);height: 1px;margin: -1px;overflow: hidden;padding: 0;position: absolute;width: 1px;}#sk-container-id-4 div.sk-estimator {font-family: monospace;background-color: #f0f8ff;border: 1px dotted black;border-radius: 0.25em;box-sizing: border-box;margin-bottom: 0.5em;}#sk-container-id-4 div.sk-estimator:hover {background-color: #d4ebff;}#sk-container-id-4 div.sk-parallel-item::after {content: \"\";width: 100%;border-bottom: 1px solid gray;flex-grow: 1;}#sk-container-id-4 div.sk-label:hover label.sk-toggleable__label {background-color: #d4ebff;}#sk-container-id-4 div.sk-serial::before {content: \"\";position: absolute;border-left: 1px solid gray;box-sizing: border-box;top: 0;bottom: 0;left: 50%;z-index: 0;}#sk-container-id-4 div.sk-serial {display: flex;flex-direction: column;align-items: center;background-color: white;padding-right: 0.2em;padding-left: 0.2em;position: relative;}#sk-container-id-4 div.sk-item {position: relative;z-index: 1;}#sk-container-id-4 div.sk-parallel {display: flex;align-items: stretch;justify-content: center;background-color: white;position: relative;}#sk-container-id-4 div.sk-item::before, #sk-container-id-4 div.sk-parallel-item::before {content: \"\";position: absolute;border-left: 1px solid gray;box-sizing: border-box;top: 0;bottom: 0;left: 50%;z-index: -1;}#sk-container-id-4 div.sk-parallel-item {display: flex;flex-direction: column;z-index: 1;position: relative;background-color: white;}#sk-container-id-4 div.sk-parallel-item:first-child::after {align-self: flex-end;width: 50%;}#sk-container-id-4 div.sk-parallel-item:last-child::after {align-self: flex-start;width: 50%;}#sk-container-id-4 div.sk-parallel-item:only-child::after {width: 0;}#sk-container-id-4 div.sk-dashed-wrapped {border: 1px dashed gray;margin: 0 0.4em 0.5em 0.4em;box-sizing: border-box;padding-bottom: 0.4em;background-color: white;}#sk-container-id-4 div.sk-label label {font-family: monospace;font-weight: bold;display: inline-block;line-height: 1.2em;}#sk-container-id-4 div.sk-label-container {text-align: center;}#sk-container-id-4 div.sk-container {/* jupyter's `normalize.less` sets `[hidden] { display: none; }` but bootstrap.min.css set `[hidden] { display: none !important; }` so we also need the `!important` here to be able to override the default hidden behavior on the sphinx rendered scikit-learn.org. See: https://github.com/scikit-learn/scikit-learn/issues/21755 */display: inline-block !important;position: relative;}#sk-container-id-4 div.sk-text-repr-fallback {display: none;}</style><div id=\"sk-container-id-4\" class=\"sk-top-container\"><div class=\"sk-text-repr-fallback\"><pre>Pipeline(steps=[(&#x27;preprocess&#x27;,\n",
       "                 ColumnTransformer(remainder=&#x27;passthrough&#x27;,\n",
       "                                   transformers=[(&#x27;onehot&#x27;,\n",
       "                                                  OneHotEncoder(drop=&#x27;first&#x27;),\n",
       "                                                  [&#x27;Dependents&#x27;,\n",
       "                                                   &#x27;OnlineSecurity&#x27;,\n",
       "                                                   &#x27;TechSupport&#x27;, &#x27;Contract&#x27;,\n",
       "                                                   &#x27;PaperlessBilling&#x27;])])),\n",
       "                (&#x27;scaler&#x27;, RobustScaler()),\n",
       "                (&#x27;balance&#x27;, SMOTE(sampling_strategy=1)),\n",
       "                (&#x27;model&#x27;, LogisticRegression())])</pre><b>In a Jupyter environment, please rerun this cell to show the HTML representation or trust the notebook. <br />On GitHub, the HTML representation is unable to render, please try loading this page with nbviewer.org.</b></div><div class=\"sk-container\" hidden><div class=\"sk-item sk-dashed-wrapped\"><div class=\"sk-label-container\"><div class=\"sk-label sk-toggleable\"><input class=\"sk-toggleable__control sk-hidden--visually\" id=\"sk-estimator-id-27\" type=\"checkbox\" ><label for=\"sk-estimator-id-27\" class=\"sk-toggleable__label sk-toggleable__label-arrow\">Pipeline</label><div class=\"sk-toggleable__content\"><pre>Pipeline(steps=[(&#x27;preprocess&#x27;,\n",
       "                 ColumnTransformer(remainder=&#x27;passthrough&#x27;,\n",
       "                                   transformers=[(&#x27;onehot&#x27;,\n",
       "                                                  OneHotEncoder(drop=&#x27;first&#x27;),\n",
       "                                                  [&#x27;Dependents&#x27;,\n",
       "                                                   &#x27;OnlineSecurity&#x27;,\n",
       "                                                   &#x27;TechSupport&#x27;, &#x27;Contract&#x27;,\n",
       "                                                   &#x27;PaperlessBilling&#x27;])])),\n",
       "                (&#x27;scaler&#x27;, RobustScaler()),\n",
       "                (&#x27;balance&#x27;, SMOTE(sampling_strategy=1)),\n",
       "                (&#x27;model&#x27;, LogisticRegression())])</pre></div></div></div><div class=\"sk-serial\"><div class=\"sk-item sk-dashed-wrapped\"><div class=\"sk-label-container\"><div class=\"sk-label sk-toggleable\"><input class=\"sk-toggleable__control sk-hidden--visually\" id=\"sk-estimator-id-28\" type=\"checkbox\" ><label for=\"sk-estimator-id-28\" class=\"sk-toggleable__label sk-toggleable__label-arrow\">preprocess: ColumnTransformer</label><div class=\"sk-toggleable__content\"><pre>ColumnTransformer(remainder=&#x27;passthrough&#x27;,\n",
       "                  transformers=[(&#x27;onehot&#x27;, OneHotEncoder(drop=&#x27;first&#x27;),\n",
       "                                 [&#x27;Dependents&#x27;, &#x27;OnlineSecurity&#x27;, &#x27;TechSupport&#x27;,\n",
       "                                  &#x27;Contract&#x27;, &#x27;PaperlessBilling&#x27;])])</pre></div></div></div><div class=\"sk-parallel\"><div class=\"sk-parallel-item\"><div class=\"sk-item\"><div class=\"sk-label-container\"><div class=\"sk-label sk-toggleable\"><input class=\"sk-toggleable__control sk-hidden--visually\" id=\"sk-estimator-id-29\" type=\"checkbox\" ><label for=\"sk-estimator-id-29\" class=\"sk-toggleable__label sk-toggleable__label-arrow\">onehot</label><div class=\"sk-toggleable__content\"><pre>[&#x27;Dependents&#x27;, &#x27;OnlineSecurity&#x27;, &#x27;TechSupport&#x27;, &#x27;Contract&#x27;, &#x27;PaperlessBilling&#x27;]</pre></div></div></div><div class=\"sk-serial\"><div class=\"sk-item\"><div class=\"sk-estimator sk-toggleable\"><input class=\"sk-toggleable__control sk-hidden--visually\" id=\"sk-estimator-id-30\" type=\"checkbox\" ><label for=\"sk-estimator-id-30\" class=\"sk-toggleable__label sk-toggleable__label-arrow\">OneHotEncoder</label><div class=\"sk-toggleable__content\"><pre>OneHotEncoder(drop=&#x27;first&#x27;)</pre></div></div></div></div></div></div><div class=\"sk-parallel-item\"><div class=\"sk-item\"><div class=\"sk-label-container\"><div class=\"sk-label sk-toggleable\"><input class=\"sk-toggleable__control sk-hidden--visually\" id=\"sk-estimator-id-31\" type=\"checkbox\" ><label for=\"sk-estimator-id-31\" class=\"sk-toggleable__label sk-toggleable__label-arrow\">remainder</label><div class=\"sk-toggleable__content\"><pre>[&#x27;tenure&#x27;, &#x27;MonthlyCharges&#x27;]</pre></div></div></div><div class=\"sk-serial\"><div class=\"sk-item\"><div class=\"sk-estimator sk-toggleable\"><input class=\"sk-toggleable__control sk-hidden--visually\" id=\"sk-estimator-id-32\" type=\"checkbox\" ><label for=\"sk-estimator-id-32\" class=\"sk-toggleable__label sk-toggleable__label-arrow\">passthrough</label><div class=\"sk-toggleable__content\"><pre>passthrough</pre></div></div></div></div></div></div></div></div><div class=\"sk-item\"><div class=\"sk-estimator sk-toggleable\"><input class=\"sk-toggleable__control sk-hidden--visually\" id=\"sk-estimator-id-33\" type=\"checkbox\" ><label for=\"sk-estimator-id-33\" class=\"sk-toggleable__label sk-toggleable__label-arrow\">RobustScaler</label><div class=\"sk-toggleable__content\"><pre>RobustScaler()</pre></div></div></div><div class=\"sk-item\"><div class=\"sk-estimator sk-toggleable\"><input class=\"sk-toggleable__control sk-hidden--visually\" id=\"sk-estimator-id-34\" type=\"checkbox\" ><label for=\"sk-estimator-id-34\" class=\"sk-toggleable__label sk-toggleable__label-arrow\">SMOTE</label><div class=\"sk-toggleable__content\"><pre>SMOTE(sampling_strategy=1)</pre></div></div></div><div class=\"sk-item\"><div class=\"sk-estimator sk-toggleable\"><input class=\"sk-toggleable__control sk-hidden--visually\" id=\"sk-estimator-id-35\" type=\"checkbox\" ><label for=\"sk-estimator-id-35\" class=\"sk-toggleable__label sk-toggleable__label-arrow\">LogisticRegression</label><div class=\"sk-toggleable__content\"><pre>LogisticRegression()</pre></div></div></div></div></div></div></div>"
      ],
      "text/plain": [
       "Pipeline(steps=[('preprocess',\n",
       "                 ColumnTransformer(remainder='passthrough',\n",
       "                                   transformers=[('onehot',\n",
       "                                                  OneHotEncoder(drop='first'),\n",
       "                                                  ['Dependents',\n",
       "                                                   'OnlineSecurity',\n",
       "                                                   'TechSupport', 'Contract',\n",
       "                                                   'PaperlessBilling'])])),\n",
       "                ('scaler', RobustScaler()),\n",
       "                ('balance', SMOTE(sampling_strategy=1)),\n",
       "                ('model', LogisticRegression())])"
      ]
     },
     "execution_count": 57,
     "metadata": {},
     "output_type": "execute_result"
    }
   ],
   "source": [
    "# proses pelatihan\n",
    "estimator_s.fit(x_train, y_train)"
   ]
  },
  {
   "cell_type": "code",
   "execution_count": 59,
   "id": "b8fc53d2-b348-4b19-befe-9d7c723fa613",
   "metadata": {},
   "outputs": [
    {
     "name": "stdout",
     "output_type": "stream",
     "text": [
      "              precision    recall  f1-score   support\n",
      "\n",
      "           0       0.91      0.71      0.80       712\n",
      "           1       0.50      0.81      0.62       256\n",
      "\n",
      "    accuracy                           0.74       968\n",
      "   macro avg       0.71      0.76      0.71       968\n",
      "weighted avg       0.80      0.74      0.75       968\n",
      "\n"
     ]
    }
   ],
   "source": [
    "# proses prediksi pada data test\n",
    "y_pred_s = estimator_s.predict(x_test)\n",
    "print(classification_report(y_test, y_pred_s))"
   ]
  },
  {
   "cell_type": "code",
   "execution_count": 55,
   "id": "f3132c10-ef83-4baf-8abd-f3e14d0c1064",
   "metadata": {},
   "outputs": [
    {
     "name": "stdout",
     "output_type": "stream",
     "text": [
      "ROC AUC adalah: 0.8391415028089887\n"
     ]
    }
   ],
   "source": [
    "y_pred_proba_s = estimator_s.predict_proba(x_test)[:, 1]\n",
    "\n",
    "roc_auc = roc_auc_score(y_test, y_pred_proba_s)\n",
    "print(f'ROC AUC adalah: {roc_auc}')"
   ]
  },
  {
   "cell_type": "markdown",
   "id": "192da1a4-f8ba-42bb-b6f1-2e32ff315ecf",
   "metadata": {},
   "source": [
    "Hasil perbandingan antara penalized Logistic Regression Model dengan SMOTE Logistic Regression Model yaitu nilai presisinya meningkat sedikit dari 49% menjadi 50% tetapi recallnya menurun sedikit dari 82 menjadi 81. Hasil ROC AUC nya sama yaitu bernilai 83.9%. Dapat disimpulkan bahwa kedua metode menghasilkan nilai yang sama. Namun karena hasil f1-score nya lebih baik dengan SMOTE maka untuk proses hyperparameter tuning akan menggunakan SMOTE."
   ]
  },
  {
   "cell_type": "markdown",
   "id": "f618810f-5f7d-49ee-8c04-f6463f500173",
   "metadata": {},
   "source": [
    "### Hyperparameter Tuning"
   ]
  },
  {
   "cell_type": "markdown",
   "id": "8dd945a7-8ace-46b4-961f-4ef192337c61",
   "metadata": {
    "tags": []
   },
   "source": [
    "Selanjutnya akan dilakukan hyperparameter tuning pada model Logistic Regression dengan SMOTE untuk mencari model terbaik serta meningkat kualitas dari model dan dibandingkan dengan Logistic Regression dengan SMOTE default parameter."
   ]
  },
  {
   "cell_type": "markdown",
   "id": "7b4cf217-f6cf-4b47-a01c-0c79e5c2ddd1",
   "metadata": {},
   "source": [
    "**Logistic Regression Best Param vs Logistic Regression default**"
   ]
  },
  {
   "cell_type": "code",
   "execution_count": 60,
   "id": "da29d5ff-0baa-45ab-9ff3-7689b3e9d066",
   "metadata": {
    "tags": []
   },
   "outputs": [],
   "source": [
    "# pendefinisian model, pipeline dan hyperparameter untuk model Logistic Regression\n",
    "model_lr_smote = LogisticRegression()\n",
    "smote = SMOTE()\n",
    "skfold = StratifiedKFold(n_splits=5)\n",
    "\n",
    "estimator_s = Pipeline([\n",
    "    ('preprocess', transformer),\n",
    "    ('scaler', scaler),\n",
    "    ('balance', smote),\n",
    "    ('model', model_lr_smote)\n",
    "])\n",
    "\n",
    "hyperparam_space = [{\n",
    "    'model__penalty': ['l2', 'l1','none'],\n",
    "    'model__C': [0.0001, 0.001, 0.01, 0.1, 1, 10, 100, 1000, 10000],\n",
    "    'model__solver':['liblinear','saga','lbfgs'],\n",
    "    'balance__sampling_strategy': [0.5, 1, 1.5],\n",
    "    'model__random_state': [200]\n",
    "}]    "
   ]
  },
  {
   "cell_type": "code",
   "execution_count": 61,
   "id": "0e1a08b8-cb4f-4d23-b6ed-e1cecc07ac2d",
   "metadata": {
    "tags": []
   },
   "outputs": [
    {
     "data": {
      "text/html": [
       "<style>#sk-container-id-5 {color: black;background-color: white;}#sk-container-id-5 pre{padding: 0;}#sk-container-id-5 div.sk-toggleable {background-color: white;}#sk-container-id-5 label.sk-toggleable__label {cursor: pointer;display: block;width: 100%;margin-bottom: 0;padding: 0.3em;box-sizing: border-box;text-align: center;}#sk-container-id-5 label.sk-toggleable__label-arrow:before {content: \"▸\";float: left;margin-right: 0.25em;color: #696969;}#sk-container-id-5 label.sk-toggleable__label-arrow:hover:before {color: black;}#sk-container-id-5 div.sk-estimator:hover label.sk-toggleable__label-arrow:before {color: black;}#sk-container-id-5 div.sk-toggleable__content {max-height: 0;max-width: 0;overflow: hidden;text-align: left;background-color: #f0f8ff;}#sk-container-id-5 div.sk-toggleable__content pre {margin: 0.2em;color: black;border-radius: 0.25em;background-color: #f0f8ff;}#sk-container-id-5 input.sk-toggleable__control:checked~div.sk-toggleable__content {max-height: 200px;max-width: 100%;overflow: auto;}#sk-container-id-5 input.sk-toggleable__control:checked~label.sk-toggleable__label-arrow:before {content: \"▾\";}#sk-container-id-5 div.sk-estimator input.sk-toggleable__control:checked~label.sk-toggleable__label {background-color: #d4ebff;}#sk-container-id-5 div.sk-label input.sk-toggleable__control:checked~label.sk-toggleable__label {background-color: #d4ebff;}#sk-container-id-5 input.sk-hidden--visually {border: 0;clip: rect(1px 1px 1px 1px);clip: rect(1px, 1px, 1px, 1px);height: 1px;margin: -1px;overflow: hidden;padding: 0;position: absolute;width: 1px;}#sk-container-id-5 div.sk-estimator {font-family: monospace;background-color: #f0f8ff;border: 1px dotted black;border-radius: 0.25em;box-sizing: border-box;margin-bottom: 0.5em;}#sk-container-id-5 div.sk-estimator:hover {background-color: #d4ebff;}#sk-container-id-5 div.sk-parallel-item::after {content: \"\";width: 100%;border-bottom: 1px solid gray;flex-grow: 1;}#sk-container-id-5 div.sk-label:hover label.sk-toggleable__label {background-color: #d4ebff;}#sk-container-id-5 div.sk-serial::before {content: \"\";position: absolute;border-left: 1px solid gray;box-sizing: border-box;top: 0;bottom: 0;left: 50%;z-index: 0;}#sk-container-id-5 div.sk-serial {display: flex;flex-direction: column;align-items: center;background-color: white;padding-right: 0.2em;padding-left: 0.2em;position: relative;}#sk-container-id-5 div.sk-item {position: relative;z-index: 1;}#sk-container-id-5 div.sk-parallel {display: flex;align-items: stretch;justify-content: center;background-color: white;position: relative;}#sk-container-id-5 div.sk-item::before, #sk-container-id-5 div.sk-parallel-item::before {content: \"\";position: absolute;border-left: 1px solid gray;box-sizing: border-box;top: 0;bottom: 0;left: 50%;z-index: -1;}#sk-container-id-5 div.sk-parallel-item {display: flex;flex-direction: column;z-index: 1;position: relative;background-color: white;}#sk-container-id-5 div.sk-parallel-item:first-child::after {align-self: flex-end;width: 50%;}#sk-container-id-5 div.sk-parallel-item:last-child::after {align-self: flex-start;width: 50%;}#sk-container-id-5 div.sk-parallel-item:only-child::after {width: 0;}#sk-container-id-5 div.sk-dashed-wrapped {border: 1px dashed gray;margin: 0 0.4em 0.5em 0.4em;box-sizing: border-box;padding-bottom: 0.4em;background-color: white;}#sk-container-id-5 div.sk-label label {font-family: monospace;font-weight: bold;display: inline-block;line-height: 1.2em;}#sk-container-id-5 div.sk-label-container {text-align: center;}#sk-container-id-5 div.sk-container {/* jupyter's `normalize.less` sets `[hidden] { display: none; }` but bootstrap.min.css set `[hidden] { display: none !important; }` so we also need the `!important` here to be able to override the default hidden behavior on the sphinx rendered scikit-learn.org. See: https://github.com/scikit-learn/scikit-learn/issues/21755 */display: inline-block !important;position: relative;}#sk-container-id-5 div.sk-text-repr-fallback {display: none;}</style><div id=\"sk-container-id-5\" class=\"sk-top-container\"><div class=\"sk-text-repr-fallback\"><pre>GridSearchCV(cv=StratifiedKFold(n_splits=5, random_state=200, shuffle=True),\n",
       "             estimator=Pipeline(steps=[(&#x27;preprocess&#x27;,\n",
       "                                        ColumnTransformer(remainder=&#x27;passthrough&#x27;,\n",
       "                                                          transformers=[(&#x27;onehot&#x27;,\n",
       "                                                                         OneHotEncoder(drop=&#x27;first&#x27;),\n",
       "                                                                         [&#x27;Dependents&#x27;,\n",
       "                                                                          &#x27;OnlineSecurity&#x27;,\n",
       "                                                                          &#x27;TechSupport&#x27;,\n",
       "                                                                          &#x27;Contract&#x27;,\n",
       "                                                                          &#x27;PaperlessBilling&#x27;])])),\n",
       "                                       (&#x27;scaler&#x27;, RobustScaler()),\n",
       "                                       (&#x27;balance&#x27;, SMOTE()),\n",
       "                                       (&#x27;model&#x27;, LogisticRegression())]),\n",
       "             n_jobs=-1,\n",
       "             param_grid=[{&#x27;balance__sampling_strategy&#x27;: [0.5, 1, 1.5],\n",
       "                          &#x27;model__C&#x27;: [0.0001, 0.001, 0.01, 0.1, 1, 10, 100,\n",
       "                                       1000, 10000],\n",
       "                          &#x27;model__penalty&#x27;: [&#x27;l2&#x27;, &#x27;l1&#x27;, &#x27;none&#x27;],\n",
       "                          &#x27;model__random_state&#x27;: [200],\n",
       "                          &#x27;model__solver&#x27;: [&#x27;liblinear&#x27;, &#x27;saga&#x27;, &#x27;lbfgs&#x27;]}],\n",
       "             scoring=&#x27;roc_auc&#x27;)</pre><b>In a Jupyter environment, please rerun this cell to show the HTML representation or trust the notebook. <br />On GitHub, the HTML representation is unable to render, please try loading this page with nbviewer.org.</b></div><div class=\"sk-container\" hidden><div class=\"sk-item sk-dashed-wrapped\"><div class=\"sk-label-container\"><div class=\"sk-label sk-toggleable\"><input class=\"sk-toggleable__control sk-hidden--visually\" id=\"sk-estimator-id-36\" type=\"checkbox\" ><label for=\"sk-estimator-id-36\" class=\"sk-toggleable__label sk-toggleable__label-arrow\">GridSearchCV</label><div class=\"sk-toggleable__content\"><pre>GridSearchCV(cv=StratifiedKFold(n_splits=5, random_state=200, shuffle=True),\n",
       "             estimator=Pipeline(steps=[(&#x27;preprocess&#x27;,\n",
       "                                        ColumnTransformer(remainder=&#x27;passthrough&#x27;,\n",
       "                                                          transformers=[(&#x27;onehot&#x27;,\n",
       "                                                                         OneHotEncoder(drop=&#x27;first&#x27;),\n",
       "                                                                         [&#x27;Dependents&#x27;,\n",
       "                                                                          &#x27;OnlineSecurity&#x27;,\n",
       "                                                                          &#x27;TechSupport&#x27;,\n",
       "                                                                          &#x27;Contract&#x27;,\n",
       "                                                                          &#x27;PaperlessBilling&#x27;])])),\n",
       "                                       (&#x27;scaler&#x27;, RobustScaler()),\n",
       "                                       (&#x27;balance&#x27;, SMOTE()),\n",
       "                                       (&#x27;model&#x27;, LogisticRegression())]),\n",
       "             n_jobs=-1,\n",
       "             param_grid=[{&#x27;balance__sampling_strategy&#x27;: [0.5, 1, 1.5],\n",
       "                          &#x27;model__C&#x27;: [0.0001, 0.001, 0.01, 0.1, 1, 10, 100,\n",
       "                                       1000, 10000],\n",
       "                          &#x27;model__penalty&#x27;: [&#x27;l2&#x27;, &#x27;l1&#x27;, &#x27;none&#x27;],\n",
       "                          &#x27;model__random_state&#x27;: [200],\n",
       "                          &#x27;model__solver&#x27;: [&#x27;liblinear&#x27;, &#x27;saga&#x27;, &#x27;lbfgs&#x27;]}],\n",
       "             scoring=&#x27;roc_auc&#x27;)</pre></div></div></div><div class=\"sk-parallel\"><div class=\"sk-parallel-item\"><div class=\"sk-item\"><div class=\"sk-label-container\"><div class=\"sk-label sk-toggleable\"><input class=\"sk-toggleable__control sk-hidden--visually\" id=\"sk-estimator-id-37\" type=\"checkbox\" ><label for=\"sk-estimator-id-37\" class=\"sk-toggleable__label sk-toggleable__label-arrow\">estimator: Pipeline</label><div class=\"sk-toggleable__content\"><pre>Pipeline(steps=[(&#x27;preprocess&#x27;,\n",
       "                 ColumnTransformer(remainder=&#x27;passthrough&#x27;,\n",
       "                                   transformers=[(&#x27;onehot&#x27;,\n",
       "                                                  OneHotEncoder(drop=&#x27;first&#x27;),\n",
       "                                                  [&#x27;Dependents&#x27;,\n",
       "                                                   &#x27;OnlineSecurity&#x27;,\n",
       "                                                   &#x27;TechSupport&#x27;, &#x27;Contract&#x27;,\n",
       "                                                   &#x27;PaperlessBilling&#x27;])])),\n",
       "                (&#x27;scaler&#x27;, RobustScaler()), (&#x27;balance&#x27;, SMOTE()),\n",
       "                (&#x27;model&#x27;, LogisticRegression())])</pre></div></div></div><div class=\"sk-serial\"><div class=\"sk-item\"><div class=\"sk-serial\"><div class=\"sk-item sk-dashed-wrapped\"><div class=\"sk-label-container\"><div class=\"sk-label sk-toggleable\"><input class=\"sk-toggleable__control sk-hidden--visually\" id=\"sk-estimator-id-38\" type=\"checkbox\" ><label for=\"sk-estimator-id-38\" class=\"sk-toggleable__label sk-toggleable__label-arrow\">preprocess: ColumnTransformer</label><div class=\"sk-toggleable__content\"><pre>ColumnTransformer(remainder=&#x27;passthrough&#x27;,\n",
       "                  transformers=[(&#x27;onehot&#x27;, OneHotEncoder(drop=&#x27;first&#x27;),\n",
       "                                 [&#x27;Dependents&#x27;, &#x27;OnlineSecurity&#x27;, &#x27;TechSupport&#x27;,\n",
       "                                  &#x27;Contract&#x27;, &#x27;PaperlessBilling&#x27;])])</pre></div></div></div><div class=\"sk-parallel\"><div class=\"sk-parallel-item\"><div class=\"sk-item\"><div class=\"sk-label-container\"><div class=\"sk-label sk-toggleable\"><input class=\"sk-toggleable__control sk-hidden--visually\" id=\"sk-estimator-id-39\" type=\"checkbox\" ><label for=\"sk-estimator-id-39\" class=\"sk-toggleable__label sk-toggleable__label-arrow\">onehot</label><div class=\"sk-toggleable__content\"><pre>[&#x27;Dependents&#x27;, &#x27;OnlineSecurity&#x27;, &#x27;TechSupport&#x27;, &#x27;Contract&#x27;, &#x27;PaperlessBilling&#x27;]</pre></div></div></div><div class=\"sk-serial\"><div class=\"sk-item\"><div class=\"sk-estimator sk-toggleable\"><input class=\"sk-toggleable__control sk-hidden--visually\" id=\"sk-estimator-id-40\" type=\"checkbox\" ><label for=\"sk-estimator-id-40\" class=\"sk-toggleable__label sk-toggleable__label-arrow\">OneHotEncoder</label><div class=\"sk-toggleable__content\"><pre>OneHotEncoder(drop=&#x27;first&#x27;)</pre></div></div></div></div></div></div><div class=\"sk-parallel-item\"><div class=\"sk-item\"><div class=\"sk-label-container\"><div class=\"sk-label sk-toggleable\"><input class=\"sk-toggleable__control sk-hidden--visually\" id=\"sk-estimator-id-41\" type=\"checkbox\" ><label for=\"sk-estimator-id-41\" class=\"sk-toggleable__label sk-toggleable__label-arrow\">remainder</label><div class=\"sk-toggleable__content\"><pre>[&#x27;tenure&#x27;, &#x27;MonthlyCharges&#x27;]</pre></div></div></div><div class=\"sk-serial\"><div class=\"sk-item\"><div class=\"sk-estimator sk-toggleable\"><input class=\"sk-toggleable__control sk-hidden--visually\" id=\"sk-estimator-id-42\" type=\"checkbox\" ><label for=\"sk-estimator-id-42\" class=\"sk-toggleable__label sk-toggleable__label-arrow\">passthrough</label><div class=\"sk-toggleable__content\"><pre>passthrough</pre></div></div></div></div></div></div></div></div><div class=\"sk-item\"><div class=\"sk-estimator sk-toggleable\"><input class=\"sk-toggleable__control sk-hidden--visually\" id=\"sk-estimator-id-43\" type=\"checkbox\" ><label for=\"sk-estimator-id-43\" class=\"sk-toggleable__label sk-toggleable__label-arrow\">RobustScaler</label><div class=\"sk-toggleable__content\"><pre>RobustScaler()</pre></div></div></div><div class=\"sk-item\"><div class=\"sk-estimator sk-toggleable\"><input class=\"sk-toggleable__control sk-hidden--visually\" id=\"sk-estimator-id-44\" type=\"checkbox\" ><label for=\"sk-estimator-id-44\" class=\"sk-toggleable__label sk-toggleable__label-arrow\">SMOTE</label><div class=\"sk-toggleable__content\"><pre>SMOTE()</pre></div></div></div><div class=\"sk-item\"><div class=\"sk-estimator sk-toggleable\"><input class=\"sk-toggleable__control sk-hidden--visually\" id=\"sk-estimator-id-45\" type=\"checkbox\" ><label for=\"sk-estimator-id-45\" class=\"sk-toggleable__label sk-toggleable__label-arrow\">LogisticRegression</label><div class=\"sk-toggleable__content\"><pre>LogisticRegression()</pre></div></div></div></div></div></div></div></div></div></div></div></div>"
      ],
      "text/plain": [
       "GridSearchCV(cv=StratifiedKFold(n_splits=5, random_state=200, shuffle=True),\n",
       "             estimator=Pipeline(steps=[('preprocess',\n",
       "                                        ColumnTransformer(remainder='passthrough',\n",
       "                                                          transformers=[('onehot',\n",
       "                                                                         OneHotEncoder(drop='first'),\n",
       "                                                                         ['Dependents',\n",
       "                                                                          'OnlineSecurity',\n",
       "                                                                          'TechSupport',\n",
       "                                                                          'Contract',\n",
       "                                                                          'PaperlessBilling'])])),\n",
       "                                       ('scaler', RobustScaler()),\n",
       "                                       ('balance', SMOTE()),\n",
       "                                       ('model', LogisticRegression())]),\n",
       "             n_jobs=-1,\n",
       "             param_grid=[{'balance__sampling_strategy': [0.5, 1, 1.5],\n",
       "                          'model__C': [0.0001, 0.001, 0.01, 0.1, 1, 10, 100,\n",
       "                                       1000, 10000],\n",
       "                          'model__penalty': ['l2', 'l1', 'none'],\n",
       "                          'model__random_state': [200],\n",
       "                          'model__solver': ['liblinear', 'saga', 'lbfgs']}],\n",
       "             scoring='roc_auc')"
      ]
     },
     "execution_count": 61,
     "metadata": {},
     "output_type": "execute_result"
    }
   ],
   "source": [
    "# menggunakan GridSearchCV untuk mencari model Logistic Regression terbaik\n",
    "grid_s = GridSearchCV(\n",
    "    estimator_s, \n",
    "    param_grid = hyperparam_space, \n",
    "    cv=StratifiedKFold(n_splits=5, shuffle=True, random_state=200), \n",
    "    scoring='roc_auc', \n",
    "    n_jobs=-1)\n",
    "\n",
    "grid_s.fit(x_train, y_train)"
   ]
  },
  {
   "cell_type": "code",
   "execution_count": 62,
   "id": "9bbffc17-236e-4c86-b126-c471b146ca58",
   "metadata": {
    "tags": []
   },
   "outputs": [
    {
     "data": {
      "text/html": [
       "<style>#sk-container-id-6 {color: black;background-color: white;}#sk-container-id-6 pre{padding: 0;}#sk-container-id-6 div.sk-toggleable {background-color: white;}#sk-container-id-6 label.sk-toggleable__label {cursor: pointer;display: block;width: 100%;margin-bottom: 0;padding: 0.3em;box-sizing: border-box;text-align: center;}#sk-container-id-6 label.sk-toggleable__label-arrow:before {content: \"▸\";float: left;margin-right: 0.25em;color: #696969;}#sk-container-id-6 label.sk-toggleable__label-arrow:hover:before {color: black;}#sk-container-id-6 div.sk-estimator:hover label.sk-toggleable__label-arrow:before {color: black;}#sk-container-id-6 div.sk-toggleable__content {max-height: 0;max-width: 0;overflow: hidden;text-align: left;background-color: #f0f8ff;}#sk-container-id-6 div.sk-toggleable__content pre {margin: 0.2em;color: black;border-radius: 0.25em;background-color: #f0f8ff;}#sk-container-id-6 input.sk-toggleable__control:checked~div.sk-toggleable__content {max-height: 200px;max-width: 100%;overflow: auto;}#sk-container-id-6 input.sk-toggleable__control:checked~label.sk-toggleable__label-arrow:before {content: \"▾\";}#sk-container-id-6 div.sk-estimator input.sk-toggleable__control:checked~label.sk-toggleable__label {background-color: #d4ebff;}#sk-container-id-6 div.sk-label input.sk-toggleable__control:checked~label.sk-toggleable__label {background-color: #d4ebff;}#sk-container-id-6 input.sk-hidden--visually {border: 0;clip: rect(1px 1px 1px 1px);clip: rect(1px, 1px, 1px, 1px);height: 1px;margin: -1px;overflow: hidden;padding: 0;position: absolute;width: 1px;}#sk-container-id-6 div.sk-estimator {font-family: monospace;background-color: #f0f8ff;border: 1px dotted black;border-radius: 0.25em;box-sizing: border-box;margin-bottom: 0.5em;}#sk-container-id-6 div.sk-estimator:hover {background-color: #d4ebff;}#sk-container-id-6 div.sk-parallel-item::after {content: \"\";width: 100%;border-bottom: 1px solid gray;flex-grow: 1;}#sk-container-id-6 div.sk-label:hover label.sk-toggleable__label {background-color: #d4ebff;}#sk-container-id-6 div.sk-serial::before {content: \"\";position: absolute;border-left: 1px solid gray;box-sizing: border-box;top: 0;bottom: 0;left: 50%;z-index: 0;}#sk-container-id-6 div.sk-serial {display: flex;flex-direction: column;align-items: center;background-color: white;padding-right: 0.2em;padding-left: 0.2em;position: relative;}#sk-container-id-6 div.sk-item {position: relative;z-index: 1;}#sk-container-id-6 div.sk-parallel {display: flex;align-items: stretch;justify-content: center;background-color: white;position: relative;}#sk-container-id-6 div.sk-item::before, #sk-container-id-6 div.sk-parallel-item::before {content: \"\";position: absolute;border-left: 1px solid gray;box-sizing: border-box;top: 0;bottom: 0;left: 50%;z-index: -1;}#sk-container-id-6 div.sk-parallel-item {display: flex;flex-direction: column;z-index: 1;position: relative;background-color: white;}#sk-container-id-6 div.sk-parallel-item:first-child::after {align-self: flex-end;width: 50%;}#sk-container-id-6 div.sk-parallel-item:last-child::after {align-self: flex-start;width: 50%;}#sk-container-id-6 div.sk-parallel-item:only-child::after {width: 0;}#sk-container-id-6 div.sk-dashed-wrapped {border: 1px dashed gray;margin: 0 0.4em 0.5em 0.4em;box-sizing: border-box;padding-bottom: 0.4em;background-color: white;}#sk-container-id-6 div.sk-label label {font-family: monospace;font-weight: bold;display: inline-block;line-height: 1.2em;}#sk-container-id-6 div.sk-label-container {text-align: center;}#sk-container-id-6 div.sk-container {/* jupyter's `normalize.less` sets `[hidden] { display: none; }` but bootstrap.min.css set `[hidden] { display: none !important; }` so we also need the `!important` here to be able to override the default hidden behavior on the sphinx rendered scikit-learn.org. See: https://github.com/scikit-learn/scikit-learn/issues/21755 */display: inline-block !important;position: relative;}#sk-container-id-6 div.sk-text-repr-fallback {display: none;}</style><div id=\"sk-container-id-6\" class=\"sk-top-container\"><div class=\"sk-text-repr-fallback\"><pre>Pipeline(steps=[(&#x27;preprocess&#x27;,\n",
       "                 ColumnTransformer(remainder=&#x27;passthrough&#x27;,\n",
       "                                   transformers=[(&#x27;onehot&#x27;,\n",
       "                                                  OneHotEncoder(drop=&#x27;first&#x27;),\n",
       "                                                  [&#x27;Dependents&#x27;,\n",
       "                                                   &#x27;OnlineSecurity&#x27;,\n",
       "                                                   &#x27;TechSupport&#x27;, &#x27;Contract&#x27;,\n",
       "                                                   &#x27;PaperlessBilling&#x27;])])),\n",
       "                (&#x27;scaler&#x27;, RobustScaler()),\n",
       "                (&#x27;balance&#x27;, SMOTE(sampling_strategy=1)),\n",
       "                (&#x27;model&#x27;,\n",
       "                 LogisticRegression(C=1000, penalty=&#x27;l1&#x27;, random_state=200,\n",
       "                                    solver=&#x27;liblinear&#x27;))])</pre><b>In a Jupyter environment, please rerun this cell to show the HTML representation or trust the notebook. <br />On GitHub, the HTML representation is unable to render, please try loading this page with nbviewer.org.</b></div><div class=\"sk-container\" hidden><div class=\"sk-item sk-dashed-wrapped\"><div class=\"sk-label-container\"><div class=\"sk-label sk-toggleable\"><input class=\"sk-toggleable__control sk-hidden--visually\" id=\"sk-estimator-id-46\" type=\"checkbox\" ><label for=\"sk-estimator-id-46\" class=\"sk-toggleable__label sk-toggleable__label-arrow\">Pipeline</label><div class=\"sk-toggleable__content\"><pre>Pipeline(steps=[(&#x27;preprocess&#x27;,\n",
       "                 ColumnTransformer(remainder=&#x27;passthrough&#x27;,\n",
       "                                   transformers=[(&#x27;onehot&#x27;,\n",
       "                                                  OneHotEncoder(drop=&#x27;first&#x27;),\n",
       "                                                  [&#x27;Dependents&#x27;,\n",
       "                                                   &#x27;OnlineSecurity&#x27;,\n",
       "                                                   &#x27;TechSupport&#x27;, &#x27;Contract&#x27;,\n",
       "                                                   &#x27;PaperlessBilling&#x27;])])),\n",
       "                (&#x27;scaler&#x27;, RobustScaler()),\n",
       "                (&#x27;balance&#x27;, SMOTE(sampling_strategy=1)),\n",
       "                (&#x27;model&#x27;,\n",
       "                 LogisticRegression(C=1000, penalty=&#x27;l1&#x27;, random_state=200,\n",
       "                                    solver=&#x27;liblinear&#x27;))])</pre></div></div></div><div class=\"sk-serial\"><div class=\"sk-item sk-dashed-wrapped\"><div class=\"sk-label-container\"><div class=\"sk-label sk-toggleable\"><input class=\"sk-toggleable__control sk-hidden--visually\" id=\"sk-estimator-id-47\" type=\"checkbox\" ><label for=\"sk-estimator-id-47\" class=\"sk-toggleable__label sk-toggleable__label-arrow\">preprocess: ColumnTransformer</label><div class=\"sk-toggleable__content\"><pre>ColumnTransformer(remainder=&#x27;passthrough&#x27;,\n",
       "                  transformers=[(&#x27;onehot&#x27;, OneHotEncoder(drop=&#x27;first&#x27;),\n",
       "                                 [&#x27;Dependents&#x27;, &#x27;OnlineSecurity&#x27;, &#x27;TechSupport&#x27;,\n",
       "                                  &#x27;Contract&#x27;, &#x27;PaperlessBilling&#x27;])])</pre></div></div></div><div class=\"sk-parallel\"><div class=\"sk-parallel-item\"><div class=\"sk-item\"><div class=\"sk-label-container\"><div class=\"sk-label sk-toggleable\"><input class=\"sk-toggleable__control sk-hidden--visually\" id=\"sk-estimator-id-48\" type=\"checkbox\" ><label for=\"sk-estimator-id-48\" class=\"sk-toggleable__label sk-toggleable__label-arrow\">onehot</label><div class=\"sk-toggleable__content\"><pre>[&#x27;Dependents&#x27;, &#x27;OnlineSecurity&#x27;, &#x27;TechSupport&#x27;, &#x27;Contract&#x27;, &#x27;PaperlessBilling&#x27;]</pre></div></div></div><div class=\"sk-serial\"><div class=\"sk-item\"><div class=\"sk-estimator sk-toggleable\"><input class=\"sk-toggleable__control sk-hidden--visually\" id=\"sk-estimator-id-49\" type=\"checkbox\" ><label for=\"sk-estimator-id-49\" class=\"sk-toggleable__label sk-toggleable__label-arrow\">OneHotEncoder</label><div class=\"sk-toggleable__content\"><pre>OneHotEncoder(drop=&#x27;first&#x27;)</pre></div></div></div></div></div></div><div class=\"sk-parallel-item\"><div class=\"sk-item\"><div class=\"sk-label-container\"><div class=\"sk-label sk-toggleable\"><input class=\"sk-toggleable__control sk-hidden--visually\" id=\"sk-estimator-id-50\" type=\"checkbox\" ><label for=\"sk-estimator-id-50\" class=\"sk-toggleable__label sk-toggleable__label-arrow\">remainder</label><div class=\"sk-toggleable__content\"><pre>[&#x27;tenure&#x27;, &#x27;MonthlyCharges&#x27;]</pre></div></div></div><div class=\"sk-serial\"><div class=\"sk-item\"><div class=\"sk-estimator sk-toggleable\"><input class=\"sk-toggleable__control sk-hidden--visually\" id=\"sk-estimator-id-51\" type=\"checkbox\" ><label for=\"sk-estimator-id-51\" class=\"sk-toggleable__label sk-toggleable__label-arrow\">passthrough</label><div class=\"sk-toggleable__content\"><pre>passthrough</pre></div></div></div></div></div></div></div></div><div class=\"sk-item\"><div class=\"sk-estimator sk-toggleable\"><input class=\"sk-toggleable__control sk-hidden--visually\" id=\"sk-estimator-id-52\" type=\"checkbox\" ><label for=\"sk-estimator-id-52\" class=\"sk-toggleable__label sk-toggleable__label-arrow\">RobustScaler</label><div class=\"sk-toggleable__content\"><pre>RobustScaler()</pre></div></div></div><div class=\"sk-item\"><div class=\"sk-estimator sk-toggleable\"><input class=\"sk-toggleable__control sk-hidden--visually\" id=\"sk-estimator-id-53\" type=\"checkbox\" ><label for=\"sk-estimator-id-53\" class=\"sk-toggleable__label sk-toggleable__label-arrow\">SMOTE</label><div class=\"sk-toggleable__content\"><pre>SMOTE(sampling_strategy=1)</pre></div></div></div><div class=\"sk-item\"><div class=\"sk-estimator sk-toggleable\"><input class=\"sk-toggleable__control sk-hidden--visually\" id=\"sk-estimator-id-54\" type=\"checkbox\" ><label for=\"sk-estimator-id-54\" class=\"sk-toggleable__label sk-toggleable__label-arrow\">LogisticRegression</label><div class=\"sk-toggleable__content\"><pre>LogisticRegression(C=1000, penalty=&#x27;l1&#x27;, random_state=200, solver=&#x27;liblinear&#x27;)</pre></div></div></div></div></div></div></div>"
      ],
      "text/plain": [
       "Pipeline(steps=[('preprocess',\n",
       "                 ColumnTransformer(remainder='passthrough',\n",
       "                                   transformers=[('onehot',\n",
       "                                                  OneHotEncoder(drop='first'),\n",
       "                                                  ['Dependents',\n",
       "                                                   'OnlineSecurity',\n",
       "                                                   'TechSupport', 'Contract',\n",
       "                                                   'PaperlessBilling'])])),\n",
       "                ('scaler', RobustScaler()),\n",
       "                ('balance', SMOTE(sampling_strategy=1)),\n",
       "                ('model',\n",
       "                 LogisticRegression(C=1000, penalty='l1', random_state=200,\n",
       "                                    solver='liblinear'))])"
      ]
     },
     "execution_count": 62,
     "metadata": {},
     "output_type": "execute_result"
    }
   ],
   "source": [
    "best_model = grid_s.best_estimator_\n",
    "best_model.fit(x_train, y_train)"
   ]
  },
  {
   "cell_type": "code",
   "execution_count": 63,
   "id": "644f6811-e1d6-4e0d-9d7d-12aa31c22968",
   "metadata": {
    "tags": []
   },
   "outputs": [
    {
     "data": {
      "text/html": [
       "<style>#sk-container-id-7 {color: black;background-color: white;}#sk-container-id-7 pre{padding: 0;}#sk-container-id-7 div.sk-toggleable {background-color: white;}#sk-container-id-7 label.sk-toggleable__label {cursor: pointer;display: block;width: 100%;margin-bottom: 0;padding: 0.3em;box-sizing: border-box;text-align: center;}#sk-container-id-7 label.sk-toggleable__label-arrow:before {content: \"▸\";float: left;margin-right: 0.25em;color: #696969;}#sk-container-id-7 label.sk-toggleable__label-arrow:hover:before {color: black;}#sk-container-id-7 div.sk-estimator:hover label.sk-toggleable__label-arrow:before {color: black;}#sk-container-id-7 div.sk-toggleable__content {max-height: 0;max-width: 0;overflow: hidden;text-align: left;background-color: #f0f8ff;}#sk-container-id-7 div.sk-toggleable__content pre {margin: 0.2em;color: black;border-radius: 0.25em;background-color: #f0f8ff;}#sk-container-id-7 input.sk-toggleable__control:checked~div.sk-toggleable__content {max-height: 200px;max-width: 100%;overflow: auto;}#sk-container-id-7 input.sk-toggleable__control:checked~label.sk-toggleable__label-arrow:before {content: \"▾\";}#sk-container-id-7 div.sk-estimator input.sk-toggleable__control:checked~label.sk-toggleable__label {background-color: #d4ebff;}#sk-container-id-7 div.sk-label input.sk-toggleable__control:checked~label.sk-toggleable__label {background-color: #d4ebff;}#sk-container-id-7 input.sk-hidden--visually {border: 0;clip: rect(1px 1px 1px 1px);clip: rect(1px, 1px, 1px, 1px);height: 1px;margin: -1px;overflow: hidden;padding: 0;position: absolute;width: 1px;}#sk-container-id-7 div.sk-estimator {font-family: monospace;background-color: #f0f8ff;border: 1px dotted black;border-radius: 0.25em;box-sizing: border-box;margin-bottom: 0.5em;}#sk-container-id-7 div.sk-estimator:hover {background-color: #d4ebff;}#sk-container-id-7 div.sk-parallel-item::after {content: \"\";width: 100%;border-bottom: 1px solid gray;flex-grow: 1;}#sk-container-id-7 div.sk-label:hover label.sk-toggleable__label {background-color: #d4ebff;}#sk-container-id-7 div.sk-serial::before {content: \"\";position: absolute;border-left: 1px solid gray;box-sizing: border-box;top: 0;bottom: 0;left: 50%;z-index: 0;}#sk-container-id-7 div.sk-serial {display: flex;flex-direction: column;align-items: center;background-color: white;padding-right: 0.2em;padding-left: 0.2em;position: relative;}#sk-container-id-7 div.sk-item {position: relative;z-index: 1;}#sk-container-id-7 div.sk-parallel {display: flex;align-items: stretch;justify-content: center;background-color: white;position: relative;}#sk-container-id-7 div.sk-item::before, #sk-container-id-7 div.sk-parallel-item::before {content: \"\";position: absolute;border-left: 1px solid gray;box-sizing: border-box;top: 0;bottom: 0;left: 50%;z-index: -1;}#sk-container-id-7 div.sk-parallel-item {display: flex;flex-direction: column;z-index: 1;position: relative;background-color: white;}#sk-container-id-7 div.sk-parallel-item:first-child::after {align-self: flex-end;width: 50%;}#sk-container-id-7 div.sk-parallel-item:last-child::after {align-self: flex-start;width: 50%;}#sk-container-id-7 div.sk-parallel-item:only-child::after {width: 0;}#sk-container-id-7 div.sk-dashed-wrapped {border: 1px dashed gray;margin: 0 0.4em 0.5em 0.4em;box-sizing: border-box;padding-bottom: 0.4em;background-color: white;}#sk-container-id-7 div.sk-label label {font-family: monospace;font-weight: bold;display: inline-block;line-height: 1.2em;}#sk-container-id-7 div.sk-label-container {text-align: center;}#sk-container-id-7 div.sk-container {/* jupyter's `normalize.less` sets `[hidden] { display: none; }` but bootstrap.min.css set `[hidden] { display: none !important; }` so we also need the `!important` here to be able to override the default hidden behavior on the sphinx rendered scikit-learn.org. See: https://github.com/scikit-learn/scikit-learn/issues/21755 */display: inline-block !important;position: relative;}#sk-container-id-7 div.sk-text-repr-fallback {display: none;}</style><div id=\"sk-container-id-7\" class=\"sk-top-container\"><div class=\"sk-text-repr-fallback\"><pre>Pipeline(steps=[(&#x27;preprocess&#x27;,\n",
       "                 ColumnTransformer(remainder=&#x27;passthrough&#x27;,\n",
       "                                   transformers=[(&#x27;onehot&#x27;,\n",
       "                                                  OneHotEncoder(drop=&#x27;first&#x27;),\n",
       "                                                  [&#x27;Dependents&#x27;,\n",
       "                                                   &#x27;OnlineSecurity&#x27;,\n",
       "                                                   &#x27;TechSupport&#x27;, &#x27;Contract&#x27;,\n",
       "                                                   &#x27;PaperlessBilling&#x27;])])),\n",
       "                (&#x27;scaler&#x27;, RobustScaler()), (&#x27;balance&#x27;, SMOTE()),\n",
       "                (&#x27;model&#x27;, LogisticRegression())])</pre><b>In a Jupyter environment, please rerun this cell to show the HTML representation or trust the notebook. <br />On GitHub, the HTML representation is unable to render, please try loading this page with nbviewer.org.</b></div><div class=\"sk-container\" hidden><div class=\"sk-item sk-dashed-wrapped\"><div class=\"sk-label-container\"><div class=\"sk-label sk-toggleable\"><input class=\"sk-toggleable__control sk-hidden--visually\" id=\"sk-estimator-id-55\" type=\"checkbox\" ><label for=\"sk-estimator-id-55\" class=\"sk-toggleable__label sk-toggleable__label-arrow\">Pipeline</label><div class=\"sk-toggleable__content\"><pre>Pipeline(steps=[(&#x27;preprocess&#x27;,\n",
       "                 ColumnTransformer(remainder=&#x27;passthrough&#x27;,\n",
       "                                   transformers=[(&#x27;onehot&#x27;,\n",
       "                                                  OneHotEncoder(drop=&#x27;first&#x27;),\n",
       "                                                  [&#x27;Dependents&#x27;,\n",
       "                                                   &#x27;OnlineSecurity&#x27;,\n",
       "                                                   &#x27;TechSupport&#x27;, &#x27;Contract&#x27;,\n",
       "                                                   &#x27;PaperlessBilling&#x27;])])),\n",
       "                (&#x27;scaler&#x27;, RobustScaler()), (&#x27;balance&#x27;, SMOTE()),\n",
       "                (&#x27;model&#x27;, LogisticRegression())])</pre></div></div></div><div class=\"sk-serial\"><div class=\"sk-item sk-dashed-wrapped\"><div class=\"sk-label-container\"><div class=\"sk-label sk-toggleable\"><input class=\"sk-toggleable__control sk-hidden--visually\" id=\"sk-estimator-id-56\" type=\"checkbox\" ><label for=\"sk-estimator-id-56\" class=\"sk-toggleable__label sk-toggleable__label-arrow\">preprocess: ColumnTransformer</label><div class=\"sk-toggleable__content\"><pre>ColumnTransformer(remainder=&#x27;passthrough&#x27;,\n",
       "                  transformers=[(&#x27;onehot&#x27;, OneHotEncoder(drop=&#x27;first&#x27;),\n",
       "                                 [&#x27;Dependents&#x27;, &#x27;OnlineSecurity&#x27;, &#x27;TechSupport&#x27;,\n",
       "                                  &#x27;Contract&#x27;, &#x27;PaperlessBilling&#x27;])])</pre></div></div></div><div class=\"sk-parallel\"><div class=\"sk-parallel-item\"><div class=\"sk-item\"><div class=\"sk-label-container\"><div class=\"sk-label sk-toggleable\"><input class=\"sk-toggleable__control sk-hidden--visually\" id=\"sk-estimator-id-57\" type=\"checkbox\" ><label for=\"sk-estimator-id-57\" class=\"sk-toggleable__label sk-toggleable__label-arrow\">onehot</label><div class=\"sk-toggleable__content\"><pre>[&#x27;Dependents&#x27;, &#x27;OnlineSecurity&#x27;, &#x27;TechSupport&#x27;, &#x27;Contract&#x27;, &#x27;PaperlessBilling&#x27;]</pre></div></div></div><div class=\"sk-serial\"><div class=\"sk-item\"><div class=\"sk-estimator sk-toggleable\"><input class=\"sk-toggleable__control sk-hidden--visually\" id=\"sk-estimator-id-58\" type=\"checkbox\" ><label for=\"sk-estimator-id-58\" class=\"sk-toggleable__label sk-toggleable__label-arrow\">OneHotEncoder</label><div class=\"sk-toggleable__content\"><pre>OneHotEncoder(drop=&#x27;first&#x27;)</pre></div></div></div></div></div></div><div class=\"sk-parallel-item\"><div class=\"sk-item\"><div class=\"sk-label-container\"><div class=\"sk-label sk-toggleable\"><input class=\"sk-toggleable__control sk-hidden--visually\" id=\"sk-estimator-id-59\" type=\"checkbox\" ><label for=\"sk-estimator-id-59\" class=\"sk-toggleable__label sk-toggleable__label-arrow\">remainder</label><div class=\"sk-toggleable__content\"><pre>[&#x27;tenure&#x27;, &#x27;MonthlyCharges&#x27;]</pre></div></div></div><div class=\"sk-serial\"><div class=\"sk-item\"><div class=\"sk-estimator sk-toggleable\"><input class=\"sk-toggleable__control sk-hidden--visually\" id=\"sk-estimator-id-60\" type=\"checkbox\" ><label for=\"sk-estimator-id-60\" class=\"sk-toggleable__label sk-toggleable__label-arrow\">passthrough</label><div class=\"sk-toggleable__content\"><pre>passthrough</pre></div></div></div></div></div></div></div></div><div class=\"sk-item\"><div class=\"sk-estimator sk-toggleable\"><input class=\"sk-toggleable__control sk-hidden--visually\" id=\"sk-estimator-id-61\" type=\"checkbox\" ><label for=\"sk-estimator-id-61\" class=\"sk-toggleable__label sk-toggleable__label-arrow\">RobustScaler</label><div class=\"sk-toggleable__content\"><pre>RobustScaler()</pre></div></div></div><div class=\"sk-item\"><div class=\"sk-estimator sk-toggleable\"><input class=\"sk-toggleable__control sk-hidden--visually\" id=\"sk-estimator-id-62\" type=\"checkbox\" ><label for=\"sk-estimator-id-62\" class=\"sk-toggleable__label sk-toggleable__label-arrow\">SMOTE</label><div class=\"sk-toggleable__content\"><pre>SMOTE()</pre></div></div></div><div class=\"sk-item\"><div class=\"sk-estimator sk-toggleable\"><input class=\"sk-toggleable__control sk-hidden--visually\" id=\"sk-estimator-id-63\" type=\"checkbox\" ><label for=\"sk-estimator-id-63\" class=\"sk-toggleable__label sk-toggleable__label-arrow\">LogisticRegression</label><div class=\"sk-toggleable__content\"><pre>LogisticRegression()</pre></div></div></div></div></div></div></div>"
      ],
      "text/plain": [
       "Pipeline(steps=[('preprocess',\n",
       "                 ColumnTransformer(remainder='passthrough',\n",
       "                                   transformers=[('onehot',\n",
       "                                                  OneHotEncoder(drop='first'),\n",
       "                                                  ['Dependents',\n",
       "                                                   'OnlineSecurity',\n",
       "                                                   'TechSupport', 'Contract',\n",
       "                                                   'PaperlessBilling'])])),\n",
       "                ('scaler', RobustScaler()), ('balance', SMOTE()),\n",
       "                ('model', LogisticRegression())])"
      ]
     },
     "execution_count": 63,
     "metadata": {},
     "output_type": "execute_result"
    }
   ],
   "source": [
    "# pendefinisian model Logistic Regression dengan parameter default\n",
    "estimator = Pipeline([\n",
    "    ('preprocess',transformer),\n",
    "    ('scaler', scaler),\n",
    "    ('balance', smote),\n",
    "    ('model',logreg)\n",
    "])\n",
    "estimator.fit(x_train, y_train)"
   ]
  },
  {
   "cell_type": "code",
   "execution_count": 64,
   "id": "13ed6937-8710-4547-8e2f-5fd6057b191c",
   "metadata": {
    "tags": []
   },
   "outputs": [
    {
     "name": "stdout",
     "output_type": "stream",
     "text": [
      "Best Parameters: {'balance__sampling_strategy': 1, 'model__C': 1000, 'model__penalty': 'l1', 'model__random_state': 200, 'model__solver': 'liblinear'}\n"
     ]
    }
   ],
   "source": [
    "# mencari best parameter setelah tuning\n",
    "best_params = grid_s.best_params_\n",
    "print(\"Best Parameters:\", best_params)"
   ]
  },
  {
   "cell_type": "markdown",
   "id": "598b3561-33a6-4a87-8de4-bd486e52e231",
   "metadata": {},
   "source": [
    "default dari parameter model LogisticRegression : `penalty`='l2', `C`=1.0, `solver`='lbfgs'\n"
   ]
  },
  {
   "cell_type": "code",
   "execution_count": 65,
   "id": "4edfa788-9bac-4bcf-ac01-c588a0934e0e",
   "metadata": {
    "tags": []
   },
   "outputs": [
    {
     "name": "stdout",
     "output_type": "stream",
     "text": [
      "ROC AUC Score default - Logistic Regression SMOTE :  0.8399095856741574\n",
      "ROC AUC Score Tuned - Logistic Regression SMOTE :  0.8392292837078653\n"
     ]
    }
   ],
   "source": [
    "# melakukan prediksi pada data test dan menampilkan ROC AUC score\n",
    "y_pred_default = estimator.predict(x_test)\n",
    "y_pred_proba_default = estimator.predict_proba(x_test)\n",
    "y_pred_tuned = best_model.predict(x_test)\n",
    "y_pred_proba_tuned = best_model.predict_proba(x_test)\n",
    "\n",
    "roc_auc_default = roc_auc_score(y_test, y_pred_proba_default[:,1])\n",
    "roc_auc_tuned = roc_auc_score(y_test, y_pred_proba_tuned[:,1])\n",
    "\n",
    "print('ROC AUC Score default - Logistic Regression SMOTE : ', roc_auc_default)\n",
    "print('ROC AUC Score Tuned - Logistic Regression SMOTE : ', roc_auc_tuned)"
   ]
  },
  {
   "cell_type": "code",
   "execution_count": 66,
   "id": "bbc205f0-7bc1-4954-aa1e-44c63b5be5b4",
   "metadata": {
    "tags": []
   },
   "outputs": [
    {
     "name": "stdout",
     "output_type": "stream",
     "text": [
      "Classification Report Default - Logistic Regression SMOTE : \n",
      "               precision    recall  f1-score   support\n",
      "\n",
      "           0       0.91      0.70      0.79       712\n",
      "           1       0.49      0.82      0.61       256\n",
      "\n",
      "    accuracy                           0.73       968\n",
      "   macro avg       0.70      0.76      0.70       968\n",
      "weighted avg       0.80      0.73      0.74       968\n",
      "\n",
      "Classification Report Tuned - Logistic Regression SMOTE : \n",
      "               precision    recall  f1-score   support\n",
      "\n",
      "           0       0.91      0.70      0.79       712\n",
      "           1       0.50      0.82      0.62       256\n",
      "\n",
      "    accuracy                           0.73       968\n",
      "   macro avg       0.71      0.76      0.71       968\n",
      "weighted avg       0.80      0.73      0.75       968\n",
      "\n"
     ]
    }
   ],
   "source": [
    "# menampilkan Classification Report\n",
    "report_default = classification_report(y_test, y_pred_default)\n",
    "report_tuned = classification_report(y_test, y_pred_tuned)\n",
    "\n",
    "print('Classification Report Default - Logistic Regression SMOTE : \\n', report_default)\n",
    "print('Classification Report Tuned - Logistic Regression SMOTE : \\n', report_tuned)"
   ]
  },
  {
   "cell_type": "markdown",
   "id": "7bd38584-cdc5-43fb-821d-3efcaf81c745",
   "metadata": {},
   "source": [
    "**Kesimpulan**\n",
    "\n",
    "Dapat dilihat bahwa dari model Logistic Regression sebelum imbalance handling (dalam %) :\n",
    "- precision 65\n",
    "- recall 55\n",
    "- f1-score 60\n",
    "- ROC AUC score 84\n",
    "\n",
    "Logistic Regression dengan SMOTE (dalam %) :\n",
    "- precision 49\n",
    "- recall 82\n",
    "- f1-score 61\n",
    "- ROC AUC score 83.9\n",
    "\n",
    "Logistic Regression dengan SMOTE setelah hyperparameter tune (dalam %) :\n",
    "- precision 50\n",
    "- recall 82\n",
    "- f1-score 62\n",
    "- ROC AUC score 83.9\n",
    "\n",
    "Pada hasil di atas dapat ditarik kesimpulan bahwa precision menurun sekitar 15% dari sebelum imbalance handling-tuning yaitu 65% menjadi 50% setelah imbalance handling-tuning. Recall meningkat sekitar 27% dari sebelum imbalance handling-tuning yaitu 55 menjadi 82 setelah imbalance handling-tuning. Untuk score ROC-AUC bisa dianggap sama."
   ]
  },
  {
   "cell_type": "markdown",
   "id": "b5bf5c3c-2049-4024-a351-d32f1e363dea",
   "metadata": {},
   "source": [
    "### Feature Importances"
   ]
  },
  {
   "cell_type": "code",
   "execution_count": 40,
   "id": "e9496b58-7744-48f8-93d3-dbc0de338166",
   "metadata": {
    "tags": []
   },
   "outputs": [
    {
     "data": {
      "image/png": "[encoded data removed]",
      "text/plain": [
       "<Figure size 1000x600 with 1 Axes>"
      ]
     },
     "metadata": {},
     "output_type": "display_data"
    }
   ],
   "source": [
    "koefisien = best_model['model'].coef_.flatten()\n",
    "fitur = transformer.get_feature_names_out()\n",
    "\n",
    "df_fitur_i = pd.DataFrame({'fitur': fitur, 'koefisien': koefisien})\n",
    "\n",
    "df_fitur_i['absolut_koefisien'] = df_fitur_i['koefisien'].abs()\n",
    "df_fitur_i = df_fitur_i.sort_values(by='absolut_koefisien', ascending=False).head(10)\n",
    "\n",
    "plt.figure(figsize=(10, 6))\n",
    "sns.barplot(x='koefisien', y='fitur', data=df_fitur_i, orient='h')\n",
    "plt.title('Top 10 Fitur Penting')\n",
    "plt.show()"
   ]
  },
  {
   "cell_type": "markdown",
   "id": "99165229-cb82-4594-96f0-c8143c4c9fce",
   "metadata": {},
   "source": [
    "Dapat dilihat fitur pada model yang sangat berpengaruh diantaranya adalah kolom Contract dan kolom Tenure. Berdasarkan pada bagian data analisis dapat disimpulkan kembali bahwa memang tenure berpengaruh terhadap churn pelanggan dimana pelanggan dengan tenure rendah cenderung akan churn sedangkan untuk contract `2 tahun` cenderung tidak akan churn bila dibandingkan dengan pelanggan yang contract-nya `bulanan`."
   ]
  },
  {
   "cell_type": "markdown",
   "id": "0a90b60f-b072-49c0-9fe9-75629f73b3d6",
   "metadata": {},
   "source": [
    "## Conclusion & Recommendation"
   ]
  },
  {
   "cell_type": "code",
   "execution_count": 67,
   "id": "34b18436-aab2-4585-819a-e7c8741f4533",
   "metadata": {},
   "outputs": [
    {
     "name": "stdout",
     "output_type": "stream",
     "text": [
      "Classification Report Tuned - Logistic Regression SMOTE : \n",
      "               precision    recall  f1-score   support\n",
      "\n",
      "           0       0.91      0.70      0.79       712\n",
      "           1       0.50      0.82      0.62       256\n",
      "\n",
      "    accuracy                           0.73       968\n",
      "   macro avg       0.71      0.76      0.71       968\n",
      "weighted avg       0.80      0.73      0.75       968\n",
      "\n"
     ]
    }
   ],
   "source": [
    "print('Classification Report Tuned - Logistic Regression SMOTE : \\n', report_tuned)"
   ]
  },
  {
   "cell_type": "markdown",
   "id": "799b384d-ae3e-4ff9-8322-be99b4d7f919",
   "metadata": {},
   "source": [
    "### Conclusion"
   ]
  },
  {
   "cell_type": "markdown",
   "id": "047e6583-58db-4993-8e36-dba5ca181f77",
   "metadata": {},
   "source": [
    "Dapat disimpulkan bahwa model dapat melakukan prediksi sebesar 82% dari total pelanggan yang akan churn (berhenti berlangganan) dan melakukan prediksi sebesar 70% dari total pelanggan yang tidak akan churn (tetap berlangganan).\n",
    "\n",
    "Kesimpulan lainnya adalah dari semua pelanggan yang diprediksi akan churn oleh model, hanya 50% dari prediksi tersebut yang benar-benar berhenti berlangganan. Selain itu ada juga pelanggan yang diprediksi akan churn tetapi tidak churn sebesar 30%.\n",
    "\n",
    "Bila kita membandingkan Logistic Regression tuned(SMOTE) dengan Logistic Regression default ada peningkatan pada f1-score kelas churn(1) dari 60% menjadi 62%. Sedangkan nilai ROC-AUC bernilai sama. Maka dari itu model yang akan digunakan adalah model Logistic Regression tuned(SMOTE)."
   ]
  },
  {
   "cell_type": "markdown",
   "id": "583558cf-117f-4d48-97c9-5046e646d734",
   "metadata": {},
   "source": [
    "### Recommendation"
   ]
  },
  {
   "cell_type": "markdown",
   "id": "c2b3a9d7-ad9a-4299-b86d-9fb5f8f32367",
   "metadata": {},
   "source": [
    "Adapun rekomendasi yang dapat diberikan :"
   ]
  },
  {
   "cell_type": "markdown",
   "id": "db77d83d-604c-4105-a5c9-95c5f840c3ae",
   "metadata": {},
   "source": [
    "1. **Memberikan diskon** untuk pelanggan yang terindikasi akan churn`\n",
    "\n",
    "Contoh kasus tanpa model :\n",
    "- Bila terdapat 500 pelanggan baru yang terdaftar (250 pelanggan akan churn dan 250 pelanggan tidak akan churn)\n",
    "- Pelanggan terindikasi churn adalah pelanggan yang tenure-nya <6 bulan dengan rata-rata 'MonthlyCharges' sebesar 56 USD\n",
    "- Apabila pelanggan dengan tenure <6 diberikan diskon sebesar 25% dari 56 USD = 14 USD\n",
    "- Total biaya untuk diskon adalah 14 USD * 250 = 7000 USD\n",
    "- Biaya kerugian karena salah sasaran yaitu = 3500 USD\n",
    "\n",
    "Contoh kasus dengan model :\n",
    "- Total biaya = (14 USD * 205) + (14 USD * 75) = 2870 + 1050 = 3920 USD\n",
    "- Biaya terbuang = 1050 USD\n",
    "- Biaya penghematan = 82% * 250 pelanggan * 14 USD = 2870 USD\n",
    "\n",
    "Dapat disimpulkan sebelum menggunakan model terdapat potensi kerugian sebesar 3500 USD namun setelah menggunakan model terdapat potensi penghematan sekitar 2870 USD."
   ]
  },
  {
   "cell_type": "markdown",
   "id": "821b9900-a8c7-47b1-9734-f266b623d0e7",
   "metadata": {},
   "source": [
    "2. **Meningkatkan kampanye** terkait layanan-layanan yang masih minim pelanggan seperti layanan `OnlineSecurity`, `OnlineBackup` dan `DeviceProtection`"
   ]
  },
  {
   "cell_type": "markdown",
   "id": "e9740e3c-0ea5-4f34-a82a-98d8b20be25e",
   "metadata": {},
   "source": [
    "3. **Menambah data observasi** dan fitur model untuk meningkatkan kualitas model"
   ]
  },
  {
   "cell_type": "markdown",
   "id": "069a371e-e01a-4326-babc-ec0891a14339",
   "metadata": {
    "tags": []
   },
   "source": [
    "4. **Rutin melakukan evaluasi model** karena hasil model dapat berubah seiring dengan bertambahnya jumlah observasi."
   ]
  },
  {
   "cell_type": "markdown",
   "id": "b77214fc-0288-4ac7-ac10-fdbb3ca619b0",
   "metadata": {},
   "source": [
    "## Save Model"
   ]
  },
  {
   "cell_type": "code",
   "execution_count": 76,
   "id": "cfad1b09-3ea5-4ca6-bde1-bb44bf721a05",
   "metadata": {
    "tags": []
   },
   "outputs": [
    {
     "data": {
      "text/html": [
       "<style>#sk-container-id-8 {color: black;background-color: white;}#sk-container-id-8 pre{padding: 0;}#sk-container-id-8 div.sk-toggleable {background-color: white;}#sk-container-id-8 label.sk-toggleable__label {cursor: pointer;display: block;width: 100%;margin-bottom: 0;padding: 0.3em;box-sizing: border-box;text-align: center;}#sk-container-id-8 label.sk-toggleable__label-arrow:before {content: \"▸\";float: left;margin-right: 0.25em;color: #696969;}#sk-container-id-8 label.sk-toggleable__label-arrow:hover:before {color: black;}#sk-container-id-8 div.sk-estimator:hover label.sk-toggleable__label-arrow:before {color: black;}#sk-container-id-8 div.sk-toggleable__content {max-height: 0;max-width: 0;overflow: hidden;text-align: left;background-color: #f0f8ff;}#sk-container-id-8 div.sk-toggleable__content pre {margin: 0.2em;color: black;border-radius: 0.25em;background-color: #f0f8ff;}#sk-container-id-8 input.sk-toggleable__control:checked~div.sk-toggleable__content {max-height: 200px;max-width: 100%;overflow: auto;}#sk-container-id-8 input.sk-toggleable__control:checked~label.sk-toggleable__label-arrow:before {content: \"▾\";}#sk-container-id-8 div.sk-estimator input.sk-toggleable__control:checked~label.sk-toggleable__label {background-color: #d4ebff;}#sk-container-id-8 div.sk-label input.sk-toggleable__control:checked~label.sk-toggleable__label {background-color: #d4ebff;}#sk-container-id-8 input.sk-hidden--visually {border: 0;clip: rect(1px 1px 1px 1px);clip: rect(1px, 1px, 1px, 1px);height: 1px;margin: -1px;overflow: hidden;padding: 0;position: absolute;width: 1px;}#sk-container-id-8 div.sk-estimator {font-family: monospace;background-color: #f0f8ff;border: 1px dotted black;border-radius: 0.25em;box-sizing: border-box;margin-bottom: 0.5em;}#sk-container-id-8 div.sk-estimator:hover {background-color: #d4ebff;}#sk-container-id-8 div.sk-parallel-item::after {content: \"\";width: 100%;border-bottom: 1px solid gray;flex-grow: 1;}#sk-container-id-8 div.sk-label:hover label.sk-toggleable__label {background-color: #d4ebff;}#sk-container-id-8 div.sk-serial::before {content: \"\";position: absolute;border-left: 1px solid gray;box-sizing: border-box;top: 0;bottom: 0;left: 50%;z-index: 0;}#sk-container-id-8 div.sk-serial {display: flex;flex-direction: column;align-items: center;background-color: white;padding-right: 0.2em;padding-left: 0.2em;position: relative;}#sk-container-id-8 div.sk-item {position: relative;z-index: 1;}#sk-container-id-8 div.sk-parallel {display: flex;align-items: stretch;justify-content: center;background-color: white;position: relative;}#sk-container-id-8 div.sk-item::before, #sk-container-id-8 div.sk-parallel-item::before {content: \"\";position: absolute;border-left: 1px solid gray;box-sizing: border-box;top: 0;bottom: 0;left: 50%;z-index: -1;}#sk-container-id-8 div.sk-parallel-item {display: flex;flex-direction: column;z-index: 1;position: relative;background-color: white;}#sk-container-id-8 div.sk-parallel-item:first-child::after {align-self: flex-end;width: 50%;}#sk-container-id-8 div.sk-parallel-item:last-child::after {align-self: flex-start;width: 50%;}#sk-container-id-8 div.sk-parallel-item:only-child::after {width: 0;}#sk-container-id-8 div.sk-dashed-wrapped {border: 1px dashed gray;margin: 0 0.4em 0.5em 0.4em;box-sizing: border-box;padding-bottom: 0.4em;background-color: white;}#sk-container-id-8 div.sk-label label {font-family: monospace;font-weight: bold;display: inline-block;line-height: 1.2em;}#sk-container-id-8 div.sk-label-container {text-align: center;}#sk-container-id-8 div.sk-container {/* jupyter's `normalize.less` sets `[hidden] { display: none; }` but bootstrap.min.css set `[hidden] { display: none !important; }` so we also need the `!important` here to be able to override the default hidden behavior on the sphinx rendered scikit-learn.org. See: https://github.com/scikit-learn/scikit-learn/issues/21755 */display: inline-block !important;position: relative;}#sk-container-id-8 div.sk-text-repr-fallback {display: none;}</style><div id=\"sk-container-id-8\" class=\"sk-top-container\"><div class=\"sk-text-repr-fallback\"><pre>Pipeline(steps=[(&#x27;preprocess&#x27;,\n",
       "                 ColumnTransformer(remainder=&#x27;passthrough&#x27;,\n",
       "                                   transformers=[(&#x27;onehot&#x27;,\n",
       "                                                  OneHotEncoder(drop=&#x27;first&#x27;),\n",
       "                                                  [&#x27;Dependents&#x27;,\n",
       "                                                   &#x27;OnlineSecurity&#x27;,\n",
       "                                                   &#x27;TechSupport&#x27;, &#x27;Contract&#x27;,\n",
       "                                                   &#x27;PaperlessBilling&#x27;])])),\n",
       "                (&#x27;scaler&#x27;, RobustScaler()),\n",
       "                (&#x27;balance&#x27;, SMOTE(sampling_strategy=1)),\n",
       "                (&#x27;model&#x27;,\n",
       "                 LogisticRegression(C=1000, penalty=&#x27;l1&#x27;, random_state=200,\n",
       "                                    solver=&#x27;liblinear&#x27;))])</pre><b>In a Jupyter environment, please rerun this cell to show the HTML representation or trust the notebook. <br />On GitHub, the HTML representation is unable to render, please try loading this page with nbviewer.org.</b></div><div class=\"sk-container\" hidden><div class=\"sk-item sk-dashed-wrapped\"><div class=\"sk-label-container\"><div class=\"sk-label sk-toggleable\"><input class=\"sk-toggleable__control sk-hidden--visually\" id=\"sk-estimator-id-64\" type=\"checkbox\" ><label for=\"sk-estimator-id-64\" class=\"sk-toggleable__label sk-toggleable__label-arrow\">Pipeline</label><div class=\"sk-toggleable__content\"><pre>Pipeline(steps=[(&#x27;preprocess&#x27;,\n",
       "                 ColumnTransformer(remainder=&#x27;passthrough&#x27;,\n",
       "                                   transformers=[(&#x27;onehot&#x27;,\n",
       "                                                  OneHotEncoder(drop=&#x27;first&#x27;),\n",
       "                                                  [&#x27;Dependents&#x27;,\n",
       "                                                   &#x27;OnlineSecurity&#x27;,\n",
       "                                                   &#x27;TechSupport&#x27;, &#x27;Contract&#x27;,\n",
       "                                                   &#x27;PaperlessBilling&#x27;])])),\n",
       "                (&#x27;scaler&#x27;, RobustScaler()),\n",
       "                (&#x27;balance&#x27;, SMOTE(sampling_strategy=1)),\n",
       "                (&#x27;model&#x27;,\n",
       "                 LogisticRegression(C=1000, penalty=&#x27;l1&#x27;, random_state=200,\n",
       "                                    solver=&#x27;liblinear&#x27;))])</pre></div></div></div><div class=\"sk-serial\"><div class=\"sk-item sk-dashed-wrapped\"><div class=\"sk-label-container\"><div class=\"sk-label sk-toggleable\"><input class=\"sk-toggleable__control sk-hidden--visually\" id=\"sk-estimator-id-65\" type=\"checkbox\" ><label for=\"sk-estimator-id-65\" class=\"sk-toggleable__label sk-toggleable__label-arrow\">preprocess: ColumnTransformer</label><div class=\"sk-toggleable__content\"><pre>ColumnTransformer(remainder=&#x27;passthrough&#x27;,\n",
       "                  transformers=[(&#x27;onehot&#x27;, OneHotEncoder(drop=&#x27;first&#x27;),\n",
       "                                 [&#x27;Dependents&#x27;, &#x27;OnlineSecurity&#x27;, &#x27;TechSupport&#x27;,\n",
       "                                  &#x27;Contract&#x27;, &#x27;PaperlessBilling&#x27;])])</pre></div></div></div><div class=\"sk-parallel\"><div class=\"sk-parallel-item\"><div class=\"sk-item\"><div class=\"sk-label-container\"><div class=\"sk-label sk-toggleable\"><input class=\"sk-toggleable__control sk-hidden--visually\" id=\"sk-estimator-id-66\" type=\"checkbox\" ><label for=\"sk-estimator-id-66\" class=\"sk-toggleable__label sk-toggleable__label-arrow\">onehot</label><div class=\"sk-toggleable__content\"><pre>[&#x27;Dependents&#x27;, &#x27;OnlineSecurity&#x27;, &#x27;TechSupport&#x27;, &#x27;Contract&#x27;, &#x27;PaperlessBilling&#x27;]</pre></div></div></div><div class=\"sk-serial\"><div class=\"sk-item\"><div class=\"sk-estimator sk-toggleable\"><input class=\"sk-toggleable__control sk-hidden--visually\" id=\"sk-estimator-id-67\" type=\"checkbox\" ><label for=\"sk-estimator-id-67\" class=\"sk-toggleable__label sk-toggleable__label-arrow\">OneHotEncoder</label><div class=\"sk-toggleable__content\"><pre>OneHotEncoder(drop=&#x27;first&#x27;)</pre></div></div></div></div></div></div><div class=\"sk-parallel-item\"><div class=\"sk-item\"><div class=\"sk-label-container\"><div class=\"sk-label sk-toggleable\"><input class=\"sk-toggleable__control sk-hidden--visually\" id=\"sk-estimator-id-68\" type=\"checkbox\" ><label for=\"sk-estimator-id-68\" class=\"sk-toggleable__label sk-toggleable__label-arrow\">remainder</label><div class=\"sk-toggleable__content\"><pre>[&#x27;tenure&#x27;, &#x27;MonthlyCharges&#x27;]</pre></div></div></div><div class=\"sk-serial\"><div class=\"sk-item\"><div class=\"sk-estimator sk-toggleable\"><input class=\"sk-toggleable__control sk-hidden--visually\" id=\"sk-estimator-id-69\" type=\"checkbox\" ><label for=\"sk-estimator-id-69\" class=\"sk-toggleable__label sk-toggleable__label-arrow\">passthrough</label><div class=\"sk-toggleable__content\"><pre>passthrough</pre></div></div></div></div></div></div></div></div><div class=\"sk-item\"><div class=\"sk-estimator sk-toggleable\"><input class=\"sk-toggleable__control sk-hidden--visually\" id=\"sk-estimator-id-70\" type=\"checkbox\" ><label for=\"sk-estimator-id-70\" class=\"sk-toggleable__label sk-toggleable__label-arrow\">RobustScaler</label><div class=\"sk-toggleable__content\"><pre>RobustScaler()</pre></div></div></div><div class=\"sk-item\"><div class=\"sk-estimator sk-toggleable\"><input class=\"sk-toggleable__control sk-hidden--visually\" id=\"sk-estimator-id-71\" type=\"checkbox\" ><label for=\"sk-estimator-id-71\" class=\"sk-toggleable__label sk-toggleable__label-arrow\">SMOTE</label><div class=\"sk-toggleable__content\"><pre>SMOTE(sampling_strategy=1)</pre></div></div></div><div class=\"sk-item\"><div class=\"sk-estimator sk-toggleable\"><input class=\"sk-toggleable__control sk-hidden--visually\" id=\"sk-estimator-id-72\" type=\"checkbox\" ><label for=\"sk-estimator-id-72\" class=\"sk-toggleable__label sk-toggleable__label-arrow\">LogisticRegression</label><div class=\"sk-toggleable__content\"><pre>LogisticRegression(C=1000, penalty=&#x27;l1&#x27;, random_state=200, solver=&#x27;liblinear&#x27;)</pre></div></div></div></div></div></div></div>"
      ],
      "text/plain": [
       "Pipeline(steps=[('preprocess',\n",
       "                 ColumnTransformer(remainder='passthrough',\n",
       "                                   transformers=[('onehot',\n",
       "                                                  OneHotEncoder(drop='first'),\n",
       "                                                  ['Dependents',\n",
       "                                                   'OnlineSecurity',\n",
       "                                                   'TechSupport', 'Contract',\n",
       "                                                   'PaperlessBilling'])])),\n",
       "                ('scaler', RobustScaler()),\n",
       "                ('balance', SMOTE(sampling_strategy=1)),\n",
       "                ('model',\n",
       "                 LogisticRegression(C=1000, penalty='l1', random_state=200,\n",
       "                                    solver='liblinear'))])"
      ]
     },
     "execution_count": 76,
     "metadata": {},
     "output_type": "execute_result"
    }
   ],
   "source": [
    "best_model"
   ]
  },
  {
   "cell_type": "code",
   "execution_count": 77,
   "id": "8ab69523-1519-4faa-abb1-1d9c17b93acd",
   "metadata": {
    "tags": []
   },
   "outputs": [],
   "source": [
    "# Save model\n",
    "import pickle\n",
    "\n",
    "pickle.dump(best_model, open('TelcoChurn_LGR_RianPratamaPutra.sav', 'wb'))"
   ]
  }
 ],
 "metadata": {
  "kernelspec": {
   "display_name": "Python 3 (ipykernel)",
   "language": "python",
   "name": "python3"
  },
  "language_info": {
   "codemirror_mode": {
    "name": "ipython",
    "version": 3
   },
   "file_extension": ".py",
   "mimetype": "text/x-python",
   "name": "python",
   "nbconvert_exporter": "python",
   "pygments_lexer": "ipython3",
   "version": "3.11.5"
  }
 },
 "nbformat": 4,
 "nbformat_minor": 5
}
